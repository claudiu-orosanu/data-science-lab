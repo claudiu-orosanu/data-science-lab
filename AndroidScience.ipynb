{
 "cells": [
  {
   "cell_type": "markdown",
   "metadata": {},
   "source": [
    "# Android Data from PlayStore"
   ]
  },
  {
   "cell_type": "code",
   "execution_count": 1,
   "metadata": {},
   "outputs": [
    {
     "data": {
      "text/html": [
       "<style>.container { width:100% !important; }</style>"
      ],
      "text/plain": [
       "<IPython.core.display.HTML object>"
      ]
     },
     "metadata": {},
     "output_type": "display_data"
    }
   ],
   "source": [
    "%matplotlib inline\n",
    "%load_ext autoreload\n",
    "%autoreload 2\n",
    "\n",
    "from IPython.core.interactiveshell import InteractiveShell\n",
    "InteractiveShell.ast_node_interactivity = \"all\"\n",
    "\n",
    "from IPython.core.display import display, HTML\n",
    "display(HTML(\"<style>.container { width:100% !important; }</style>\"))"
   ]
  },
  {
   "cell_type": "code",
   "execution_count": 2,
   "metadata": {},
   "outputs": [],
   "source": [
    "import pandas as pd\n",
    "import numpy as np\n",
    "import matplotlib.pyplot as plt\n",
    "import seaborn as sns"
   ]
  },
  {
   "cell_type": "code",
   "execution_count": 3,
   "metadata": {},
   "outputs": [
    {
     "name": "stdout",
     "output_type": "stream",
     "text": [
      "The autoreload extension is already loaded. To reload it, use:\n",
      "  %reload_ext autoreload\n"
     ]
    },
    {
     "data": {
      "text/html": [
       "<style>.container { width:100% !important; }</style>"
      ],
      "text/plain": [
       "<IPython.core.display.HTML object>"
      ]
     },
     "metadata": {},
     "output_type": "display_data"
    },
    {
     "name": "stdout",
     "output_type": "stream",
     "text": [
      "<class 'pandas.core.frame.DataFrame'>\n",
      "RangeIndex: 10841 entries, 0 to 10840\n",
      "Data columns (total 13 columns):\n",
      "name               10841 non-null object\n",
      "category           10841 non-null object\n",
      "rating             9367 non-null float64\n",
      "reviews            10841 non-null object\n",
      "size               10841 non-null object\n",
      "installs           10841 non-null object\n",
      "type               10840 non-null object\n",
      "price              10841 non-null object\n",
      "content_rating     10840 non-null object\n",
      "genres             10841 non-null object\n",
      "last_updated       10841 non-null object\n",
      "version            10833 non-null object\n",
      "android_version    10838 non-null object\n",
      "dtypes: float64(1), object(12)\n",
      "memory usage: 1.1+ MB\n",
      "Number of duplicate entries : 1181\n",
      "Original values : ['Free' 'Paid' nan]\n",
      "Unique genres before preprocessing : 118\n",
      " Apps with more than one genre : 393 \n",
      "Unique genres : 48\n",
      "Oldest updated app : 2010\n",
      "Longest app name with 25 words : 591 housing transactions - renting houses, middle-class houses, new cases, real-time registration, villas through the sky, apartment suites, MRT, buying a house selling prices, housing mortgages\n",
      "Shortes app name with 1 words : REPUVE\n",
      "Ignore all the gibberish above ! Dataframe is loaded ! \n"
     ]
    }
   ],
   "source": [
    "# load data\n",
    "%run ./Preprocessing.ipynb\n",
    "df = get_data();\n",
    "orig_df = df.copy();"
   ]
  },
  {
   "cell_type": "markdown",
   "metadata": {},
   "source": [
    "# Science\n",
    "\n",
    "We transformed the problem in a classification one. Now rating can be *poor* (< 4) and *excellent* (>=4). \n",
    "\n",
    "We achieved the following : \n",
    "- 70% with RandomForest(n_estimators = 100)\n",
    "\n",
    "Notes : \n",
    "- RandomForest clearly tends to overfit. Reducing the complexity of the tree algorithm doesn't improve accuracy in cross validation by no means. \n",
    "    + this may mean that the model is too complex. reducing the number of features took into account can help\n",
    "**Next thing** : We should try adding or changing the features of data, and try more values for the hyperparameters of the algorithm"
   ]
  },
  {
   "cell_type": "code",
   "execution_count": 4,
   "metadata": {},
   "outputs": [],
   "source": [
    "df = orig_df.copy()"
   ]
  },
  {
   "cell_type": "code",
   "execution_count": 5,
   "metadata": {},
   "outputs": [
    {
     "name": "stdout",
     "output_type": "stream",
     "text": [
      "['category', 'rating', 'reviews', 'size', 'installs', 'type', 'price', 'content_rating', 'genres', 'version', 'android_version', 'price_rounded', 'last_updated_days', 'last_updated_year', 'last_updated_month', 'last_updated_day', 'last_updated_month_sin', 'last_updated_month_cos', 'name_wc']\n"
     ]
    }
   ],
   "source": [
    "features = df.columns.values.tolist()\n",
    "print(features)"
   ]
  },
  {
   "cell_type": "code",
   "execution_count": 6,
   "metadata": {},
   "outputs": [],
   "source": [
    "pre_features = ['category', 'size', 'type', 'price', 'content_rating', 'genres', 'name_wc', 'android_version']\n",
    "post_features = [feature for feature in df.columns.values if feature not in pre_features]\n",
    "log_features = ['reviews', 'installs', 'name_wc', 'size', 'rating']\n",
    "cat_features = ['category', 'type', 'content_rating', 'genres']"
   ]
  },
  {
   "cell_type": "code",
   "execution_count": 7,
   "metadata": {},
   "outputs": [],
   "source": [
    "use_categories = True\n",
    "if use_categories:\n",
    "    pre_features = list(set(pre_features + cat_features))\n",
    "    post_features = list(set(post_features + cat_features))\n",
    "else:\n",
    "    pre_features = [ft for ft in pre_features if ft not in cat_features]\n",
    "    post_features = [ft for ft in post_features if ft not in cat_features]"
   ]
  },
  {
   "cell_type": "code",
   "execution_count": 8,
   "metadata": {},
   "outputs": [
    {
     "name": "stdout",
     "output_type": "stream",
     "text": [
      "Features are : ['content_rating' 'price' 'type' 'category' 'size' 'android_version'\n",
      " 'name_wc' 'genres' 'installs']\n"
     ]
    }
   ],
   "source": [
    "predicted = ['installs']\n",
    "predictors = pre_features\n",
    "df = df[pre_features + predicted]\n",
    "print('Features are : %s' % df.columns.values)"
   ]
  },
  {
   "cell_type": "code",
   "execution_count": 9,
   "metadata": {},
   "outputs": [],
   "source": [
    "def onehot_columns(df, columns):\n",
    "    for col in columns:\n",
    "        df = pd.concat([df.drop(columns = [col]), pd.get_dummies(df[col], prefix = col)], axis = 1)\n",
    "    return df\n",
    "\n",
    "onehot = True\n",
    "if onehot:\n",
    "    df = onehot_columns(df, ['type', 'content_rating'])"
   ]
  },
  {
   "cell_type": "code",
   "execution_count": 10,
   "metadata": {},
   "outputs": [],
   "source": [
    "use_log = False\n",
    "if use_log:\n",
    "    df[log_features] = np.log(df[log_features])"
   ]
  },
  {
   "cell_type": "code",
   "execution_count": 11,
   "metadata": {},
   "outputs": [
    {
     "data": {
      "text/plain": [
       "(7726, 15)"
      ]
     },
     "execution_count": 11,
     "metadata": {},
     "output_type": "execute_result"
    },
    {
     "data": {
      "text/plain": [
       "(1932, 15)"
      ]
     },
     "execution_count": 11,
     "metadata": {},
     "output_type": "execute_result"
    }
   ],
   "source": [
    "from sklearn.model_selection import train_test_split\n",
    "train, test = train_test_split(df, test_size = 0.2, random_state = 42)\n",
    "train.shape\n",
    "test.shape"
   ]
  },
  {
   "cell_type": "code",
   "execution_count": 12,
   "metadata": {},
   "outputs": [
    {
     "data": {
      "text/html": [
       "<div>\n",
       "<style scoped>\n",
       "    .dataframe tbody tr th:only-of-type {\n",
       "        vertical-align: middle;\n",
       "    }\n",
       "\n",
       "    .dataframe tbody tr th {\n",
       "        vertical-align: top;\n",
       "    }\n",
       "\n",
       "    .dataframe thead th {\n",
       "        text-align: right;\n",
       "    }\n",
       "</style>\n",
       "<table border=\"1\" class=\"dataframe\">\n",
       "  <thead>\n",
       "    <tr style=\"text-align: right;\">\n",
       "      <th></th>\n",
       "      <th>price</th>\n",
       "      <th>category</th>\n",
       "      <th>size</th>\n",
       "      <th>android_version</th>\n",
       "      <th>name_wc</th>\n",
       "      <th>genres</th>\n",
       "      <th>installs</th>\n",
       "      <th>type_0</th>\n",
       "      <th>type_1</th>\n",
       "      <th>content_rating_0</th>\n",
       "      <th>content_rating_1</th>\n",
       "      <th>content_rating_2</th>\n",
       "      <th>content_rating_3</th>\n",
       "      <th>content_rating_4</th>\n",
       "      <th>content_rating_5</th>\n",
       "    </tr>\n",
       "  </thead>\n",
       "  <tbody>\n",
       "    <tr>\n",
       "      <th>0</th>\n",
       "      <td>0.0</td>\n",
       "      <td>0</td>\n",
       "      <td>19000</td>\n",
       "      <td>4.0</td>\n",
       "      <td>6</td>\n",
       "      <td>0</td>\n",
       "      <td>10000</td>\n",
       "      <td>1</td>\n",
       "      <td>0</td>\n",
       "      <td>1</td>\n",
       "      <td>0</td>\n",
       "      <td>0</td>\n",
       "      <td>0</td>\n",
       "      <td>0</td>\n",
       "      <td>0</td>\n",
       "    </tr>\n",
       "    <tr>\n",
       "      <th>1</th>\n",
       "      <td>0.0</td>\n",
       "      <td>0</td>\n",
       "      <td>14000</td>\n",
       "      <td>4.0</td>\n",
       "      <td>3</td>\n",
       "      <td>0</td>\n",
       "      <td>500000</td>\n",
       "      <td>1</td>\n",
       "      <td>0</td>\n",
       "      <td>1</td>\n",
       "      <td>0</td>\n",
       "      <td>0</td>\n",
       "      <td>0</td>\n",
       "      <td>0</td>\n",
       "      <td>0</td>\n",
       "    </tr>\n",
       "    <tr>\n",
       "      <th>2</th>\n",
       "      <td>0.0</td>\n",
       "      <td>0</td>\n",
       "      <td>8700</td>\n",
       "      <td>4.0</td>\n",
       "      <td>10</td>\n",
       "      <td>0</td>\n",
       "      <td>5000000</td>\n",
       "      <td>1</td>\n",
       "      <td>0</td>\n",
       "      <td>1</td>\n",
       "      <td>0</td>\n",
       "      <td>0</td>\n",
       "      <td>0</td>\n",
       "      <td>0</td>\n",
       "      <td>0</td>\n",
       "    </tr>\n",
       "    <tr>\n",
       "      <th>3</th>\n",
       "      <td>0.0</td>\n",
       "      <td>0</td>\n",
       "      <td>25000</td>\n",
       "      <td>4.0</td>\n",
       "      <td>3</td>\n",
       "      <td>0</td>\n",
       "      <td>50000000</td>\n",
       "      <td>1</td>\n",
       "      <td>0</td>\n",
       "      <td>0</td>\n",
       "      <td>1</td>\n",
       "      <td>0</td>\n",
       "      <td>0</td>\n",
       "      <td>0</td>\n",
       "      <td>0</td>\n",
       "    </tr>\n",
       "    <tr>\n",
       "      <th>4</th>\n",
       "      <td>0.0</td>\n",
       "      <td>0</td>\n",
       "      <td>2800</td>\n",
       "      <td>4.0</td>\n",
       "      <td>6</td>\n",
       "      <td>0</td>\n",
       "      <td>100000</td>\n",
       "      <td>1</td>\n",
       "      <td>0</td>\n",
       "      <td>1</td>\n",
       "      <td>0</td>\n",
       "      <td>0</td>\n",
       "      <td>0</td>\n",
       "      <td>0</td>\n",
       "      <td>0</td>\n",
       "    </tr>\n",
       "  </tbody>\n",
       "</table>\n",
       "</div>"
      ],
      "text/plain": [
       "   price  category   size  android_version  name_wc  genres  installs  type_0  \\\n",
       "0    0.0         0  19000              4.0        6       0     10000       1   \n",
       "1    0.0         0  14000              4.0        3       0    500000       1   \n",
       "2    0.0         0   8700              4.0       10       0   5000000       1   \n",
       "3    0.0         0  25000              4.0        3       0  50000000       1   \n",
       "4    0.0         0   2800              4.0        6       0    100000       1   \n",
       "\n",
       "   type_1  content_rating_0  content_rating_1  content_rating_2  \\\n",
       "0       0                 1                 0                 0   \n",
       "1       0                 1                 0                 0   \n",
       "2       0                 1                 0                 0   \n",
       "3       0                 0                 1                 0   \n",
       "4       0                 1                 0                 0   \n",
       "\n",
       "   content_rating_3  content_rating_4  content_rating_5  \n",
       "0                 0                 0                 0  \n",
       "1                 0                 0                 0  \n",
       "2                 0                 0                 0  \n",
       "3                 0                 0                 0  \n",
       "4                 0                 0                 0  "
      ]
     },
     "execution_count": 12,
     "metadata": {},
     "output_type": "execute_result"
    }
   ],
   "source": [
    "df.head()"
   ]
  },
  {
   "cell_type": "markdown",
   "metadata": {},
   "source": [
    "## Preprocessing\n",
    "Missing values and outliers removal"
   ]
  },
  {
   "cell_type": "code",
   "execution_count": 13,
   "metadata": {},
   "outputs": [
    {
     "data": {
      "text/plain": [
       "(6156, 15)"
      ]
     },
     "execution_count": 13,
     "metadata": {},
     "output_type": "execute_result"
    },
    {
     "data": {
      "text/plain": [
       "(1524, 15)"
      ]
     },
     "execution_count": 13,
     "metadata": {},
     "output_type": "execute_result"
    }
   ],
   "source": [
    "from OutlierIQR import OutlierIQR\n",
    "to_remove_outliers = True\n",
    "outliers_cols = ['installs']\n",
    "if to_remove_outliers:\n",
    "    odetector = OutlierIQR()\n",
    "    odetector.fit(train, columns = ['installs'])\n",
    "    train = odetector.transform(train)\n",
    "    test = odetector.transform(test)\n",
    "train.shape\n",
    "test.shape"
   ]
  },
  {
   "cell_type": "code",
   "execution_count": 14,
   "metadata": {
    "scrolled": true
   },
   "outputs": [
    {
     "data": {
      "text/plain": [
       "SimpleImputer(copy=True, fill_value=None, missing_values=-1,\n",
       "       strategy='median', verbose=0)"
      ]
     },
     "execution_count": 14,
     "metadata": {},
     "output_type": "execute_result"
    }
   ],
   "source": [
    "# Impute missing values using the median so we will not treat them as outliers later\n",
    "from sklearn.impute import SimpleImputer\n",
    "imp = SimpleImputer(missing_values = -1, strategy='median')\n",
    "missing_features = ['android_version', 'size']\n",
    "imp.fit(train[missing_features])\n",
    "train.loc[:, missing_features] = imp.transform(train[missing_features])\n",
    "test.loc[:, missing_features] = imp.transform(test[missing_features])"
   ]
  },
  {
   "cell_type": "markdown",
   "metadata": {},
   "source": [
    "## Starting machine learning\n",
    "Split data into predictors and labels, both for train and test"
   ]
  },
  {
   "cell_type": "code",
   "execution_count": 15,
   "metadata": {},
   "outputs": [],
   "source": [
    "def split_samples_labels(df, label_column):\n",
    "    Y = df.copy()[label_column].values\n",
    "    X = df.drop(columns = label_column)\n",
    "#     bins = [Y.min(), np.percentile(Y, 50), Y.max()] # TOP 50%\n",
    "    bins = [Y.min(), np.percentile(Y, 70), Y.max()] # TOP 30%\n",
    "    Y[Y < bins[1]] = 0\n",
    "    Y[Y >= bins[1]] = 1\n",
    "    return X, Y"
   ]
  },
  {
   "cell_type": "code",
   "execution_count": 16,
   "metadata": {},
   "outputs": [
    {
     "data": {
      "text/plain": [
       "(6156, 14)"
      ]
     },
     "execution_count": 16,
     "metadata": {},
     "output_type": "execute_result"
    },
    {
     "data": {
      "text/plain": [
       "(1524, 14)"
      ]
     },
     "execution_count": 16,
     "metadata": {},
     "output_type": "execute_result"
    }
   ],
   "source": [
    "x_train, y_train = split_samples_labels(train, 'installs')\n",
    "x_test, y_test = split_samples_labels(test, 'installs')\n",
    "x_train.shape\n",
    "x_test.shape"
   ]
  },
  {
   "cell_type": "code",
   "execution_count": 17,
   "metadata": {},
   "outputs": [
    {
     "data": {
      "text/plain": [
       "3718"
      ]
     },
     "execution_count": 17,
     "metadata": {},
     "output_type": "execute_result"
    },
    {
     "data": {
      "text/plain": [
       "2438"
      ]
     },
     "execution_count": 17,
     "metadata": {},
     "output_type": "execute_result"
    },
    {
     "data": {
      "text/plain": [
       "100000"
      ]
     },
     "execution_count": 17,
     "metadata": {},
     "output_type": "execute_result"
    }
   ],
   "source": [
    "len(y_train[y_train==0])\n",
    "len(y_train[y_train==1])\n",
    "Y = train['installs'].values\n",
    "Y[y_train == 1].min()"
   ]
  },
  {
   "cell_type": "markdown",
   "metadata": {},
   "source": [
    "## Additional enhancements\n",
    "Oversampling and scaling"
   ]
  },
  {
   "cell_type": "code",
   "execution_count": 18,
   "metadata": {},
   "outputs": [
    {
     "data": {
      "text/plain": [
       "2438"
      ]
     },
     "execution_count": 18,
     "metadata": {},
     "output_type": "execute_result"
    },
    {
     "data": {
      "text/plain": [
       "3718"
      ]
     },
     "execution_count": 18,
     "metadata": {},
     "output_type": "execute_result"
    }
   ],
   "source": [
    "# the dataset is rather imbalanced, which will skew the results. So we reduce the number of big rating examples\n",
    "# we can also try upsampling the small rating examples\n",
    "from imblearn.under_sampling import RandomUnderSampler\n",
    "from imblearn.over_sampling import RandomOverSampler\n",
    "upsample = False\n",
    "downsample = False\n",
    "if upsample:\n",
    "    sampler = RandomOverSampler(random_state = 42)\n",
    "    x_train, y_train = sampler.fit_resample(x_train,y_train)\n",
    "elif downsample :\n",
    "    sampler = RandomUnderSampler(random_state=42)\n",
    "    x_train, y_train = sampler.fit_resample(x_train, y_train)\n",
    "len(y_train[y_train==1])\n",
    "len(y_train[y_train==0])"
   ]
  },
  {
   "cell_type": "code",
   "execution_count": 19,
   "metadata": {
    "scrolled": true
   },
   "outputs": [
    {
     "name": "stderr",
     "output_type": "stream",
     "text": [
      "D:\\Software\\anaconda3\\lib\\site-packages\\sklearn\\preprocessing\\data.py:625: DataConversionWarning: Data with input dtype uint8, int64, float64 were all converted to float64 by StandardScaler.\n",
      "  return self.partial_fit(X, y)\n"
     ]
    },
    {
     "data": {
      "text/plain": [
       "StandardScaler(copy=True, with_mean=True, with_std=True)"
      ]
     },
     "execution_count": 19,
     "metadata": {},
     "output_type": "execute_result"
    },
    {
     "name": "stderr",
     "output_type": "stream",
     "text": [
      "D:\\Software\\anaconda3\\lib\\site-packages\\ipykernel_launcher.py:7: DataConversionWarning: Data with input dtype uint8, int64, float64 were all converted to float64 by StandardScaler.\n",
      "  import sys\n",
      "D:\\Software\\anaconda3\\lib\\site-packages\\ipykernel_launcher.py:8: DataConversionWarning: Data with input dtype uint8, int64, float64 were all converted to float64 by StandardScaler.\n",
      "  \n"
     ]
    }
   ],
   "source": [
    "from sklearn import preprocessing\n",
    "# scale data if needed. forests and trees don't need it. Others do. \n",
    "scale = True\n",
    "if scale:\n",
    "    scaler = preprocessing.StandardScaler()\n",
    "    scaler.fit(x_train)\n",
    "    x_train = scaler.transform(x_train)\n",
    "    x_test = scaler.transform(x_test)"
   ]
  },
  {
   "cell_type": "code",
   "execution_count": 20,
   "metadata": {},
   "outputs": [],
   "source": [
    "from sklearn.decomposition import PCA\n",
    "pca = PCA(n_components = .99, random_state = 42);\n",
    "reduce = False\n",
    "if reduce : \n",
    "    pca.fit(x_train)\n",
    "    x_train = pca.transform(x_train)\n",
    "    x_test = pca.transform(x_test)"
   ]
  },
  {
   "cell_type": "code",
   "execution_count": 21,
   "metadata": {},
   "outputs": [
    {
     "data": {
      "text/plain": [
       "(6156, 14)"
      ]
     },
     "execution_count": 21,
     "metadata": {},
     "output_type": "execute_result"
    }
   ],
   "source": [
    "x_train.shape"
   ]
  },
  {
   "cell_type": "markdown",
   "metadata": {},
   "source": [
    "## Tuning models hyperparameters"
   ]
  },
  {
   "cell_type": "code",
   "execution_count": 22,
   "metadata": {},
   "outputs": [],
   "source": [
    "from sklearn.metrics import f1_score\n",
    "def f1_eval(clf, x, y_true):\n",
    "    y_pred = clf.predict(x)\n",
    "    return f1_score(y_true, y_pred)"
   ]
  },
  {
   "cell_type": "code",
   "execution_count": 23,
   "metadata": {},
   "outputs": [
    {
     "name": "stdout",
     "output_type": "stream",
     "text": [
      "Validation score : 0.52\n"
     ]
    },
    {
     "data": {
      "text/plain": [
       "KNeighborsClassifier(algorithm='auto', leaf_size=30, metric='minkowski',\n",
       "           metric_params=None, n_jobs=None, n_neighbors=5, p=2,\n",
       "           weights='uniform')"
      ]
     },
     "execution_count": 23,
     "metadata": {},
     "output_type": "execute_result"
    },
    {
     "name": "stdout",
     "output_type": "stream",
     "text": [
      "Test score : 0.55\n"
     ]
    }
   ],
   "source": [
    "from sklearn import ensemble, tree, svm, neighbors\n",
    "from sklearn.model_selection import cross_val_score\n",
    "# KNN - best is n_neighbors = 4\n",
    "# KNN is very much affected by random upsampling. because many entries are duplicates\n",
    "knn = neighbors.KNeighborsClassifier()\n",
    "scores = []\n",
    "fit_grid = False\n",
    "if fit_grid:\n",
    "    try_neighbors = range(1,15)\n",
    "    for n_neighbors in try_neighbors:\n",
    "        knn.n_neighbors = n_neighbors;\n",
    "        val_scores = cross_val_score(knn, x_train, y_train, cv = 3, scoring = 'f1' )\n",
    "        scores.append(val_scores.mean())\n",
    "    plt.plot(try_neighbors, scores, 'b*-');\n",
    "else:\n",
    "    knn.n_neighbors = 5\n",
    "    print('Validation score : %.2f' % cross_val_score(knn, x_train, y_train, cv = 3, scoring = 'f1').mean());\n",
    "    knn.fit(x_train, y_train);\n",
    "    print('Test score : %.2f' % f1_eval(knn, x_test, y_test));"
   ]
  },
  {
   "cell_type": "code",
   "execution_count": 101,
   "metadata": {},
   "outputs": [
    {
     "data": {
      "text/plain": [
       "SVC(C=10, cache_size=200, class_weight=None, coef0=0.0,\n",
       "  decision_function_shape='ovr', degree=3, gamma=2, kernel='rbf',\n",
       "  max_iter=-1, probability=True, random_state=42, shrinking=True, tol=0.3,\n",
       "  verbose=False)"
      ]
     },
     "execution_count": 101,
     "metadata": {},
     "output_type": "execute_result"
    },
    {
     "name": "stdout",
     "output_type": "stream",
     "text": [
      "Validation score 0.75\n",
      "Test score 0.50\n"
     ]
    }
   ],
   "source": [
    "# SVC\n",
    "from sklearn.model_selection import GridSearchCV\n",
    "svc = svm.SVC(kernel = 'rbf', random_state=42, probability = True,\n",
    "             C = 10, tol = .3, gamma = 2)\n",
    "fit_grid = False\n",
    "if fit_grid:\n",
    "    params = [{'kernel' : ['rbf'],\n",
    "            'gamma' : ['scale'],\n",
    "            'C' : [.1, 1, 10],\n",
    "            'tol' : [0.001, .01],\n",
    "            'gamma' : [8, 9, 10]}]\n",
    "    grid = GridSearchCV(estimator = svc,\n",
    "                  param_grid = params,\n",
    "                  cv = 3, iid = False,\n",
    "                  scoring = 'f1')\n",
    "    grid.fit(x_train, y_train)\n",
    "    grid.best_score_\n",
    "else :\n",
    "    svc.fit(x_train, y_train)\n",
    "    print('Validation score %.2f' % f1_eval(svc, x_train, y_train))\n",
    "    print('Test score %.2f' % f1_eval(svc, x_test, y_test))"
   ]
  },
  {
   "cell_type": "code",
   "execution_count": 24,
   "metadata": {},
   "outputs": [
    {
     "data": {
      "text/plain": [
       "RandomForestClassifier(bootstrap=True, class_weight=None, criterion='gini',\n",
       "            max_depth=15, max_features=3, max_leaf_nodes=None,\n",
       "            min_impurity_decrease=0.0, min_impurity_split=None,\n",
       "            min_samples_leaf=1, min_samples_split=0.001,\n",
       "            min_weight_fraction_leaf=0.0, n_estimators=200, n_jobs=None,\n",
       "            oob_score=False, random_state=42, verbose=0, warm_start=False)"
      ]
     },
     "execution_count": 24,
     "metadata": {},
     "output_type": "execute_result"
    },
    {
     "data": {
      "text/plain": [
       "0.7729011928876885"
      ]
     },
     "execution_count": 24,
     "metadata": {},
     "output_type": "execute_result"
    },
    {
     "data": {
      "text/plain": [
       "0.606822262118492"
      ]
     },
     "execution_count": 24,
     "metadata": {},
     "output_type": "execute_result"
    }
   ],
   "source": [
    "# Random Forest\n",
    "rf =  ensemble.RandomForestClassifier(n_estimators=200, max_features=3, \n",
    "                                      max_depth=15, min_samples_split=0.001, random_state=42)\n",
    "grid_fit = False\n",
    "if grid_fit:\n",
    "    params = {\n",
    "        'max_features' : [1, 2, 3, 4, 5, 6, 7, 8],\n",
    "        'max_depth' : [None, 4, 5, 6, 7, 8, 9, 10, 11, 12],\n",
    "        'min_samples_split' : [1.0, .1, .2, .3, .4, .5, .7, .8, .9],\n",
    "        'n_estimators': [100]\n",
    "    }\n",
    "    grid = GridSearchCV(\n",
    "        estimator = rf, \n",
    "        param_grid = params,\n",
    "        cv = 3, \n",
    "        iid = False, \n",
    "        return_train_score=True,\n",
    "        n_jobs=-1,\n",
    "        scoring = 'f1'\n",
    "    )\n",
    "    grid.fit(x_train, y_train)\n",
    "    grid.score(x_test, y_test)\n",
    "    print('Best score: %f' % grid.best_score_)\n",
    "    print('Best params: %s' % grid.best_params_)\n",
    "else:\n",
    "    rf.fit(x_train, y_train)\n",
    "    f1_eval(rf, x_train, y_train)\n",
    "    f1_eval(rf, x_test, y_test)"
   ]
  },
  {
   "cell_type": "code",
   "execution_count": 96,
   "metadata": {},
   "outputs": [
    {
     "data": {
      "text/plain": [
       "DecisionTreeClassifier(class_weight=None, criterion='gini', max_depth=20,\n",
       "            max_features=4, max_leaf_nodes=None, min_impurity_decrease=0.0,\n",
       "            min_impurity_split=None, min_samples_leaf=1,\n",
       "            min_samples_split=0.005, min_weight_fraction_leaf=0.0,\n",
       "            presort=False, random_state=42, splitter='best')"
      ]
     },
     "execution_count": 96,
     "metadata": {},
     "output_type": "execute_result"
    },
    {
     "data": {
      "text/plain": [
       "0.6767924949743132"
      ]
     },
     "execution_count": 96,
     "metadata": {},
     "output_type": "execute_result"
    },
    {
     "data": {
      "text/plain": [
       "0.5606326889279438"
      ]
     },
     "execution_count": 96,
     "metadata": {},
     "output_type": "execute_result"
    }
   ],
   "source": [
    "# Decision Tree\n",
    "dt = tree.DecisionTreeClassifier(max_depth=20, min_samples_split=0.005, max_features=4, random_state=42)\n",
    "grid_fit = False\n",
    "if grid_fit:\n",
    "    params = {\n",
    "        'max_features' : [1, 2, 3, 4, 5, 6, 7, 8],\n",
    "        'max_depth' : [None, 5, 10, 20, 30, 40, 50],\n",
    "        'min_samples_split' : [1.0, .1, .2, .3, .4, .5, .7, .8, .9],\n",
    "    }\n",
    "    grid = GridSearchCV(\n",
    "        estimator = dt,\n",
    "        param_grid = params,\n",
    "        cv = 3, \n",
    "        iid = False, \n",
    "        return_train_score=True,\n",
    "        scoring = 'f1'\n",
    "    )\n",
    "    grid.fit(x_train, y_train)\n",
    "    grid.score(x_test, y_test)\n",
    "    print('Best score: %f' % grid.best_score_)\n",
    "    print('Best params: %s' % grid.best_params_)\n",
    "else:\n",
    "    dt.fit(x_train, y_train)\n",
    "    f1_eval(dt, x_train, y_train)\n",
    "    f1_eval(dt, x_test, y_test)"
   ]
  },
  {
   "cell_type": "markdown",
   "metadata": {},
   "source": [
    "### Adaboost"
   ]
  },
  {
   "cell_type": "code",
   "execution_count": 97,
   "metadata": {},
   "outputs": [
    {
     "data": {
      "text/plain": [
       "AdaBoostClassifier(algorithm='SAMME.R', base_estimator=None,\n",
       "          learning_rate=1.0, n_estimators=500, random_state=42)"
      ]
     },
     "execution_count": 97,
     "metadata": {},
     "output_type": "execute_result"
    },
    {
     "data": {
      "text/plain": [
       "0.5848968105065665"
      ]
     },
     "execution_count": 97,
     "metadata": {},
     "output_type": "execute_result"
    },
    {
     "data": {
      "text/plain": [
       "0.5827205882352942"
      ]
     },
     "execution_count": 97,
     "metadata": {},
     "output_type": "execute_result"
    }
   ],
   "source": [
    "ada = ensemble.AdaBoostClassifier(\n",
    "    n_estimators=500,\n",
    "    base_estimator=None, # decision tree, by default\n",
    "    random_state = 42\n",
    ")\n",
    "grid_fit = False\n",
    "if grid_fit:\n",
    "    params = {\n",
    "        'n_estimators' : [50, 80, 100],\n",
    "        'learning_rate' : [.1, 1, 2]\n",
    "    }\n",
    "    grid = GridSearchCV(\n",
    "        estimator = ada,\n",
    "        param_grid = params,\n",
    "        cv = 3,\n",
    "        iid = False, \n",
    "        return_train_score=True,\n",
    "        n_jobs=-1,\n",
    "        scoring = 'f1'\n",
    "    )\n",
    "    grid.fit(x_train, y_train)\n",
    "    grid.score(x_test, y_test)\n",
    "    print('Best score: %f' % grid.best_score_)\n",
    "    print('Best params: %s' % grid.best_params_)\n",
    "else:\n",
    "    ada.fit(x_train, y_train)\n",
    "    f1_eval(ada, x_train, y_train)\n",
    "    f1_eval(ada, x_test, y_test)"
   ]
  },
  {
   "cell_type": "markdown",
   "metadata": {},
   "source": [
    "### Gradient Boosting"
   ]
  },
  {
   "cell_type": "code",
   "execution_count": 102,
   "metadata": {},
   "outputs": [
    {
     "data": {
      "text/plain": [
       "GradientBoostingClassifier(criterion='friedman_mse', init=None,\n",
       "              learning_rate=0.6, loss='deviance', max_depth=3,\n",
       "              max_features=None, max_leaf_nodes=None,\n",
       "              min_impurity_decrease=0.0, min_impurity_split=None,\n",
       "              min_samples_leaf=1, min_samples_split=2,\n",
       "              min_weight_fraction_leaf=0.0, n_estimators=500,\n",
       "              n_iter_no_change=None, presort='auto', random_state=42,\n",
       "              subsample=1, tol=0.0001, validation_fraction=0.1, verbose=0,\n",
       "              warm_start=False)"
      ]
     },
     "execution_count": 102,
     "metadata": {},
     "output_type": "execute_result"
    },
    {
     "data": {
      "text/plain": [
       "0.8214055448098"
      ]
     },
     "execution_count": 102,
     "metadata": {},
     "output_type": "execute_result"
    },
    {
     "data": {
      "text/plain": [
       "0.5869191049913942"
      ]
     },
     "execution_count": 102,
     "metadata": {},
     "output_type": "execute_result"
    }
   ],
   "source": [
    "gbc = ensemble.GradientBoostingClassifier(\n",
    "    n_estimators=500, \n",
    "    loss='deviance', \n",
    "    learning_rate=0.6, \n",
    "    subsample=1,\n",
    "    random_state = 42\n",
    ")\n",
    "grid_fit = False\n",
    "if grid_fit:\n",
    "    params = {\n",
    "        'n_estimators' : [100, 500, 1000],\n",
    "        'learning_rate' : [0.01, 0.1, 0.2],\n",
    "        'loss': ['deviance'],\n",
    "        'subsample': [1.0, 0.5, 0.8, 0.85, 0.9, 0.95]\n",
    "    }\n",
    "    grid = GridSearchCV(\n",
    "        estimator = gbc,\n",
    "        param_grid = params,\n",
    "        cv = 3,\n",
    "        iid = False, \n",
    "        return_train_score=True, \n",
    "        n_jobs=-1,\n",
    "        scoring = 'f1'\n",
    "    )\n",
    "    grid.fit(x_train, y_train)\n",
    "    grid.score(x_test, y_test)\n",
    "    print('Best score: %f' % grid.best_score_)\n",
    "    print('Best params: %s' % grid.best_params_)\n",
    "else:\n",
    "    gbc.fit(x_train, y_train)\n",
    "    f1_eval(gbc, x_train, y_train)\n",
    "    f1_eval(gbc, x_test, y_test)"
   ]
  },
  {
   "cell_type": "markdown",
   "metadata": {},
   "source": [
    "### Bagging"
   ]
  },
  {
   "cell_type": "code",
   "execution_count": 99,
   "metadata": {},
   "outputs": [
    {
     "data": {
      "text/plain": [
       "BaggingClassifier(base_estimator=None, bootstrap=True,\n",
       "         bootstrap_features=False, max_features=10, max_samples=500,\n",
       "         n_estimators=200, n_jobs=None, oob_score=False, random_state=42,\n",
       "         verbose=0, warm_start=False)"
      ]
     },
     "execution_count": 99,
     "metadata": {},
     "output_type": "execute_result"
    },
    {
     "data": {
      "text/plain": [
       "0.6522053506869125"
      ]
     },
     "execution_count": 99,
     "metadata": {},
     "output_type": "execute_result"
    },
    {
     "data": {
      "text/plain": [
       "0.576303317535545"
      ]
     },
     "execution_count": 99,
     "metadata": {},
     "output_type": "execute_result"
    }
   ],
   "source": [
    "bag = ensemble.BaggingClassifier(\n",
    "    base_estimator=None, # decision tree, by default\n",
    "    n_estimators=200,\n",
    "    max_samples=500,\n",
    "    max_features=10,\n",
    "    random_state = 42\n",
    ")\n",
    "grid_fit = False\n",
    "if grid_fit:\n",
    "    params = {\n",
    "        'n_estimators' : [20, 50, 80, 100, 200],\n",
    "        'max_samples' : [1, 2, 3, 5],\n",
    "        'max_features': [1, 2, 3, 5]\n",
    "    }\n",
    "    grid = GridSearchCV(estimator = bag,\n",
    "                  param_grid = params,\n",
    "                  cv = 5, iid = False, return_train_score=True, n_jobs=-1,\n",
    "                  scoring = 'f1')\n",
    "    grid.fit(x_train, y_train)\n",
    "    grid.score(x_test, y_test)\n",
    "    grid.best_params_\n",
    "else:\n",
    "    bag.fit(x_train, y_train)\n",
    "    f1_eval(bag, x_train, y_train)\n",
    "    f1_eval(bag, x_test, y_test)"
   ]
  },
  {
   "cell_type": "markdown",
   "metadata": {},
   "source": [
    "### XGBoost"
   ]
  },
  {
   "cell_type": "code",
   "execution_count": 106,
   "metadata": {},
   "outputs": [
    {
     "data": {
      "text/plain": [
       "XGBClassifier(base_score=0.5, booster='gbtree', colsample_bylevel=1,\n",
       "       colsample_bytree=0.6, gamma=2, learning_rate=0.05, max_delta_step=0,\n",
       "       max_depth=5, min_child_weight=1, missing=None, n_estimators=1500,\n",
       "       n_jobs=1, nthread=None, objective='binary:logistic', random_state=0,\n",
       "       reg_alpha=0.3, reg_lambda=1, scale_pos_weight=1, seed=None,\n",
       "       silent=False, subsample=0.5)"
      ]
     },
     "execution_count": 106,
     "metadata": {},
     "output_type": "execute_result"
    },
    {
     "data": {
      "text/plain": [
       "0.7116237799467613"
      ]
     },
     "execution_count": 106,
     "metadata": {},
     "output_type": "execute_result"
    },
    {
     "data": {
      "text/plain": [
       "0.6200177147918512"
      ]
     },
     "execution_count": 106,
     "metadata": {},
     "output_type": "execute_result"
    }
   ],
   "source": [
    "import xgboost\n",
    "from sklearn.model_selection import GridSearchCV\n",
    "\n",
    "xgb = xgboost.XGBClassifier(silent=False, \n",
    "                      scale_pos_weight=1,\n",
    "                      learning_rate=0.05,\n",
    "                      colsample_bytree = 0.6,\n",
    "                      subsample = 0.5,\n",
    "                      n_estimators=1500, \n",
    "                      reg_alpha = 0.3,\n",
    "                      max_depth=5,\n",
    "                      gamma=2)\n",
    "\n",
    "grid_fit = False\n",
    "if grid_fit:\n",
    "    params = {\n",
    "        'n_estimators' : [ 700, 1000],\n",
    "        'max_depth' : [2,3,4],\n",
    "        'learning_rate': [0.1],\n",
    "        'gamma': [0.00001, 0.0001, .001,]\n",
    "    }\n",
    "    grid = GridSearchCV(estimator = xgb,\n",
    "                  param_grid = params,\n",
    "                  cv = 3, iid = False, return_train_score=True, n_jobs=-1,\n",
    "                       scoring = 'f1')\n",
    "    grid.fit(x_train, y_train)\n",
    "    grid.score(x_test, y_test)\n",
    "    grid.best_params_\n",
    "else:\n",
    "    xgb.fit(x_train, y_train)\n",
    "    f1_eval(xgb, x_train, y_train)\n",
    "    f1_eval(xgb, x_test, y_test)\n",
    "#     eval_set = [(x_train, y_train), (x_test, y_test)]\n",
    "#     eval_metric = [\"f1\",\"error\"]\n",
    "#     %time xgb.fit(x_train, y_train, eval_metric=eval_metric, eval_set=eval_set, verbose=True)"
   ]
  },
  {
   "cell_type": "code",
   "execution_count": 108,
   "metadata": {},
   "outputs": [
    {
     "data": {
      "text/plain": [
       "[(0.8214055448098,\n",
       "  GradientBoostingClassifier(criterion='friedman_mse', init=None,\n",
       "                learning_rate=0.6, loss='deviance', max_depth=3,\n",
       "                max_features=None, max_leaf_nodes=None,\n",
       "                min_impurity_decrease=0.0, min_impurity_split=None,\n",
       "                min_samples_leaf=1, min_samples_split=2,\n",
       "                min_weight_fraction_leaf=0.0, n_estimators=500,\n",
       "                n_iter_no_change=None, presort='auto', random_state=42,\n",
       "                subsample=1, tol=0.0001, validation_fraction=0.1, verbose=0,\n",
       "                warm_start=False)),\n",
       " (0.7729011928876885,\n",
       "  RandomForestClassifier(bootstrap=True, class_weight=None, criterion='gini',\n",
       "              max_depth=15, max_features=3, max_leaf_nodes=None,\n",
       "              min_impurity_decrease=0.0, min_impurity_split=None,\n",
       "              min_samples_leaf=1, min_samples_split=0.001,\n",
       "              min_weight_fraction_leaf=0.0, n_estimators=200, n_jobs=None,\n",
       "              oob_score=False, random_state=42, verbose=0, warm_start=False)),\n",
       " (0.7705962676376877,\n",
       "  VotingClassifier(estimators=[('SVC', SVC(C=10, cache_size=200, class_weight=None, coef0=0.0,\n",
       "    decision_function_shape='ovr', degree=3, gamma=2, kernel='rbf',\n",
       "    max_iter=-1, probability=True, random_state=42, shrinking=True, tol=0.3,\n",
       "    verbose=False)), ('RandomForestClassifier', RandomForestClassifier(bootstrap=True...   reg_alpha=0.3, reg_lambda=1, scale_pos_weight=1, seed=None,\n",
       "         silent=False, subsample=0.5))],\n",
       "           flatten_transform=None, n_jobs=-1, voting='soft', weights=None)),\n",
       " (0.7463293426699797, SVC(C=10, cache_size=200, class_weight=None, coef0=0.0,\n",
       "    decision_function_shape='ovr', degree=3, gamma=2, kernel='rbf',\n",
       "    max_iter=-1, probability=True, random_state=42, shrinking=True, tol=0.3,\n",
       "    verbose=False)),\n",
       " (0.7116237799467613,\n",
       "  XGBClassifier(base_score=0.5, booster='gbtree', colsample_bylevel=1,\n",
       "         colsample_bytree=0.6, gamma=2, learning_rate=0.05, max_delta_step=0,\n",
       "         max_depth=5, min_child_weight=1, missing=None, n_estimators=1500,\n",
       "         n_jobs=1, nthread=None, objective='binary:logistic', random_state=0,\n",
       "         reg_alpha=0.3, reg_lambda=1, scale_pos_weight=1, seed=None,\n",
       "         silent=False, subsample=0.5)),\n",
       " (0.6972318339100345,\n",
       "  KNeighborsClassifier(algorithm='auto', leaf_size=30, metric='minkowski',\n",
       "             metric_params=None, n_jobs=None, n_neighbors=5, p=2,\n",
       "             weights='uniform')),\n",
       " (0.6767924949743132,\n",
       "  DecisionTreeClassifier(class_weight=None, criterion='gini', max_depth=20,\n",
       "              max_features=4, max_leaf_nodes=None, min_impurity_decrease=0.0,\n",
       "              min_impurity_split=None, min_samples_leaf=1,\n",
       "              min_samples_split=0.005, min_weight_fraction_leaf=0.0,\n",
       "              presort=False, random_state=42, splitter='best')),\n",
       " (0.6522053506869125, BaggingClassifier(base_estimator=None, bootstrap=True,\n",
       "           bootstrap_features=False, max_features=10, max_samples=500,\n",
       "           n_estimators=200, n_jobs=None, oob_score=False, random_state=42,\n",
       "           verbose=0, warm_start=False)),\n",
       " (0.5848968105065665,\n",
       "  AdaBoostClassifier(algorithm='SAMME.R', base_estimator=None,\n",
       "            learning_rate=1.0, n_estimators=500, random_state=42))]"
      ]
     },
     "execution_count": 108,
     "metadata": {},
     "output_type": "execute_result"
    },
    {
     "data": {
      "text/plain": [
       "[(0.6200177147918512,\n",
       "  XGBClassifier(base_score=0.5, booster='gbtree', colsample_bylevel=1,\n",
       "         colsample_bytree=0.6, gamma=2, learning_rate=0.05, max_delta_step=0,\n",
       "         max_depth=5, min_child_weight=1, missing=None, n_estimators=1500,\n",
       "         n_jobs=1, nthread=None, objective='binary:logistic', random_state=0,\n",
       "         reg_alpha=0.3, reg_lambda=1, scale_pos_weight=1, seed=None,\n",
       "         silent=False, subsample=0.5)),\n",
       " (0.606822262118492,\n",
       "  RandomForestClassifier(bootstrap=True, class_weight=None, criterion='gini',\n",
       "              max_depth=15, max_features=3, max_leaf_nodes=None,\n",
       "              min_impurity_decrease=0.0, min_impurity_split=None,\n",
       "              min_samples_leaf=1, min_samples_split=0.001,\n",
       "              min_weight_fraction_leaf=0.0, n_estimators=200, n_jobs=None,\n",
       "              oob_score=False, random_state=42, verbose=0, warm_start=False)),\n",
       " (0.6,\n",
       "  VotingClassifier(estimators=[('SVC', SVC(C=10, cache_size=200, class_weight=None, coef0=0.0,\n",
       "    decision_function_shape='ovr', degree=3, gamma=2, kernel='rbf',\n",
       "    max_iter=-1, probability=True, random_state=42, shrinking=True, tol=0.3,\n",
       "    verbose=False)), ('RandomForestClassifier', RandomForestClassifier(bootstrap=True...   reg_alpha=0.3, reg_lambda=1, scale_pos_weight=1, seed=None,\n",
       "         silent=False, subsample=0.5))],\n",
       "           flatten_transform=None, n_jobs=-1, voting='soft', weights=None)),\n",
       " (0.5869191049913942,\n",
       "  GradientBoostingClassifier(criterion='friedman_mse', init=None,\n",
       "                learning_rate=0.6, loss='deviance', max_depth=3,\n",
       "                max_features=None, max_leaf_nodes=None,\n",
       "                min_impurity_decrease=0.0, min_impurity_split=None,\n",
       "                min_samples_leaf=1, min_samples_split=2,\n",
       "                min_weight_fraction_leaf=0.0, n_estimators=500,\n",
       "                n_iter_no_change=None, presort='auto', random_state=42,\n",
       "                subsample=1, tol=0.0001, validation_fraction=0.1, verbose=0,\n",
       "                warm_start=False)),\n",
       " (0.5827205882352942,\n",
       "  AdaBoostClassifier(algorithm='SAMME.R', base_estimator=None,\n",
       "            learning_rate=1.0, n_estimators=500, random_state=42)),\n",
       " (0.576303317535545, BaggingClassifier(base_estimator=None, bootstrap=True,\n",
       "           bootstrap_features=False, max_features=10, max_samples=500,\n",
       "           n_estimators=200, n_jobs=None, oob_score=False, random_state=42,\n",
       "           verbose=0, warm_start=False)),\n",
       " (0.5606326889279438,\n",
       "  DecisionTreeClassifier(class_weight=None, criterion='gini', max_depth=20,\n",
       "              max_features=4, max_leaf_nodes=None, min_impurity_decrease=0.0,\n",
       "              min_impurity_split=None, min_samples_leaf=1,\n",
       "              min_samples_split=0.005, min_weight_fraction_leaf=0.0,\n",
       "              presort=False, random_state=42, splitter='best')),\n",
       " (0.5454545454545455,\n",
       "  KNeighborsClassifier(algorithm='auto', leaf_size=30, metric='minkowski',\n",
       "             metric_params=None, n_jobs=None, n_neighbors=5, p=2,\n",
       "             weights='uniform')),\n",
       " (0.5013979496738118, SVC(C=10, cache_size=200, class_weight=None, coef0=0.0,\n",
       "    decision_function_shape='ovr', degree=3, gamma=2, kernel='rbf',\n",
       "    max_iter=-1, probability=True, random_state=42, shrinking=True, tol=0.3,\n",
       "    verbose=False))]"
      ]
     },
     "execution_count": 108,
     "metadata": {},
     "output_type": "execute_result"
    },
    {
     "data": {
      "text/plain": [
       "[(0.6200177147918512,\n",
       "  XGBClassifier(base_score=0.5, booster='gbtree', colsample_bylevel=1,\n",
       "         colsample_bytree=0.6, gamma=2, learning_rate=0.05, max_delta_step=0,\n",
       "         max_depth=5, min_child_weight=1, missing=None, n_estimators=1500,\n",
       "         n_jobs=1, nthread=None, objective='binary:logistic', random_state=0,\n",
       "         reg_alpha=0.3, reg_lambda=1, scale_pos_weight=1, seed=None,\n",
       "         silent=False, subsample=0.5)),\n",
       " (0.606822262118492,\n",
       "  RandomForestClassifier(bootstrap=True, class_weight=None, criterion='gini',\n",
       "              max_depth=15, max_features=3, max_leaf_nodes=None,\n",
       "              min_impurity_decrease=0.0, min_impurity_split=None,\n",
       "              min_samples_leaf=1, min_samples_split=0.001,\n",
       "              min_weight_fraction_leaf=0.0, n_estimators=200, n_jobs=None,\n",
       "              oob_score=False, random_state=42, verbose=0, warm_start=False)),\n",
       " (0.6,\n",
       "  VotingClassifier(estimators=[('SVC', SVC(C=10, cache_size=200, class_weight=None, coef0=0.0,\n",
       "    decision_function_shape='ovr', degree=3, gamma=2, kernel='rbf',\n",
       "    max_iter=-1, probability=True, random_state=42, shrinking=True, tol=0.3,\n",
       "    verbose=False)), ('RandomForestClassifier', RandomForestClassifier(bootstrap=True...   reg_alpha=0.3, reg_lambda=1, scale_pos_weight=1, seed=None,\n",
       "         silent=False, subsample=0.5))],\n",
       "           flatten_transform=None, n_jobs=-1, voting='soft', weights=None)),\n",
       " (0.5869191049913942,\n",
       "  GradientBoostingClassifier(criterion='friedman_mse', init=None,\n",
       "                learning_rate=0.6, loss='deviance', max_depth=3,\n",
       "                max_features=None, max_leaf_nodes=None,\n",
       "                min_impurity_decrease=0.0, min_impurity_split=None,\n",
       "                min_samples_leaf=1, min_samples_split=2,\n",
       "                min_weight_fraction_leaf=0.0, n_estimators=500,\n",
       "                n_iter_no_change=None, presort='auto', random_state=42,\n",
       "                subsample=1, tol=0.0001, validation_fraction=0.1, verbose=0,\n",
       "                warm_start=False)),\n",
       " (0.5827205882352942,\n",
       "  AdaBoostClassifier(algorithm='SAMME.R', base_estimator=None,\n",
       "            learning_rate=1.0, n_estimators=500, random_state=42)),\n",
       " (0.576303317535545, BaggingClassifier(base_estimator=None, bootstrap=True,\n",
       "           bootstrap_features=False, max_features=10, max_samples=500,\n",
       "           n_estimators=200, n_jobs=None, oob_score=False, random_state=42,\n",
       "           verbose=0, warm_start=False)),\n",
       " (0.5606326889279438,\n",
       "  DecisionTreeClassifier(class_weight=None, criterion='gini', max_depth=20,\n",
       "              max_features=4, max_leaf_nodes=None, min_impurity_decrease=0.0,\n",
       "              min_impurity_split=None, min_samples_leaf=1,\n",
       "              min_samples_split=0.005, min_weight_fraction_leaf=0.0,\n",
       "              presort=False, random_state=42, splitter='best')),\n",
       " (0.5454545454545455,\n",
       "  KNeighborsClassifier(algorithm='auto', leaf_size=30, metric='minkowski',\n",
       "             metric_params=None, n_jobs=None, n_neighbors=5, p=2,\n",
       "             weights='uniform')),\n",
       " (0.5013979496738118, SVC(C=10, cache_size=200, class_weight=None, coef0=0.0,\n",
       "    decision_function_shape='ovr', degree=3, gamma=2, kernel='rbf',\n",
       "    max_iter=-1, probability=True, random_state=42, shrinking=True, tol=0.3,\n",
       "    verbose=False))]"
      ]
     },
     "execution_count": 108,
     "metadata": {},
     "output_type": "execute_result"
    }
   ],
   "source": [
    "from model import Model, ModelsBenchmark\n",
    "from sklearn.ensemble import VotingClassifier\n",
    "\n",
    "models = [svc, rf, dt, knn, ada, gbc, bag, xgb]\n",
    "# add voting method\n",
    "estimators = [ (model.__class__.__name__,model) for model in models]\n",
    "voting_clf = VotingClassifier(estimators=estimators, voting='soft', n_jobs=-1)\n",
    "models.append(voting_clf)\n",
    "# benchmark between all models so far\n",
    "bench = ModelsBenchmark(models);\n",
    "bench.fit(x_train, y_train)\n",
    "bench.score(x_train, y_train, metric = f1_score)\n",
    "bench.score(x_test, y_test, metric = f1_score)\n",
    "bench._scores"
   ]
  },
  {
   "cell_type": "markdown",
   "metadata": {},
   "source": [
    "# Evaluating models"
   ]
  },
  {
   "cell_type": "code",
   "execution_count": 452,
   "metadata": {},
   "outputs": [],
   "source": [
    "# reduce dimensionality to be able to plot data\n",
    "from sklearn.decomposition import PCA\n",
    "\n",
    "pca = PCA(n_components = 2, random_state = 42);\n",
    "    \n",
    "def reduce_dimensions(X, fit=False):\n",
    "    if fit:\n",
    "        pca.fit(X)\n",
    "    return pca.transform(X)\n"
   ]
  },
  {
   "cell_type": "code",
   "execution_count": null,
   "metadata": {},
   "outputs": [],
   "source": [
    "bench.fit(x_train, y_train)\n",
    "bench.score(x_test, y_test)\n",
    "clf = bench._sorted[0]\n"
   ]
  },
  {
   "cell_type": "code",
   "execution_count": 450,
   "metadata": {},
   "outputs": [],
   "source": [
    "clf = xgb"
   ]
  },
  {
   "cell_type": "code",
   "execution_count": 457,
   "metadata": {},
   "outputs": [
    {
     "data": {
      "text/plain": [
       "<matplotlib.collections.PathCollection at 0x7f5ffcc874a8>"
      ]
     },
     "execution_count": 457,
     "metadata": {},
     "output_type": "execute_result"
    },
    {
     "data": {
      "text/plain": [
       "Text(0.5, 1.0, 'Train Data')"
      ]
     },
     "execution_count": 457,
     "metadata": {},
     "output_type": "execute_result"
    },
    {
     "data": {
      "text/plain": [
       "Text(0.5, 0, 'x_0')"
      ]
     },
     "execution_count": 457,
     "metadata": {},
     "output_type": "execute_result"
    },
    {
     "data": {
      "text/plain": [
       "Text(0, 0.5, 'x_1')"
      ]
     },
     "execution_count": 457,
     "metadata": {},
     "output_type": "execute_result"
    },
    {
     "data": {
      "text/plain": [
       "<matplotlib.collections.PathCollection at 0x7f5ffcc87a58>"
      ]
     },
     "execution_count": 457,
     "metadata": {},
     "output_type": "execute_result"
    },
    {
     "data": {
      "text/plain": [
       "Text(0.5, 1.0, 'Test Data')"
      ]
     },
     "execution_count": 457,
     "metadata": {},
     "output_type": "execute_result"
    },
    {
     "data": {
      "text/plain": [
       "Text(0.5, 0, 'x_0')"
      ]
     },
     "execution_count": 457,
     "metadata": {},
     "output_type": "execute_result"
    },
    {
     "data": {
      "text/plain": [
       "Text(0, 0.5, 'x_1')"
      ]
     },
     "execution_count": 457,
     "metadata": {},
     "output_type": "execute_result"
    },
    {
     "data": {
      "text/plain": [
       "<matplotlib.axes._subplots.AxesSubplot at 0x7f5ffcd2d828>"
      ]
     },
     "execution_count": 457,
     "metadata": {},
     "output_type": "execute_result"
    },
    {
     "data": {
      "text/plain": [
       "Text(0.5, 1.0, 'Test')"
      ]
     },
     "execution_count": 457,
     "metadata": {},
     "output_type": "execute_result"
    },
    {
     "data": {
      "text/plain": [
       "Text(0.5, 15.0, 'Predicted')"
      ]
     },
     "execution_count": 457,
     "metadata": {},
     "output_type": "execute_result"
    },
    {
     "data": {
      "text/plain": [
       "Text(455.608695652174, 0.5, 'Actual')"
      ]
     },
     "execution_count": 457,
     "metadata": {},
     "output_type": "execute_result"
    },
    {
     "data": {
      "text/plain": [
       "<matplotlib.axes._subplots.AxesSubplot at 0x7f5ffccd6da0>"
      ]
     },
     "execution_count": 457,
     "metadata": {},
     "output_type": "execute_result"
    },
    {
     "data": {
      "text/plain": [
       "Text(0.5, 1.0, 'Train')"
      ]
     },
     "execution_count": 457,
     "metadata": {},
     "output_type": "execute_result"
    },
    {
     "data": {
      "text/plain": [
       "Text(0.5, 15.0, 'Predicted')"
      ]
     },
     "execution_count": 457,
     "metadata": {},
     "output_type": "execute_result"
    },
    {
     "data": {
      "text/plain": [
       "Text(666.913043478261, 0.5, 'Actual')"
      ]
     },
     "execution_count": 457,
     "metadata": {},
     "output_type": "execute_result"
    },
    {
     "name": "stdout",
     "output_type": "stream",
     "text": [
      "Train : \n",
      "[[1513  992]\n",
      " [ 631 3020]]\n",
      "Test : \n",
      "[[354 287]\n",
      " [157 726]]\n",
      "Train Accuracy : 0.79 \n",
      "Test Accuracy : 0.77 \n"
     ]
    },
    {
     "data": {
      "image/png": "[encoded data removed]",
      "text/plain": [
       "<Figure size 432x288 with 6 Axes>"
      ]
     },
     "metadata": {
      "needs_background": "light"
     },
     "output_type": "display_data"
    }
   ],
   "source": [
    "# print and plot metrics for the best one\n",
    "from sklearn.metrics import confusion_matrix\n",
    "fig, axs = plt.subplots(nrows = 1, ncols = 4);\n",
    "fig.subplots_adjust(right = 2);\n",
    "x_plot = reduce_dimensions(x_train, fit = True)\n",
    "axs[0].scatter(x_plot[:, 0], x_plot[:,1], c = y_train);\n",
    "axs[0].set_title('Train Data');\n",
    "axs[0].set_xlabel('x_0');\n",
    "axs[0].set_ylabel('x_1');\n",
    "x_plot = reduce_dimensions(x_test)\n",
    "axs[1].scatter(x_plot[:, 0], x_plot[:,1], c = y_test);\n",
    "axs[1].set_title('Test Data');\n",
    "axs[1].set_xlabel('x_0');\n",
    "axs[1].set_ylabel('x_1');\n",
    "test_cnf_matrix = confusion_matrix(y_test, clf.predict(x_test))\n",
    "sns.heatmap(test_cnf_matrix, ax = axs[2], vmin = 0);\n",
    "axs[2].set_title('Test');\n",
    "axs[2].set_xlabel('Predicted');\n",
    "axs[2].set_ylabel('Actual');\n",
    "train_cnf_matrix = confusion_matrix(y_train, clf.predict(x_train))\n",
    "sns.heatmap(train_cnf_matrix, ax = axs[3], vmin = 0);\n",
    "axs[3].set_title('Train');\n",
    "axs[3].set_xlabel('Predicted');\n",
    "axs[3].set_ylabel('Actual');\n",
    "print('Train : ' )\n",
    "print(train_cnf_matrix)\n",
    "print('Test : ')\n",
    "print(test_cnf_matrix)\n",
    "print('Train Accuracy : %.2f ' % f1_eval(clf, x_train, y_train))\n",
    "print('Test Accuracy : %.2f ' % f1_eval(clf, x_test, y_test))"
   ]
  },
  {
   "cell_type": "markdown",
   "metadata": {},
   "source": [
    "Below we make predictions on 2-dimensional data and plot the points labeled wrong.   \n",
    "Currently, below part has a bug and doesn't run correctly."
   ]
  },
  {
   "cell_type": "code",
   "execution_count": null,
   "metadata": {},
   "outputs": [],
   "source": [
    "# trying to solve the bug below, set the max_features attribute to 2\n",
    "# rf_plot = rf\n",
    "# rf_plot.max_features = 2\n",
    "# dt_plot = dt\n",
    "# dt_plot.max_features = 2\n",
    "# vot_plot = voting_clf\n",
    "# vot_plot.estimators = [svc, knn, rf_plot, dt_plot]\n",
    "# clf = vot_plot"
   ]
  },
  {
   "cell_type": "code",
   "execution_count": 458,
   "metadata": {},
   "outputs": [
    {
     "data": {
      "text/plain": [
       "XGBClassifier(base_score=0.5, booster='gbtree', colsample_bylevel=1,\n",
       "       colsample_bytree=1, gamma=0, learning_rate=0.1, max_delta_step=0,\n",
       "       max_depth=3, min_child_weight=1, missing=None, n_estimators=500,\n",
       "       n_jobs=-1, nthread=None, objective='binary:logistic',\n",
       "       random_state=42, reg_alpha=0, reg_lambda=1, scale_pos_weight=1,\n",
       "       seed=None, silent=True, subsample=1)"
      ]
     },
     "execution_count": 458,
     "metadata": {},
     "output_type": "execute_result"
    },
    {
     "data": {
      "text/plain": [
       "<matplotlib.colorbar.Colorbar at 0x7f5ffcb0b0f0>"
      ]
     },
     "execution_count": 458,
     "metadata": {},
     "output_type": "execute_result"
    },
    {
     "data": {
      "text/plain": [
       "Text(0.5, 1.0, 'Points with true label 0 ')"
      ]
     },
     "execution_count": 458,
     "metadata": {},
     "output_type": "execute_result"
    },
    {
     "data": {
      "text/plain": [
       "<matplotlib.colorbar.Colorbar at 0x7f5ffcb3e160>"
      ]
     },
     "execution_count": 458,
     "metadata": {},
     "output_type": "execute_result"
    },
    {
     "data": {
      "text/plain": [
       "Text(0.5, 1.0, 'Points with true label 1 ')"
      ]
     },
     "execution_count": 458,
     "metadata": {},
     "output_type": "execute_result"
    },
    {
     "data": {
      "image/png": "[encoded data removed]",
      "text/plain": [
       "<Figure size 432x288 with 4 Axes>"
      ]
     },
     "metadata": {
      "needs_background": "light"
     },
     "output_type": "display_data"
    }
   ],
   "source": [
    "# plot both labels separately and our predictions on them\n",
    "fig, axs = plt.subplots(nrows = 1, ncols = 2)\n",
    "x_plot_train = reduce_dimensions(x_train, fit=True)\n",
    "y_plot_train = y_train\n",
    "x_plot_test = reduce_dimensions(x_test)\n",
    "y_plot_test = y_test\n",
    "clf.fit(x_plot_train,y_plot_train)\n",
    "x_plot = x_plot_test\n",
    "y_plot = y_plot_test\n",
    "y_pred = clf.predict(x_plot)\n",
    "fig.subplots_adjust(right = 2)\n",
    "labeled_0 = x_plot[y_plot == 0]\n",
    "scatter = axs[0].scatter(labeled_0[:,0], labeled_0[:, 1], c = y_pred[y_plot ==  0], )\n",
    "fig.colorbar(scatter, ax = axs[0])\n",
    "axs[0].set_title('Points with true label 0 ')\n",
    "labeled_0_acc = (y_pred == 0) == (y_plot == 0).sum() / len(y_pred)\n",
    "# print('Accuracy for true label 0 : %.3f' % labeled_0_acc)\n",
    "labeled_1 = x_plot[y_plot == 1]\n",
    "scatter = axs[1].scatter(labeled_1[:,0], labeled_1[:, 1], c = y_pred[y_plot == 1] )\n",
    "fig.colorbar(scatter, ax = axs[1])\n",
    "axs[1].set_title('Points with true label 1 ')"
   ]
  },
  {
   "cell_type": "code",
   "execution_count": null,
   "metadata": {},
   "outputs": [],
   "source": [
    "y_pred == 0"
   ]
  },
  {
   "cell_type": "code",
   "execution_count": 30,
   "metadata": {},
   "outputs": [
    {
     "data": {
      "text/plain": [
       "GradientBoostingClassifier(criterion='friedman_mse', init=None,\n",
       "              learning_rate=0.15, loss='deviance', max_depth=3,\n",
       "              max_features=None, max_leaf_nodes=None,\n",
       "              min_impurity_decrease=0.0, min_impurity_split=None,\n",
       "              min_samples_leaf=1, min_samples_split=2,\n",
       "              min_weight_fraction_leaf=0.0, n_estimators=400,\n",
       "              n_iter_no_change=None, presort='auto', random_state=42,\n",
       "              subsample=0.9, tol=0.0001, validation_fraction=0.1,\n",
       "              verbose=0, warm_start=False)"
      ]
     },
     "execution_count": 30,
     "metadata": {},
     "output_type": "execute_result"
    },
    {
     "name": "stdout",
     "output_type": "stream",
     "text": [
      "====Correct samples =====\n"
     ]
    },
    {
     "data": {
      "text/html": [
       "<div>\n",
       "<style scoped>\n",
       "    .dataframe tbody tr th:only-of-type {\n",
       "        vertical-align: middle;\n",
       "    }\n",
       "\n",
       "    .dataframe tbody tr th {\n",
       "        vertical-align: top;\n",
       "    }\n",
       "\n",
       "    .dataframe thead th {\n",
       "        text-align: right;\n",
       "    }\n",
       "</style>\n",
       "<table border=\"1\" class=\"dataframe\">\n",
       "  <thead>\n",
       "    <tr style=\"text-align: right;\">\n",
       "      <th></th>\n",
       "      <th>category</th>\n",
       "      <th>rating</th>\n",
       "      <th>reviews</th>\n",
       "      <th>size</th>\n",
       "      <th>installs</th>\n",
       "      <th>type</th>\n",
       "      <th>price</th>\n",
       "      <th>content_rating</th>\n",
       "      <th>genres</th>\n",
       "      <th>version</th>\n",
       "      <th>...</th>\n",
       "      <th>price_rounded</th>\n",
       "      <th>last_updated_days</th>\n",
       "      <th>last_updated_year</th>\n",
       "      <th>last_updated_month</th>\n",
       "      <th>last_updated_day</th>\n",
       "      <th>last_updated_month_sin</th>\n",
       "      <th>last_updated_month_cos</th>\n",
       "      <th>name_wc</th>\n",
       "      <th>predicted</th>\n",
       "      <th>true</th>\n",
       "    </tr>\n",
       "  </thead>\n",
       "  <tbody>\n",
       "    <tr>\n",
       "      <th>0</th>\n",
       "      <td>0.804178</td>\n",
       "      <td>-0.288857</td>\n",
       "      <td>-0.066229</td>\n",
       "      <td>-0.352719</td>\n",
       "      <td>0.160110</td>\n",
       "      <td>-0.781946</td>\n",
       "      <td>0.290071</td>\n",
       "      <td>-0.405076</td>\n",
       "      <td>NaN</td>\n",
       "      <td>NaN</td>\n",
       "      <td>...</td>\n",
       "      <td>NaN</td>\n",
       "      <td>NaN</td>\n",
       "      <td>NaN</td>\n",
       "      <td>NaN</td>\n",
       "      <td>NaN</td>\n",
       "      <td>NaN</td>\n",
       "      <td>NaN</td>\n",
       "      <td>NaN</td>\n",
       "      <td>0.0</td>\n",
       "      <td>0.0</td>\n",
       "    </tr>\n",
       "    <tr>\n",
       "      <th>1</th>\n",
       "      <td>0.029603</td>\n",
       "      <td>-0.288857</td>\n",
       "      <td>-0.066229</td>\n",
       "      <td>1.269692</td>\n",
       "      <td>0.691529</td>\n",
       "      <td>-0.010385</td>\n",
       "      <td>0.290071</td>\n",
       "      <td>-0.405076</td>\n",
       "      <td>NaN</td>\n",
       "      <td>NaN</td>\n",
       "      <td>...</td>\n",
       "      <td>NaN</td>\n",
       "      <td>NaN</td>\n",
       "      <td>NaN</td>\n",
       "      <td>NaN</td>\n",
       "      <td>NaN</td>\n",
       "      <td>NaN</td>\n",
       "      <td>NaN</td>\n",
       "      <td>NaN</td>\n",
       "      <td>0.0</td>\n",
       "      <td>0.0</td>\n",
       "    </tr>\n",
       "    <tr>\n",
       "      <th>2</th>\n",
       "      <td>1.437921</td>\n",
       "      <td>-0.288857</td>\n",
       "      <td>-0.066229</td>\n",
       "      <td>-0.893523</td>\n",
       "      <td>1.488658</td>\n",
       "      <td>1.709656</td>\n",
       "      <td>0.290071</td>\n",
       "      <td>-0.405076</td>\n",
       "      <td>NaN</td>\n",
       "      <td>NaN</td>\n",
       "      <td>...</td>\n",
       "      <td>NaN</td>\n",
       "      <td>NaN</td>\n",
       "      <td>NaN</td>\n",
       "      <td>NaN</td>\n",
       "      <td>NaN</td>\n",
       "      <td>NaN</td>\n",
       "      <td>NaN</td>\n",
       "      <td>NaN</td>\n",
       "      <td>1.0</td>\n",
       "      <td>1.0</td>\n",
       "    </tr>\n",
       "    <tr>\n",
       "      <th>3</th>\n",
       "      <td>-1.449131</td>\n",
       "      <td>-0.288857</td>\n",
       "      <td>-0.066229</td>\n",
       "      <td>-0.893523</td>\n",
       "      <td>-1.965567</td>\n",
       "      <td>-0.590284</td>\n",
       "      <td>0.290071</td>\n",
       "      <td>-0.405076</td>\n",
       "      <td>NaN</td>\n",
       "      <td>NaN</td>\n",
       "      <td>...</td>\n",
       "      <td>NaN</td>\n",
       "      <td>NaN</td>\n",
       "      <td>NaN</td>\n",
       "      <td>NaN</td>\n",
       "      <td>NaN</td>\n",
       "      <td>NaN</td>\n",
       "      <td>NaN</td>\n",
       "      <td>NaN</td>\n",
       "      <td>0.0</td>\n",
       "      <td>0.0</td>\n",
       "    </tr>\n",
       "    <tr>\n",
       "      <th>4</th>\n",
       "      <td>0.804178</td>\n",
       "      <td>-0.288857</td>\n",
       "      <td>-0.066229</td>\n",
       "      <td>-0.893523</td>\n",
       "      <td>0.160110</td>\n",
       "      <td>-0.354393</td>\n",
       "      <td>0.290071</td>\n",
       "      <td>-0.405076</td>\n",
       "      <td>NaN</td>\n",
       "      <td>NaN</td>\n",
       "      <td>...</td>\n",
       "      <td>NaN</td>\n",
       "      <td>NaN</td>\n",
       "      <td>NaN</td>\n",
       "      <td>NaN</td>\n",
       "      <td>NaN</td>\n",
       "      <td>NaN</td>\n",
       "      <td>NaN</td>\n",
       "      <td>NaN</td>\n",
       "      <td>0.0</td>\n",
       "      <td>0.0</td>\n",
       "    </tr>\n",
       "  </tbody>\n",
       "</table>\n",
       "<p>5 rows × 21 columns</p>\n",
       "</div>"
      ],
      "text/plain": [
       "   category    rating   reviews      size  installs      type     price  \\\n",
       "0  0.804178 -0.288857 -0.066229 -0.352719  0.160110 -0.781946  0.290071   \n",
       "1  0.029603 -0.288857 -0.066229  1.269692  0.691529 -0.010385  0.290071   \n",
       "2  1.437921 -0.288857 -0.066229 -0.893523  1.488658  1.709656  0.290071   \n",
       "3 -1.449131 -0.288857 -0.066229 -0.893523 -1.965567 -0.590284  0.290071   \n",
       "4  0.804178 -0.288857 -0.066229 -0.893523  0.160110 -0.354393  0.290071   \n",
       "\n",
       "   content_rating  genres  version  ...   price_rounded  last_updated_days  \\\n",
       "0       -0.405076     NaN      NaN  ...             NaN                NaN   \n",
       "1       -0.405076     NaN      NaN  ...             NaN                NaN   \n",
       "2       -0.405076     NaN      NaN  ...             NaN                NaN   \n",
       "3       -0.405076     NaN      NaN  ...             NaN                NaN   \n",
       "4       -0.405076     NaN      NaN  ...             NaN                NaN   \n",
       "\n",
       "   last_updated_year  last_updated_month  last_updated_day  \\\n",
       "0                NaN                 NaN               NaN   \n",
       "1                NaN                 NaN               NaN   \n",
       "2                NaN                 NaN               NaN   \n",
       "3                NaN                 NaN               NaN   \n",
       "4                NaN                 NaN               NaN   \n",
       "\n",
       "   last_updated_month_sin  last_updated_month_cos  name_wc  predicted  true  \n",
       "0                     NaN                     NaN      NaN        0.0   0.0  \n",
       "1                     NaN                     NaN      NaN        0.0   0.0  \n",
       "2                     NaN                     NaN      NaN        1.0   1.0  \n",
       "3                     NaN                     NaN      NaN        0.0   0.0  \n",
       "4                     NaN                     NaN      NaN        0.0   0.0  \n",
       "\n",
       "[5 rows x 21 columns]"
      ]
     },
     "execution_count": 30,
     "metadata": {},
     "output_type": "execute_result"
    },
    {
     "name": "stdout",
     "output_type": "stream",
     "text": [
      "====Incorrect samples =====\n"
     ]
    },
    {
     "data": {
      "text/html": [
       "<div>\n",
       "<style scoped>\n",
       "    .dataframe tbody tr th:only-of-type {\n",
       "        vertical-align: middle;\n",
       "    }\n",
       "\n",
       "    .dataframe tbody tr th {\n",
       "        vertical-align: top;\n",
       "    }\n",
       "\n",
       "    .dataframe thead th {\n",
       "        text-align: right;\n",
       "    }\n",
       "</style>\n",
       "<table border=\"1\" class=\"dataframe\">\n",
       "  <thead>\n",
       "    <tr style=\"text-align: right;\">\n",
       "      <th></th>\n",
       "      <th>category</th>\n",
       "      <th>rating</th>\n",
       "      <th>reviews</th>\n",
       "      <th>size</th>\n",
       "      <th>installs</th>\n",
       "      <th>type</th>\n",
       "      <th>price</th>\n",
       "      <th>content_rating</th>\n",
       "      <th>genres</th>\n",
       "      <th>version</th>\n",
       "      <th>...</th>\n",
       "      <th>price_rounded</th>\n",
       "      <th>last_updated_days</th>\n",
       "      <th>last_updated_year</th>\n",
       "      <th>last_updated_month</th>\n",
       "      <th>last_updated_day</th>\n",
       "      <th>last_updated_month_sin</th>\n",
       "      <th>last_updated_month_cos</th>\n",
       "      <th>name_wc</th>\n",
       "      <th>predicted</th>\n",
       "      <th>true</th>\n",
       "    </tr>\n",
       "  </thead>\n",
       "  <tbody>\n",
       "    <tr>\n",
       "      <th>0</th>\n",
       "      <td>1.508337</td>\n",
       "      <td>-0.288857</td>\n",
       "      <td>-0.066229</td>\n",
       "      <td>-0.352719</td>\n",
       "      <td>1.754368</td>\n",
       "      <td>-0.521483</td>\n",
       "      <td>0.290071</td>\n",
       "      <td>3.762195</td>\n",
       "      <td>NaN</td>\n",
       "      <td>NaN</td>\n",
       "      <td>...</td>\n",
       "      <td>NaN</td>\n",
       "      <td>NaN</td>\n",
       "      <td>NaN</td>\n",
       "      <td>NaN</td>\n",
       "      <td>NaN</td>\n",
       "      <td>NaN</td>\n",
       "      <td>NaN</td>\n",
       "      <td>NaN</td>\n",
       "      <td>1.0</td>\n",
       "      <td>0.0</td>\n",
       "    </tr>\n",
       "    <tr>\n",
       "      <th>1</th>\n",
       "      <td>-1.237883</td>\n",
       "      <td>-0.288857</td>\n",
       "      <td>-0.066229</td>\n",
       "      <td>-1.434327</td>\n",
       "      <td>-1.567002</td>\n",
       "      <td>-0.354393</td>\n",
       "      <td>0.290071</td>\n",
       "      <td>-0.405076</td>\n",
       "      <td>NaN</td>\n",
       "      <td>NaN</td>\n",
       "      <td>...</td>\n",
       "      <td>NaN</td>\n",
       "      <td>NaN</td>\n",
       "      <td>NaN</td>\n",
       "      <td>NaN</td>\n",
       "      <td>NaN</td>\n",
       "      <td>NaN</td>\n",
       "      <td>NaN</td>\n",
       "      <td>NaN</td>\n",
       "      <td>1.0</td>\n",
       "      <td>0.0</td>\n",
       "    </tr>\n",
       "    <tr>\n",
       "      <th>2</th>\n",
       "      <td>-0.604140</td>\n",
       "      <td>-0.288857</td>\n",
       "      <td>-0.066229</td>\n",
       "      <td>1.810496</td>\n",
       "      <td>-0.371309</td>\n",
       "      <td>-0.354393</td>\n",
       "      <td>0.290071</td>\n",
       "      <td>-0.405076</td>\n",
       "      <td>NaN</td>\n",
       "      <td>NaN</td>\n",
       "      <td>...</td>\n",
       "      <td>NaN</td>\n",
       "      <td>NaN</td>\n",
       "      <td>NaN</td>\n",
       "      <td>NaN</td>\n",
       "      <td>NaN</td>\n",
       "      <td>NaN</td>\n",
       "      <td>NaN</td>\n",
       "      <td>NaN</td>\n",
       "      <td>1.0</td>\n",
       "      <td>0.0</td>\n",
       "    </tr>\n",
       "    <tr>\n",
       "      <th>3</th>\n",
       "      <td>1.297089</td>\n",
       "      <td>-0.288857</td>\n",
       "      <td>-0.066229</td>\n",
       "      <td>-0.352719</td>\n",
       "      <td>1.222949</td>\n",
       "      <td>-0.870405</td>\n",
       "      <td>-2.009660</td>\n",
       "      <td>-0.405076</td>\n",
       "      <td>NaN</td>\n",
       "      <td>NaN</td>\n",
       "      <td>...</td>\n",
       "      <td>NaN</td>\n",
       "      <td>NaN</td>\n",
       "      <td>NaN</td>\n",
       "      <td>NaN</td>\n",
       "      <td>NaN</td>\n",
       "      <td>NaN</td>\n",
       "      <td>NaN</td>\n",
       "      <td>NaN</td>\n",
       "      <td>0.0</td>\n",
       "      <td>1.0</td>\n",
       "    </tr>\n",
       "    <tr>\n",
       "      <th>4</th>\n",
       "      <td>-0.392893</td>\n",
       "      <td>-0.288857</td>\n",
       "      <td>-0.066229</td>\n",
       "      <td>-0.893523</td>\n",
       "      <td>-0.105599</td>\n",
       "      <td>0.874208</td>\n",
       "      <td>-2.009660</td>\n",
       "      <td>2.373104</td>\n",
       "      <td>NaN</td>\n",
       "      <td>NaN</td>\n",
       "      <td>...</td>\n",
       "      <td>NaN</td>\n",
       "      <td>NaN</td>\n",
       "      <td>NaN</td>\n",
       "      <td>NaN</td>\n",
       "      <td>NaN</td>\n",
       "      <td>NaN</td>\n",
       "      <td>NaN</td>\n",
       "      <td>NaN</td>\n",
       "      <td>1.0</td>\n",
       "      <td>0.0</td>\n",
       "    </tr>\n",
       "  </tbody>\n",
       "</table>\n",
       "<p>5 rows × 21 columns</p>\n",
       "</div>"
      ],
      "text/plain": [
       "   category    rating   reviews      size  installs      type     price  \\\n",
       "0  1.508337 -0.288857 -0.066229 -0.352719  1.754368 -0.521483  0.290071   \n",
       "1 -1.237883 -0.288857 -0.066229 -1.434327 -1.567002 -0.354393  0.290071   \n",
       "2 -0.604140 -0.288857 -0.066229  1.810496 -0.371309 -0.354393  0.290071   \n",
       "3  1.297089 -0.288857 -0.066229 -0.352719  1.222949 -0.870405 -2.009660   \n",
       "4 -0.392893 -0.288857 -0.066229 -0.893523 -0.105599  0.874208 -2.009660   \n",
       "\n",
       "   content_rating  genres  version  ...   price_rounded  last_updated_days  \\\n",
       "0        3.762195     NaN      NaN  ...             NaN                NaN   \n",
       "1       -0.405076     NaN      NaN  ...             NaN                NaN   \n",
       "2       -0.405076     NaN      NaN  ...             NaN                NaN   \n",
       "3       -0.405076     NaN      NaN  ...             NaN                NaN   \n",
       "4        2.373104     NaN      NaN  ...             NaN                NaN   \n",
       "\n",
       "   last_updated_year  last_updated_month  last_updated_day  \\\n",
       "0                NaN                 NaN               NaN   \n",
       "1                NaN                 NaN               NaN   \n",
       "2                NaN                 NaN               NaN   \n",
       "3                NaN                 NaN               NaN   \n",
       "4                NaN                 NaN               NaN   \n",
       "\n",
       "   last_updated_month_sin  last_updated_month_cos  name_wc  predicted  true  \n",
       "0                     NaN                     NaN      NaN        1.0   0.0  \n",
       "1                     NaN                     NaN      NaN        1.0   0.0  \n",
       "2                     NaN                     NaN      NaN        1.0   0.0  \n",
       "3                     NaN                     NaN      NaN        0.0   1.0  \n",
       "4                     NaN                     NaN      NaN        1.0   0.0  \n",
       "\n",
       "[5 rows x 21 columns]"
      ]
     },
     "execution_count": 30,
     "metadata": {},
     "output_type": "execute_result"
    }
   ],
   "source": [
    "# print some correctly and incorrectly labeled data\n",
    "from random import randint\n",
    "clf.fit(x_train, y_train)\n",
    "y_pred = clf.predict(x_test)\n",
    "# correct = x_test[y_pred == y_test]\n",
    "# incorrect = x_test[~(y_pred == y_test)]\n",
    "\n",
    "columns = df.columns.values\n",
    "def get_samples(x, y_true, y_pred, sample_type = 'correct', count = 5):\n",
    "    mask = (y_pred == y_true)\n",
    "    if sample_type == 'incorrect':\n",
    "        mask = ~mask\n",
    "    x = x[mask]\n",
    "    y_pred = y_pred[mask]\n",
    "    y_true = y_true[mask]\n",
    "    df = pd.DataFrame(columns=[*columns , 'predicted', 'true'])\n",
    "    if len(x) == 0:\n",
    "        return df\n",
    "    for _ in range(count):\n",
    "        idx = randint(0, len(x)) \n",
    "        dct = {}\n",
    "        dct['predicted'] = y_pred[idx]\n",
    "        dct['true'] = y_true[idx]\n",
    "        for i in range(x.shape[1]):\n",
    "            dct[df.columns.values[i]] = x[idx][i]\n",
    "        df = df.append(dct,\n",
    "                       ignore_index=True)\n",
    "    return df\n",
    "\n",
    "print(\"====Correct samples =====\")\n",
    "get_samples(x_test, y_test, y_pred, sample_type='correct') \n",
    "print(\"====Incorrect samples =====\")\n",
    "get_samples(x_test, y_test, y_pred, sample_type='incorrect') "
   ]
  },
  {
   "cell_type": "code",
   "execution_count": null,
   "metadata": {
    "scrolled": false
   },
   "outputs": [],
   "source": [
    "# Visualisation of the decision tree created by the algorithm, for fun and insight\n",
    "import graphviz\n",
    "from sklearn.tree import export_graphviz\n",
    "clf = Model(dt)\n",
    "clf.compute_scores((x_train, y_train), (x_test, y_test))\n",
    "clf.model.tree_.max_depth\n",
    "dot_data = export_graphviz(clf.model,\n",
    "                           out_file=None,\n",
    "                           feature_names=pre_features,\n",
    "                           class_names=['fair', 'excellent'],\n",
    "                           filled=True,\n",
    "                           rounded=True)\n",
    "graph = graphviz.Source(dot_data)\n",
    "graph"
   ]
  },
  {
   "cell_type": "markdown",
   "metadata": {},
   "source": [
    "# Neural network model"
   ]
  },
  {
   "cell_type": "code",
   "execution_count": 407,
   "metadata": {},
   "outputs": [],
   "source": [
    "import keras.backend as K\n",
    "import tensorflow as tf\n",
    "\n",
    "def f1(y_true, y_pred):\n",
    "    y_pred = K.round(y_pred)\n",
    "    tp = K.sum(K.cast(y_true*y_pred, 'float'), axis=0)\n",
    "    tn = K.sum(K.cast((1-y_true)*(1-y_pred), 'float'), axis=0)\n",
    "    fp = K.sum(K.cast((1-y_true)*y_pred, 'float'), axis=0)\n",
    "    fn = K.sum(K.cast(y_true*(1-y_pred), 'float'), axis=0)\n",
    "\n",
    "    p = tp / (tp + fp + K.epsilon())\n",
    "    r = tp / (tp + fn + K.epsilon())\n",
    "\n",
    "    f1 = 2*p*r / (p+r+K.epsilon())\n",
    "    f1 = tf.where(tf.is_nan(f1), tf.zeros_like(f1), f1)\n",
    "    return K.mean(f1)\n",
    "\n",
    "def f1_loss(y_true, y_pred):\n",
    "    \n",
    "    tp = K.sum(K.cast(y_true*y_pred, 'float'), axis=0)\n",
    "    tn = K.sum(K.cast((1-y_true)*(1-y_pred), 'float'), axis=0)\n",
    "    fp = K.sum(K.cast((1-y_true)*y_pred, 'float'), axis=0)\n",
    "    fn = K.sum(K.cast(y_true*(1-y_pred), 'float'), axis=0)\n",
    "\n",
    "    p = tp / (tp + fp + K.epsilon())\n",
    "    r = tp / (tp + fn + K.epsilon())\n",
    "\n",
    "    f1 = 2*p*r / (p+r+K.epsilon())\n",
    "    f1 = tf.where(tf.is_nan(f1), tf.zeros_like(f1), f1)\n",
    "    return 1 - K.mean(f1)"
   ]
  },
  {
   "cell_type": "code",
   "execution_count": 408,
   "metadata": {},
   "outputs": [
    {
     "name": "stdout",
     "output_type": "stream",
     "text": [
      "_________________________________________________________________\n",
      "Layer (type)                 Output Shape              Param #   \n",
      "=================================================================\n",
      "dense_26 (Dense)             (None, 512)               48128     \n",
      "_________________________________________________________________\n",
      "batch_normalization_6 (Batch (None, 512)               2048      \n",
      "_________________________________________________________________\n",
      "dropout_16 (Dropout)         (None, 512)               0         \n",
      "_________________________________________________________________\n",
      "dense_27 (Dense)             (None, 1024)              525312    \n",
      "_________________________________________________________________\n",
      "dropout_17 (Dropout)         (None, 1024)              0         \n",
      "_________________________________________________________________\n",
      "dense_28 (Dense)             (None, 512)               524800    \n",
      "_________________________________________________________________\n",
      "dropout_18 (Dropout)         (None, 512)               0         \n",
      "_________________________________________________________________\n",
      "dense_29 (Dense)             (None, 256)               131328    \n",
      "_________________________________________________________________\n",
      "dense_30 (Dense)             (None, 2)                 514       \n",
      "=================================================================\n",
      "Total params: 1,232,130\n",
      "Trainable params: 1,231,106\n",
      "Non-trainable params: 1,024\n",
      "_________________________________________________________________\n"
     ]
    }
   ],
   "source": [
    "import keras\n",
    "from keras import layers\n",
    "\n",
    "num_classes = 2\n",
    "input_shape = x_train.shape[1]\n",
    "model = keras.Sequential()\n",
    "model.add(layers.Dense(512, activation='relu', input_shape=(input_shape,)))\n",
    "model.add(layers.BatchNormalization())\n",
    "model.add(layers.Dropout(0.2))\n",
    "model.add(layers.Dense(1024, activation='relu'))\n",
    "# model.add(layers.BatchNormalization(input_shape=(input_shape,)))\n",
    "model.add(layers.Dropout(0.2))\n",
    "model.add(layers.Dense(512, activation = 'relu'))\n",
    "model.add(layers.Dropout(0.2))\n",
    "model.add(layers.Dense(256, activation = 'relu'))\n",
    "model.add(layers.Dense(num_classes, activation='softmax'))\n",
    "\n",
    "model.summary()"
   ]
  },
  {
   "cell_type": "code",
   "execution_count": 409,
   "metadata": {},
   "outputs": [],
   "source": [
    "model.compile(loss=f1_loss,\n",
    "            optimizer='rmsprop',\n",
    "            metrics=[f1])"
   ]
  },
  {
   "cell_type": "code",
   "execution_count": 410,
   "metadata": {},
   "outputs": [
    {
     "name": "stdout",
     "output_type": "stream",
     "text": [
      "Train on 4309 samples, validate on 1847 samples\n",
      "Epoch 1/40\n",
      "4309/4309 [==============================] - 2s 414us/step - loss: 0.5275 - f1: 0.4630 - val_loss: 0.4009 - val_f1: 0.5964\n",
      "Epoch 2/40\n",
      "4309/4309 [==============================] - 1s 124us/step - loss: 0.3748 - f1: 0.6257 - val_loss: 0.3928 - val_f1: 0.6072\n",
      "Epoch 3/40\n",
      "4309/4309 [==============================] - 1s 129us/step - loss: 0.3634 - f1: 0.6366 - val_loss: 0.3941 - val_f1: 0.6076\n",
      "Epoch 4/40\n",
      "4309/4309 [==============================] - 1s 133us/step - loss: 0.3621 - f1: 0.6391 - val_loss: 0.3839 - val_f1: 0.6151\n",
      "Epoch 5/40\n",
      "4309/4309 [==============================] - 1s 133us/step - loss: 0.3558 - f1: 0.6452 - val_loss: 0.3828 - val_f1: 0.6166\n",
      "Epoch 6/40\n",
      "4309/4309 [==============================] - 1s 133us/step - loss: 0.3563 - f1: 0.6441 - val_loss: 0.3905 - val_f1: 0.6079\n",
      "Epoch 7/40\n",
      "4309/4309 [==============================] - 1s 132us/step - loss: 0.3566 - f1: 0.6429 - val_loss: 0.3856 - val_f1: 0.6147\n",
      "Epoch 8/40\n",
      "4309/4309 [==============================] - 1s 134us/step - loss: 0.3567 - f1: 0.6439 - val_loss: 0.3857 - val_f1: 0.6150\n",
      "Epoch 9/40\n",
      "4309/4309 [==============================] - 1s 136us/step - loss: 0.3569 - f1: 0.6446 - val_loss: 0.3880 - val_f1: 0.6116\n",
      "Epoch 10/40\n",
      "4309/4309 [==============================] - 1s 151us/step - loss: 0.3555 - f1: 0.6454 - val_loss: 0.3909 - val_f1: 0.6078\n",
      "Epoch 11/40\n",
      "4309/4309 [==============================] - 1s 143us/step - loss: 0.3567 - f1: 0.6428 - val_loss: 0.3901 - val_f1: 0.6088\n",
      "Epoch 12/40\n",
      "4309/4309 [==============================] - 1s 150us/step - loss: 0.3540 - f1: 0.6467 - val_loss: 0.3840 - val_f1: 0.6157\n",
      "Epoch 13/40\n",
      "4309/4309 [==============================] - 1s 158us/step - loss: 0.3548 - f1: 0.6450 - val_loss: 0.3762 - val_f1: 0.6239\n",
      "Epoch 14/40\n",
      "4309/4309 [==============================] - 1s 140us/step - loss: 0.3477 - f1: 0.6523 - val_loss: 0.3908 - val_f1: 0.6083\n",
      "Epoch 15/40\n",
      "4309/4309 [==============================] - 1s 140us/step - loss: 0.3577 - f1: 0.6429 - val_loss: 0.3812 - val_f1: 0.6186\n",
      "Epoch 16/40\n",
      "4309/4309 [==============================] - 1s 142us/step - loss: 0.3481 - f1: 0.6524 - val_loss: 0.3741 - val_f1: 0.6260\n",
      "Epoch 17/40\n",
      "4309/4309 [==============================] - 1s 156us/step - loss: 0.3555 - f1: 0.6445 - val_loss: 0.3686 - val_f1: 0.6316\n",
      "Epoch 18/40\n",
      "4309/4309 [==============================] - 1s 141us/step - loss: 0.3520 - f1: 0.6481 - val_loss: 0.3754 - val_f1: 0.6239\n",
      "Epoch 19/40\n",
      "4309/4309 [==============================] - 1s 149us/step - loss: 0.3513 - f1: 0.6488 - val_loss: 0.3798 - val_f1: 0.6198\n",
      "Epoch 20/40\n",
      "4309/4309 [==============================] - 1s 161us/step - loss: 0.3584 - f1: 0.6417 - val_loss: 0.3783 - val_f1: 0.6222\n",
      "Epoch 21/40\n",
      "4309/4309 [==============================] - 1s 156us/step - loss: 0.3560 - f1: 0.6437 - val_loss: 0.3786 - val_f1: 0.6221\n",
      "Epoch 22/40\n",
      "4309/4309 [==============================] - 1s 156us/step - loss: 0.3544 - f1: 0.6456 - val_loss: 0.3842 - val_f1: 0.6158\n",
      "Epoch 23/40\n",
      "4309/4309 [==============================] - 1s 154us/step - loss: 0.3499 - f1: 0.6501 - val_loss: 0.3842 - val_f1: 0.6163\n",
      "Epoch 24/40\n",
      "4309/4309 [==============================] - 1s 170us/step - loss: 0.3536 - f1: 0.6462 - val_loss: 0.3832 - val_f1: 0.6176\n",
      "Epoch 25/40\n",
      "4309/4309 [==============================] - 1s 164us/step - loss: 0.3527 - f1: 0.6471 - val_loss: 0.3818 - val_f1: 0.6191\n",
      "Epoch 26/40\n",
      "4309/4309 [==============================] - 1s 167us/step - loss: 0.3534 - f1: 0.6468 - val_loss: 0.3875 - val_f1: 0.6125\n",
      "Epoch 27/40\n",
      "4309/4309 [==============================] - 1s 156us/step - loss: 0.3504 - f1: 0.6494 - val_loss: 0.3797 - val_f1: 0.6206\n",
      "Epoch 28/40\n",
      "4309/4309 [==============================] - 1s 151us/step - loss: 0.3494 - f1: 0.6507 - val_loss: 0.3808 - val_f1: 0.6188\n",
      "Epoch 29/40\n",
      "4309/4309 [==============================] - 1s 153us/step - loss: 0.3503 - f1: 0.6491 - val_loss: 0.3873 - val_f1: 0.6125\n",
      "Epoch 30/40\n",
      "4309/4309 [==============================] - 1s 150us/step - loss: 0.3448 - f1: 0.6551 - val_loss: 0.3850 - val_f1: 0.6148\n",
      "Epoch 31/40\n",
      "4309/4309 [==============================] - 1s 151us/step - loss: 0.3464 - f1: 0.6535 - val_loss: 0.3809 - val_f1: 0.6187\n",
      "Epoch 32/40\n",
      "4309/4309 [==============================] - 1s 150us/step - loss: 0.3470 - f1: 0.6527 - val_loss: 0.3788 - val_f1: 0.6218\n",
      "Epoch 33/40\n",
      "4309/4309 [==============================] - 1s 169us/step - loss: 0.3429 - f1: 0.6570 - val_loss: 0.3747 - val_f1: 0.6264\n",
      "Epoch 34/40\n",
      "4309/4309 [==============================] - 1s 175us/step - loss: 0.3435 - f1: 0.6563 - val_loss: 0.3805 - val_f1: 0.6193\n",
      "Epoch 35/40\n",
      "4309/4309 [==============================] - 1s 173us/step - loss: 0.3403 - f1: 0.6596 - val_loss: 0.3822 - val_f1: 0.6182\n",
      "Epoch 36/40\n",
      "4309/4309 [==============================] - 1s 174us/step - loss: 0.3440 - f1: 0.6562 - val_loss: 0.3832 - val_f1: 0.6166\n",
      "Epoch 37/40\n",
      "4309/4309 [==============================] - 1s 173us/step - loss: 0.3460 - f1: 0.6541 - val_loss: 0.3844 - val_f1: 0.6157\n",
      "Epoch 38/40\n",
      "4309/4309 [==============================] - 1s 278us/step - loss: 0.3466 - f1: 0.6534 - val_loss: 0.3838 - val_f1: 0.6164\n",
      "Epoch 39/40\n",
      "4309/4309 [==============================] - 2s 350us/step - loss: 0.3461 - f1: 0.6537 - val_loss: 0.3830 - val_f1: 0.6170\n",
      "Epoch 40/40\n",
      "4309/4309 [==============================] - 1s 334us/step - loss: 0.3538 - f1: 0.6462 - val_loss: 0.3716 - val_f1: 0.6287\n"
     ]
    }
   ],
   "source": [
    "from keras.utils import to_categorical\n",
    "no_epochs = 40\n",
    "batch_size = 1024\n",
    "history = model.fit(x_train, to_categorical(y_train), validation_split=.3, batch_size = batch_size, epochs = no_epochs )"
   ]
  },
  {
   "cell_type": "code",
   "execution_count": 413,
   "metadata": {},
   "outputs": [
    {
     "data": {
      "text/plain": [
       "0.6463866"
      ]
     },
     "execution_count": 413,
     "metadata": {},
     "output_type": "execute_result"
    },
    {
     "data": {
      "text/plain": [
       "0.63793564"
      ]
     },
     "execution_count": 413,
     "metadata": {},
     "output_type": "execute_result"
    }
   ],
   "source": [
    "y_pred = model.predict(x_test)\n",
    "K.eval(f1(to_categorical(y_train), model.predict(x_train)))\n",
    "K.eval(f1(to_categorical(y_test), y_pred))"
   ]
  },
  {
   "cell_type": "code",
   "execution_count": 412,
   "metadata": {},
   "outputs": [
    {
     "data": {
      "image/png": "[encoded data removed]",
      "text/plain": [
       "<Figure size 432x288 with 1 Axes>"
      ]
     },
     "metadata": {
      "needs_background": "light"
     },
     "output_type": "display_data"
    }
   ],
   "source": [
    "df = pd.DataFrame({'epochs':history.epoch, 'loss': history.history['loss'], \n",
    "                   'validation_loss': history.history['val_loss']\n",
    "                  })\n",
    "g = sns.pointplot(x=\"epochs\", y=\"loss\", data=df, fit_reg=False, color = 'yellow')\n",
    "g = sns.pointplot(x=\"epochs\", y=\"validation_loss\", data=df, fit_reg=False, color='red')"
   ]
  },
  {
   "cell_type": "code",
   "execution_count": 384,
   "metadata": {},
   "outputs": [
    {
     "data": {
      "image/png": "[encoded data removed]",
      "text/plain": [
       "<Figure size 432x288 with 1 Axes>"
      ]
     },
     "metadata": {
      "needs_background": "light"
     },
     "output_type": "display_data"
    }
   ],
   "source": [
    "import seaborn as sns\n",
    "df = pd.DataFrame({'epochs':history.epoch, 'accuracy': history.history['acc']\n",
    "                   , 'validation_accuracy': history.history['val_acc']\n",
    "                  })\n",
    "g = sns.pointplot(x=\"epochs\", y=\"accuracy\", data=df, fit_reg=False)\n",
    "g = sns.pointplot(x=\"epochs\", y=\"validation_accuracy\", data=df, fit_reg=False, color='green')"
   ]
  }
 ],
 "metadata": {
  "kernelspec": {
   "display_name": "Python 3",
   "language": "python",
   "name": "python3"
  },
  "language_info": {
   "codemirror_mode": {
    "name": "ipython",
    "version": 3
   },
   "file_extension": ".py",
   "mimetype": "text/x-python",
   "name": "python",
   "nbconvert_exporter": "python",
   "pygments_lexer": "ipython3",
   "version": "3.7.1"
  }
 },
 "nbformat": 4,
 "nbformat_minor": 2
}
