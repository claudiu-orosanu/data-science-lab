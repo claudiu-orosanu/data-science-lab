{
 "cells": [
  {
   "cell_type": "markdown",
   "metadata": {},
   "source": [
    "# Android Data from PlayStore"
   ]
  },
  {
   "cell_type": "code",
   "execution_count": 74,
   "metadata": {},
   "outputs": [
    {
     "name": "stdout",
     "output_type": "stream",
     "text": [
      "The autoreload extension is already loaded. To reload it, use:\n",
      "  %reload_ext autoreload\n"
     ]
    },
    {
     "data": {
      "text/html": [
       "<style>.container { width:100% !important; }</style>"
      ],
      "text/plain": [
       "<IPython.core.display.HTML object>"
      ]
     },
     "metadata": {},
     "output_type": "display_data"
    }
   ],
   "source": [
    "%matplotlib inline\n",
    "%load_ext autoreload\n",
    "%autoreload 2\n",
    "\n",
    "from IPython.core.interactiveshell import InteractiveShell\n",
    "InteractiveShell.ast_node_interactivity = \"all\"\n",
    "\n",
    "from IPython.core.display import display, HTML\n",
    "display(HTML(\"<style>.container { width:100% !important; }</style>\"))"
   ]
  },
  {
   "cell_type": "code",
   "execution_count": 75,
   "metadata": {},
   "outputs": [],
   "source": [
    "import pandas as pd\n",
    "import numpy as np\n",
    "import matplotlib.pyplot as plt\n",
    "import seaborn as sns"
   ]
  },
  {
   "cell_type": "code",
   "execution_count": 76,
   "metadata": {},
   "outputs": [
    {
     "name": "stdout",
     "output_type": "stream",
     "text": [
      "The autoreload extension is already loaded. To reload it, use:\n",
      "  %reload_ext autoreload\n"
     ]
    },
    {
     "data": {
      "text/html": [
       "<style>.container { width:100% !important; }</style>"
      ],
      "text/plain": [
       "<IPython.core.display.HTML object>"
      ]
     },
     "metadata": {},
     "output_type": "display_data"
    },
    {
     "name": "stdout",
     "output_type": "stream",
     "text": [
      "<class 'pandas.core.frame.DataFrame'>\n",
      "RangeIndex: 10841 entries, 0 to 10840\n",
      "Data columns (total 13 columns):\n",
      "name               10841 non-null object\n",
      "category           10841 non-null object\n",
      "rating             9367 non-null float64\n",
      "reviews            10841 non-null object\n",
      "size               10841 non-null object\n",
      "installs           10841 non-null object\n",
      "type               10840 non-null object\n",
      "price              10841 non-null object\n",
      "content_rating     10840 non-null object\n",
      "genres             10841 non-null object\n",
      "last_updated       10841 non-null object\n",
      "version            10833 non-null object\n",
      "android_version    10838 non-null object\n",
      "dtypes: float64(1), object(12)\n",
      "memory usage: 1.1+ MB\n",
      "Number of duplicate entries : 1181\n",
      "Original values : ['Free' 'Paid' nan]\n",
      "Unique genres before preprocessing : 118\n",
      " Apps with more than one genre : 393 \n",
      "Unique genres : 48\n",
      "Oldest updated app : 2010\n",
      "Longest app name with 25 words : 591 housing transactions - renting houses, middle-class houses, new cases, real-time registration, villas through the sky, apartment suites, MRT, buying a house selling prices, housing mortgages\n",
      "Shortes app name with 1 words : REPUVE\n",
      "Ignore all the gibberish above ! Dataframe is loaded ! \n"
     ]
    }
   ],
   "source": [
    "# load data\n",
    "%run ./Preprocessing.ipynb\n",
    "df = get_data()\n",
    "orig_df = df.copy()"
   ]
  },
  {
   "cell_type": "markdown",
   "metadata": {},
   "source": [
    "# Science\n",
    "\n",
    "We transformed the problem in a classification one. Now rating can be *poor* (< 4) and *excellent* (>=4). \n",
    "\n",
    "We achieved the following : \n",
    "- 70% with RandomForest(n_estimators = 100)\n",
    "\n",
    "Notes : \n",
    "- RandomForest clearly tends to overfit. Reducing the complexity of the tree algorithm doesn't improve accuracy in cross validation by no means. \n",
    "    + this may mean that the model is too complex. reducing the number of features took into account can help\n",
    "**Next thing** : We should try adding or changing the features of data, and try more values for the hyperparameters of the algorithm"
   ]
  },
  {
   "cell_type": "code",
   "execution_count": 194,
   "metadata": {},
   "outputs": [],
   "source": [
    "df = orig_df.copy()"
   ]
  },
  {
   "cell_type": "code",
   "execution_count": 188,
   "metadata": {},
   "outputs": [
    {
     "data": {
      "text/plain": [
       "array(['category', 'rating', 'reviews', 'size', 'installs', 'type',\n",
       "       'price', 'content_rating', 'genres', 'version', 'android_version',\n",
       "       'price_rounded', 'last_updated_days', 'last_updated_year',\n",
       "       'last_updated_day', 'last_updated_month_sin',\n",
       "       'last_updated_month_cos', 'name_wc'], dtype=object)"
      ]
     },
     "execution_count": 188,
     "metadata": {},
     "output_type": "execute_result"
    }
   ],
   "source": [
    "features = df.columns.values\n",
    "features"
   ]
  },
  {
   "cell_type": "code",
   "execution_count": 189,
   "metadata": {},
   "outputs": [],
   "source": [
    "pre_features = ['category', 'size', 'type', 'price', 'content_rating', 'genres', 'android_version', 'name_wc']\n",
    "post_features = [feature for feature in df.columns.values if feature not in pre_features]\n",
    "log_features = ['reviews', 'installs', 'size']"
   ]
  },
  {
   "cell_type": "code",
   "execution_count": 190,
   "metadata": {},
   "outputs": [],
   "source": [
    "df[log_features] = np.log(df[log_features])"
   ]
  },
  {
   "cell_type": "code",
   "execution_count": 191,
   "metadata": {},
   "outputs": [
    {
     "name": "stdout",
     "output_type": "stream",
     "text": [
      "Removing 0 outliers\n"
     ]
    }
   ],
   "source": [
    "from scipy import stats\n",
    "remove_outliers = True\n",
    "if remove_outliers:\n",
    "    z = np.abs(stats.zscore(df))\n",
    "    mask = (z>3).all(axis = 1)\n",
    "    print('Removing %d outliers' % mask.sum())\n",
    "    df = df[~mask]"
   ]
  },
  {
   "cell_type": "code",
   "execution_count": 192,
   "metadata": {},
   "outputs": [],
   "source": [
    "Y = df['installs'].values\n",
    "X = df.drop(columns = ['installs'])\n",
    "X = X[pre_features].values"
   ]
  },
  {
   "cell_type": "code",
   "execution_count": 195,
   "metadata": {},
   "outputs": [
    {
     "data": {
      "text/plain": [
       "<matplotlib.axes._subplots.AxesSubplot at 0x7f27966c4390>"
      ]
     },
     "execution_count": 195,
     "metadata": {},
     "output_type": "execute_result"
    },
    {
     "data": {
      "text/plain": [
       "<matplotlib.axes._subplots.AxesSubplot at 0x7f27965df550>"
      ]
     },
     "execution_count": 195,
     "metadata": {},
     "output_type": "execute_result"
    },
    {
     "data": {
      "image/png": "[encoded data removed]",
      "text/plain": [
       "<Figure size 432x288 with 2 Axes>"
      ]
     },
     "metadata": {
      "needs_background": "light"
     },
     "output_type": "display_data"
    }
   ],
   "source": [
    "fig, axs = plt.subplots(nrows = 1,ncols = 2)\n",
    "fig.subplots_adjust(right = 2)\n",
    "sns.distplot(df['installs'], ax = axs[0])\n",
    "sns.distplot(df['size'], ax = axs[1])"
   ]
  },
  {
   "cell_type": "code",
   "execution_count": 167,
   "metadata": {},
   "outputs": [
    {
     "data": {
      "text/plain": [
       "0    132\n",
       "1    295\n",
       "dtype: int64"
      ]
     },
     "execution_count": 167,
     "metadata": {},
     "output_type": "execute_result"
    }
   ],
   "source": [
    "# split rating into two labels\n",
    "Y = pd.cut(Y, \n",
    "           bins=[0, 4, 5], \n",
    "           labels=[0, 1])\n",
    "Y.value_counts()\n",
    "Y = Y.codes"
   ]
  },
  {
   "cell_type": "code",
   "execution_count": 144,
   "metadata": {},
   "outputs": [],
   "source": [
    "from sklearn.model_selection import train_test_split\n",
    "x_train, x_test, y_train, y_test = train_test_split(X, Y, test_size = 0.2, random_state = 42)"
   ]
  },
  {
   "cell_type": "code",
   "execution_count": 149,
   "metadata": {},
   "outputs": [
    {
     "data": {
      "text/plain": [
       "Ridge(alpha=1.0, copy_X=True, fit_intercept=True, max_iter=None,\n",
       "   normalize=False, random_state=None, solver='auto', tol=0.001)"
      ]
     },
     "execution_count": 149,
     "metadata": {},
     "output_type": "execute_result"
    },
    {
     "data": {
      "text/plain": [
       "0.04158467326107429"
      ]
     },
     "execution_count": 149,
     "metadata": {},
     "output_type": "execute_result"
    },
    {
     "name": "stderr",
     "output_type": "stream",
     "text": [
      "/home/bob/programs/anaconda3/envs/ml/lib/python3.6/site-packages/scipy/stats/stats.py:1713: FutureWarning: Using a non-tuple sequence for multidimensional indexing is deprecated; use `arr[tuple(seq)]` instead of `arr[seq]`. In the future this will be interpreted as an array index, `arr[np.array(seq)]`, which will result either in an error or a different result.\n",
      "  return np.add.reduce(sorted[indexer] * weights, axis=axis) / sumval\n"
     ]
    },
    {
     "data": {
      "text/plain": [
       "<matplotlib.axes._subplots.AxesSubplot at 0x7f2797ef28d0>"
      ]
     },
     "execution_count": 149,
     "metadata": {},
     "output_type": "execute_result"
    },
    {
     "data": {
      "image/png": "[encoded data removed]",
      "text/plain": [
       "<Figure size 432x288 with 1 Axes>"
      ]
     },
     "metadata": {
      "needs_background": "light"
     },
     "output_type": "display_data"
    }
   ],
   "source": [
    "from sklearn.linear_model import Ridge\n",
    "reg = Ridge()\n",
    "reg.fit(x_train, y_train)\n",
    "reg.score(x_train, y_train)\n",
    "sns.regplot(y_train, reg.predict(x_train))"
   ]
  },
  {
   "cell_type": "code",
   "execution_count": 36,
   "metadata": {},
   "outputs": [
    {
     "data": {
      "text/plain": [
       "3922"
      ]
     },
     "execution_count": 36,
     "metadata": {},
     "output_type": "execute_result"
    },
    {
     "data": {
      "text/plain": [
       "3922"
      ]
     },
     "execution_count": 36,
     "metadata": {},
     "output_type": "execute_result"
    }
   ],
   "source": [
    "# the dataset is rather imbalanced, which will skew the results. So we reduce the number of big rating examples\n",
    "# we can also try upsampling the small rating examples\n",
    "from imblearn.under_sampling import RandomUnderSampler\n",
    "from imblearn.over_sampling import RandomOverSampler\n",
    "# from imblearn.usampler import TODO\n",
    "sampler = RandomOverSampler(random_state = 42)\n",
    "x_train, y_train = sampler.fit_resample(x_train,y_train)\n",
    "len(y_train[y_train==1])\n",
    "len(y_train[y_train==0])"
   ]
  },
  {
   "cell_type": "code",
   "execution_count": 148,
   "metadata": {},
   "outputs": [
    {
     "data": {
      "text/plain": [
       "StandardScaler(copy=True, with_mean=True, with_std=True)"
      ]
     },
     "execution_count": 148,
     "metadata": {},
     "output_type": "execute_result"
    }
   ],
   "source": [
    "from sklearn import preprocessing\n",
    "# scale data if needed. forests and trees don't need it. Others do. \n",
    "scale = True\n",
    "if scale:\n",
    "    scaler = preprocessing.StandardScaler()\n",
    "    scaler.fit(x_train)\n",
    "    x_train = scaler.transform(x_train)\n",
    "    x_test = scaler.transform(x_test)"
   ]
  },
  {
   "cell_type": "code",
   "execution_count": 39,
   "metadata": {},
   "outputs": [
    {
     "data": {
      "text/plain": [
       "[(0.9808771035186129,\n",
       "  DecisionTreeClassifier(class_weight=None, criterion='gini', max_depth=None,\n",
       "              max_features=None, max_leaf_nodes=None,\n",
       "              min_impurity_decrease=0, min_impurity_split=None,\n",
       "              min_samples_leaf=1, min_samples_split=2,\n",
       "              min_weight_fraction_leaf=0.0, presort=False, random_state=42,\n",
       "              splitter='best')),\n",
       " (0.9808771035186129,\n",
       "  RandomForestClassifier(bootstrap=True, class_weight=None, criterion='gini',\n",
       "              max_depth=None, max_features='auto', max_leaf_nodes=None,\n",
       "              min_impurity_decrease=0, min_impurity_split=None,\n",
       "              min_samples_leaf=1, min_samples_split=2,\n",
       "              min_weight_fraction_leaf=0.0, n_estimators=100, n_jobs=None,\n",
       "              oob_score=False, random_state=42, verbose=0, warm_start=False)),\n",
       " (0.8574706782253952,\n",
       "  KNeighborsClassifier(algorithm='auto', leaf_size=30, metric='minkowski',\n",
       "             metric_params=None, n_jobs=None, n_neighbors=2, p=2,\n",
       "             weights='uniform')),\n",
       " (0.6211116777154513, SVC(C=1.0, cache_size=200, class_weight=None, coef0=0.0,\n",
       "    decision_function_shape='ovr', degree=3, gamma='auto_deprecated',\n",
       "    kernel='rbf', max_iter=-1, probability=False, random_state=42,\n",
       "    shrinking=True, tol=0.001, verbose=False))]"
      ]
     },
     "execution_count": 39,
     "metadata": {},
     "output_type": "execute_result"
    },
    {
     "data": {
      "text/plain": [
       "[(0.6511954992967651,\n",
       "  RandomForestClassifier(bootstrap=True, class_weight=None, criterion='gini',\n",
       "              max_depth=None, max_features='auto', max_leaf_nodes=None,\n",
       "              min_impurity_decrease=0, min_impurity_split=None,\n",
       "              min_samples_leaf=1, min_samples_split=2,\n",
       "              min_weight_fraction_leaf=0.0, n_estimators=100, n_jobs=None,\n",
       "              oob_score=False, random_state=42, verbose=0, warm_start=False)),\n",
       " (0.6125175808720112,\n",
       "  DecisionTreeClassifier(class_weight=None, criterion='gini', max_depth=None,\n",
       "              max_features=None, max_leaf_nodes=None,\n",
       "              min_impurity_decrease=0, min_impurity_split=None,\n",
       "              min_samples_leaf=1, min_samples_split=2,\n",
       "              min_weight_fraction_leaf=0.0, presort=False, random_state=42,\n",
       "              splitter='best')),\n",
       " (0.580168776371308, SVC(C=1.0, cache_size=200, class_weight=None, coef0=0.0,\n",
       "    decision_function_shape='ovr', degree=3, gamma='auto_deprecated',\n",
       "    kernel='rbf', max_iter=-1, probability=False, random_state=42,\n",
       "    shrinking=True, tol=0.001, verbose=False)),\n",
       " (0.5295358649789029,\n",
       "  KNeighborsClassifier(algorithm='auto', leaf_size=30, metric='minkowski',\n",
       "             metric_params=None, n_jobs=None, n_neighbors=2, p=2,\n",
       "             weights='uniform'))]"
      ]
     },
     "execution_count": 39,
     "metadata": {},
     "output_type": "execute_result"
    },
    {
     "data": {
      "text/plain": [
       "[(0.6511954992967651,\n",
       "  RandomForestClassifier(bootstrap=True, class_weight=None, criterion='gini',\n",
       "              max_depth=None, max_features='auto', max_leaf_nodes=None,\n",
       "              min_impurity_decrease=0, min_impurity_split=None,\n",
       "              min_samples_leaf=1, min_samples_split=2,\n",
       "              min_weight_fraction_leaf=0.0, n_estimators=100, n_jobs=None,\n",
       "              oob_score=False, random_state=42, verbose=0, warm_start=False)),\n",
       " (0.6125175808720112,\n",
       "  DecisionTreeClassifier(class_weight=None, criterion='gini', max_depth=None,\n",
       "              max_features=None, max_leaf_nodes=None,\n",
       "              min_impurity_decrease=0, min_impurity_split=None,\n",
       "              min_samples_leaf=1, min_samples_split=2,\n",
       "              min_weight_fraction_leaf=0.0, presort=False, random_state=42,\n",
       "              splitter='best')),\n",
       " (0.580168776371308, SVC(C=1.0, cache_size=200, class_weight=None, coef0=0.0,\n",
       "    decision_function_shape='ovr', degree=3, gamma='auto_deprecated',\n",
       "    kernel='rbf', max_iter=-1, probability=False, random_state=42,\n",
       "    shrinking=True, tol=0.001, verbose=False)),\n",
       " (0.5295358649789029,\n",
       "  KNeighborsClassifier(algorithm='auto', leaf_size=30, metric='minkowski',\n",
       "             metric_params=None, n_jobs=None, n_neighbors=2, p=2,\n",
       "             weights='uniform'))]"
      ]
     },
     "execution_count": 39,
     "metadata": {},
     "output_type": "execute_result"
    }
   ],
   "source": [
    "from sklearn import ensemble, tree, svm, neighbors\n",
    "from sklearn.model_selection import cross_val_score\n",
    "from model import Model, ModelsBenchmark\n",
    "\n",
    "models = [\n",
    "        svm.SVC(kernel = 'rbf', random_state=42),\n",
    "        tree.DecisionTreeClassifier( min_impurity_decrease = 0, min_samples_leaf = 1, random_state = 42),\n",
    "        ensemble.RandomForestClassifier(n_estimators=100, min_impurity_decrease=0, min_samples_leaf=1, random_state=42),\n",
    "        neighbors.KNeighborsClassifier(n_neighbors = 2)\n",
    "         ]\n",
    "bench = ModelsBenchmark(models);\n",
    "bench.fit(x_train, y_train);\n",
    "bench.score(x_train, y_train);\n",
    "bench.score(x_test, y_test);\n",
    "bench._scores"
   ]
  },
  {
   "cell_type": "code",
   "execution_count": 55,
   "metadata": {},
   "outputs": [
    {
     "data": {
      "text/plain": [
       "array([0.76490826, 0.77735272, 0.81943382])"
      ]
     },
     "execution_count": 55,
     "metadata": {},
     "output_type": "execute_result"
    },
    {
     "data": {
      "text/plain": [
       "0.7872315969760569"
      ]
     },
     "execution_count": 55,
     "metadata": {},
     "output_type": "execute_result"
    },
    {
     "data": {
      "text/plain": [
       "RandomForestClassifier(bootstrap=True, class_weight=None, criterion='gini',\n",
       "            max_depth=None, max_features='auto', max_leaf_nodes=None,\n",
       "            min_impurity_decrease=0, min_impurity_split=None,\n",
       "            min_samples_leaf=1, min_samples_split=2,\n",
       "            min_weight_fraction_leaf=0.0, n_estimators=100, n_jobs=None,\n",
       "            oob_score=False, random_state=42, verbose=0, warm_start=False)"
      ]
     },
     "execution_count": 55,
     "metadata": {},
     "output_type": "execute_result"
    },
    {
     "data": {
      "text/plain": [
       "0.6511954992967651"
      ]
     },
     "execution_count": 55,
     "metadata": {},
     "output_type": "execute_result"
    }
   ],
   "source": [
    "# hyperparameters will be tuned agains the following score mean. \n",
    "# This is called cross-validation and is done to avoid overfitting the test data\n",
    "clf = ensemble.RandomForestClassifier(n_estimators=100, min_impurity_decrease=0, min_samples_leaf=1, random_state=42)\n",
    "scores = cross_val_score(clf, x_train, y_train, cv = 3)\n",
    "scores\n",
    "scores.mean()\n",
    "clf.fit(x_train,y_train)\n",
    "clf.score(x_test,y_test)"
   ]
  },
  {
   "cell_type": "markdown",
   "metadata": {},
   "source": [
    "# Evaluating models"
   ]
  },
  {
   "cell_type": "code",
   "execution_count": 45,
   "metadata": {},
   "outputs": [],
   "source": [
    "# reduce dimensionality to be able to plot data\n",
    "from sklearn.decomposition import PCA\n",
    "\n",
    "pca = PCA(n_components = 2, random_state = 42);\n",
    "    \n",
    "def reduce_dimensions(X, fit=False):\n",
    "    if fit:\n",
    "        pca.fit(X)\n",
    "    return pca.transform(X)\n"
   ]
  },
  {
   "cell_type": "code",
   "execution_count": 46,
   "metadata": {},
   "outputs": [
    {
     "data": {
      "text/plain": [
       "[(0.6511954992967651,\n",
       "  RandomForestClassifier(bootstrap=True, class_weight=None, criterion='gini',\n",
       "              max_depth=None, max_features='auto', max_leaf_nodes=None,\n",
       "              min_impurity_decrease=0, min_impurity_split=None,\n",
       "              min_samples_leaf=1, min_samples_split=2,\n",
       "              min_weight_fraction_leaf=0.0, n_estimators=100, n_jobs=None,\n",
       "              oob_score=False, random_state=42, verbose=0, warm_start=False)),\n",
       " (0.6125175808720112,\n",
       "  DecisionTreeClassifier(class_weight=None, criterion='gini', max_depth=None,\n",
       "              max_features=None, max_leaf_nodes=None,\n",
       "              min_impurity_decrease=0, min_impurity_split=None,\n",
       "              min_samples_leaf=1, min_samples_split=2,\n",
       "              min_weight_fraction_leaf=0.0, presort=False, random_state=42,\n",
       "              splitter='best')),\n",
       " (0.580168776371308, SVC(C=1.0, cache_size=200, class_weight=None, coef0=0.0,\n",
       "    decision_function_shape='ovr', degree=3, gamma='auto_deprecated',\n",
       "    kernel='rbf', max_iter=-1, probability=False, random_state=42,\n",
       "    shrinking=True, tol=0.001, verbose=False)),\n",
       " (0.5295358649789029,\n",
       "  KNeighborsClassifier(algorithm='auto', leaf_size=30, metric='minkowski',\n",
       "             metric_params=None, n_jobs=None, n_neighbors=2, p=2,\n",
       "             weights='uniform'))]"
      ]
     },
     "execution_count": 46,
     "metadata": {},
     "output_type": "execute_result"
    },
    {
     "data": {
      "text/plain": [
       "<matplotlib.collections.PathCollection at 0x7f27ae068550>"
      ]
     },
     "execution_count": 46,
     "metadata": {},
     "output_type": "execute_result"
    },
    {
     "data": {
      "text/plain": [
       "Text(0.5, 1.0, 'Train Data')"
      ]
     },
     "execution_count": 46,
     "metadata": {},
     "output_type": "execute_result"
    },
    {
     "data": {
      "text/plain": [
       "Text(0.5, 0, 'x_0')"
      ]
     },
     "execution_count": 46,
     "metadata": {},
     "output_type": "execute_result"
    },
    {
     "data": {
      "text/plain": [
       "Text(0, 0.5, 'x_1')"
      ]
     },
     "execution_count": 46,
     "metadata": {},
     "output_type": "execute_result"
    },
    {
     "data": {
      "text/plain": [
       "<matplotlib.collections.PathCollection at 0x7f27ae17b710>"
      ]
     },
     "execution_count": 46,
     "metadata": {},
     "output_type": "execute_result"
    },
    {
     "data": {
      "text/plain": [
       "Text(0.5, 1.0, 'Test Data')"
      ]
     },
     "execution_count": 46,
     "metadata": {},
     "output_type": "execute_result"
    },
    {
     "data": {
      "text/plain": [
       "Text(0.5, 0, 'x_0')"
      ]
     },
     "execution_count": 46,
     "metadata": {},
     "output_type": "execute_result"
    },
    {
     "data": {
      "text/plain": [
       "Text(0, 0.5, 'x_1')"
      ]
     },
     "execution_count": 46,
     "metadata": {},
     "output_type": "execute_result"
    },
    {
     "data": {
      "text/plain": [
       "<matplotlib.axes._subplots.AxesSubplot at 0x7f27ae091cc0>"
      ]
     },
     "execution_count": 46,
     "metadata": {},
     "output_type": "execute_result"
    },
    {
     "data": {
      "text/plain": [
       "Text(0.5, 1.0, 'Test')"
      ]
     },
     "execution_count": 46,
     "metadata": {},
     "output_type": "execute_result"
    },
    {
     "data": {
      "text/plain": [
       "Text(0.5, 15.0, 'Predicted')"
      ]
     },
     "execution_count": 46,
     "metadata": {},
     "output_type": "execute_result"
    },
    {
     "data": {
      "text/plain": [
       "Text(455.608695652174, 0.5, 'Actual')"
      ]
     },
     "execution_count": 46,
     "metadata": {},
     "output_type": "execute_result"
    },
    {
     "data": {
      "text/plain": [
       "<matplotlib.axes._subplots.AxesSubplot at 0x7f27ae03f278>"
      ]
     },
     "execution_count": 46,
     "metadata": {},
     "output_type": "execute_result"
    },
    {
     "data": {
      "text/plain": [
       "Text(0.5, 1.0, 'Train')"
      ]
     },
     "execution_count": 46,
     "metadata": {},
     "output_type": "execute_result"
    },
    {
     "data": {
      "text/plain": [
       "Text(0.5, 15.0, 'Predicted')"
      ]
     },
     "execution_count": 46,
     "metadata": {},
     "output_type": "execute_result"
    },
    {
     "data": {
      "text/plain": [
       "Text(666.913043478261, 0.5, 'Actual')"
      ]
     },
     "execution_count": 46,
     "metadata": {},
     "output_type": "execute_result"
    },
    {
     "name": "stdout",
     "output_type": "stream",
     "text": [
      "[[3890   32]\n",
      " [ 118 3804]]\n",
      "Train Accuracy : 0.98 \n",
      "Test Accuracy : 0.65 \n"
     ]
    },
    {
     "data": {
      "image/png": "[encoded data removed]",
      "text/plain": [
       "<Figure size 432x288 with 6 Axes>"
      ]
     },
     "metadata": {
      "needs_background": "light"
     },
     "output_type": "display_data"
    }
   ],
   "source": [
    "# print and plot metrics for the best one\n",
    "from sklearn.metrics import confusion_matrix\n",
    "bench.fit(x_train, y_train)\n",
    "bench.score(x_test, y_test)\n",
    "clf = bench._sorted[0]\n",
    "fig, axs = plt.subplots(nrows = 1, ncols = 4);\n",
    "fig.subplots_adjust(right = 2);\n",
    "x_plot = reduce_dimensions(x_train, fit = True)\n",
    "axs[0].scatter(x_plot[:, 0], x_plot[:,1], c = y_train);\n",
    "axs[0].set_title('Train Data');\n",
    "axs[0].set_xlabel('x_0');\n",
    "axs[0].set_ylabel('x_1');\n",
    "x_plot = reduce_dimensions(x_test)\n",
    "axs[1].scatter(x_plot[:, 0], x_plot[:,1], c = y_test);\n",
    "axs[1].set_title('Test Data');\n",
    "axs[1].set_xlabel('x_0');\n",
    "axs[1].set_ylabel('x_1');\n",
    "test_cnf_matrix = confusion_matrix(y_test, clf.predict(x_test))\n",
    "sns.heatmap(test_cnf_matrix, ax = axs[2], vmin = 0);\n",
    "axs[2].set_title('Test');\n",
    "axs[2].set_xlabel('Predicted');\n",
    "axs[2].set_ylabel('Actual');\n",
    "train_cnf_matrix = confusion_matrix(y_train, clf.predict(x_train))\n",
    "sns.heatmap(train_cnf_matrix, ax = axs[3], vmin = 0);\n",
    "axs[3].set_title('Train');\n",
    "axs[3].set_xlabel('Predicted');\n",
    "axs[3].set_ylabel('Actual');\n",
    "print(train_cnf_matrix)\n",
    "print('Train Accuracy : %.2f ' % clf.score(x_train, y_train))\n",
    "print('Test Accuracy : %.2f ' % clf.score(x_test, y_test))"
   ]
  },
  {
   "cell_type": "code",
   "execution_count": 65,
   "metadata": {},
   "outputs": [],
   "source": [
    "clf = ensemble.RandomForestClassifier(n_estimators=100, min_impurity_decrease=0, min_samples_leaf=1, random_state=42)"
   ]
  },
  {
   "cell_type": "code",
   "execution_count": 67,
   "metadata": {},
   "outputs": [
    {
     "data": {
      "text/plain": [
       "RandomForestClassifier(bootstrap=True, class_weight=None, criterion='gini',\n",
       "            max_depth=None, max_features='auto', max_leaf_nodes=None,\n",
       "            min_impurity_decrease=0, min_impurity_split=None,\n",
       "            min_samples_leaf=1, min_samples_split=2,\n",
       "            min_weight_fraction_leaf=0.0, n_estimators=100, n_jobs=None,\n",
       "            oob_score=False, random_state=42, verbose=0, warm_start=False)"
      ]
     },
     "execution_count": 67,
     "metadata": {},
     "output_type": "execute_result"
    },
    {
     "data": {
      "text/plain": [
       "<matplotlib.colorbar.Colorbar at 0x7f279f4c50b8>"
      ]
     },
     "execution_count": 67,
     "metadata": {},
     "output_type": "execute_result"
    },
    {
     "data": {
      "text/plain": [
       "Text(0.5, 1.0, 'Points with true label 0 ')"
      ]
     },
     "execution_count": 67,
     "metadata": {},
     "output_type": "execute_result"
    },
    {
     "name": "stderr",
     "output_type": "stream",
     "text": [
      "/home/bob/programs/anaconda3/envs/ml/lib/python3.6/site-packages/ipykernel_launcher.py:16: DeprecationWarning: elementwise == comparison failed; this will raise an error in the future.\n",
      "  app.launch_new_instance()\n"
     ]
    },
    {
     "ename": "AttributeError",
     "evalue": "'bool' object has no attribute 'sum'",
     "output_type": "error",
     "traceback": [
      "\u001b[0;31m---------------------------------------------------------------------------\u001b[0m",
      "\u001b[0;31mAttributeError\u001b[0m                            Traceback (most recent call last)",
      "\u001b[0;32m<ipython-input-67-acfdedc8c00e>\u001b[0m in \u001b[0;36m<module>\u001b[0;34m\u001b[0m\n\u001b[1;32m     14\u001b[0m \u001b[0mfig\u001b[0m\u001b[0;34m.\u001b[0m\u001b[0mcolorbar\u001b[0m\u001b[0;34m(\u001b[0m\u001b[0mscatter\u001b[0m\u001b[0;34m,\u001b[0m \u001b[0max\u001b[0m \u001b[0;34m=\u001b[0m \u001b[0maxs\u001b[0m\u001b[0;34m[\u001b[0m\u001b[0;36m0\u001b[0m\u001b[0;34m]\u001b[0m\u001b[0;34m)\u001b[0m\u001b[0;34m\u001b[0m\u001b[0;34m\u001b[0m\u001b[0m\n\u001b[1;32m     15\u001b[0m \u001b[0maxs\u001b[0m\u001b[0;34m[\u001b[0m\u001b[0;36m0\u001b[0m\u001b[0;34m]\u001b[0m\u001b[0;34m.\u001b[0m\u001b[0mset_title\u001b[0m\u001b[0;34m(\u001b[0m\u001b[0;34m'Points with true label 0 '\u001b[0m\u001b[0;34m)\u001b[0m\u001b[0;34m\u001b[0m\u001b[0;34m\u001b[0m\u001b[0m\n\u001b[0;32m---> 16\u001b[0;31m \u001b[0mlabeled_0_acc\u001b[0m \u001b[0;34m=\u001b[0m \u001b[0;34m(\u001b[0m\u001b[0my_pred\u001b[0m\u001b[0;34m[\u001b[0m\u001b[0my_pred\u001b[0m \u001b[0;34m==\u001b[0m \u001b[0;36m0\u001b[0m\u001b[0;34m]\u001b[0m \u001b[0;34m==\u001b[0m \u001b[0my_plot\u001b[0m\u001b[0;34m[\u001b[0m\u001b[0my_plot\u001b[0m \u001b[0;34m==\u001b[0m \u001b[0;36m0\u001b[0m\u001b[0;34m]\u001b[0m\u001b[0;34m)\u001b[0m\u001b[0;34m.\u001b[0m\u001b[0msum\u001b[0m\u001b[0;34m(\u001b[0m\u001b[0;34m)\u001b[0m \u001b[0;34m/\u001b[0m \u001b[0mlen\u001b[0m\u001b[0;34m(\u001b[0m\u001b[0my_pred\u001b[0m\u001b[0;34m)\u001b[0m\u001b[0;34m\u001b[0m\u001b[0;34m\u001b[0m\u001b[0m\n\u001b[0m\u001b[1;32m     17\u001b[0m \u001b[0mprint\u001b[0m\u001b[0;34m(\u001b[0m\u001b[0;34m'Accuracy for true label 0 : %.3f'\u001b[0m \u001b[0;34m%\u001b[0m \u001b[0mlabeled_0_acc\u001b[0m\u001b[0;34m)\u001b[0m\u001b[0;34m\u001b[0m\u001b[0;34m\u001b[0m\u001b[0m\n\u001b[1;32m     18\u001b[0m \u001b[0mlabeled_1\u001b[0m \u001b[0;34m=\u001b[0m \u001b[0mx_plot\u001b[0m\u001b[0;34m[\u001b[0m\u001b[0my_plot\u001b[0m \u001b[0;34m==\u001b[0m \u001b[0;36m1\u001b[0m\u001b[0;34m]\u001b[0m\u001b[0;34m\u001b[0m\u001b[0;34m\u001b[0m\u001b[0m\n",
      "\u001b[0;31mAttributeError\u001b[0m: 'bool' object has no attribute 'sum'"
     ]
    },
    {
     "data": {
      "image/png": "[encoded data removed]",
      "text/plain": [
       "<Figure size 432x288 with 3 Axes>"
      ]
     },
     "metadata": {
      "needs_background": "light"
     },
     "output_type": "display_data"
    }
   ],
   "source": [
    "# plot both labels separately and our predictions on them\n",
    "fig, axs = plt.subplots(nrows = 1, ncols = 2)\n",
    "x_plot_train = reduce_dimensions(x_train, fit=True)\n",
    "y_plot_train = y_train\n",
    "x_plot_test = reduce_dimensions(x_test)\n",
    "y_plot_test = y_test\n",
    "clf.fit(x_plot_train,y_plot_train)\n",
    "x_plot = x_plot_test\n",
    "y_plot = y_plot_test\n",
    "y_pred = clf.predict(x_plot)\n",
    "fig.subplots_adjust(right = 2)\n",
    "labeled_0 = x_plot[y_plot == 0]\n",
    "scatter = axs[0].scatter(labeled_0[:,0], labeled_0[:, 1], c = y_pred[y_plot ==  0], )\n",
    "fig.colorbar(scatter, ax = axs[0])\n",
    "axs[0].set_title('Points with true label 0 ')\n",
    "labeled_0_acc = (y_pred == 0) == (y_plot == 0).sum() / len(y_pred)\n",
    "print('Accuracy for true label 0 : %.3f' % labeled_0_acc)\n",
    "labeled_1 = x_plot[y_plot == 1]\n",
    "scatter = axs[1].scatter(labeled_1[:,0], labeled_1[:, 1], c = y_pred[y_plot == 1] )\n",
    "fig.colorbar(scatter, ax = axs[1])\n",
    "axs[1].set_title('Points with true label 1 ')"
   ]
  },
  {
   "cell_type": "code",
   "execution_count": 73,
   "metadata": {},
   "outputs": [
    {
     "data": {
      "text/plain": [
       "array([ True,  True, False, ..., False, False,  True])"
      ]
     },
     "execution_count": 73,
     "metadata": {},
     "output_type": "execute_result"
    }
   ],
   "source": [
    "y_pred == 0"
   ]
  },
  {
   "cell_type": "code",
   "execution_count": 57,
   "metadata": {},
   "outputs": [
    {
     "data": {
      "text/plain": [
       "RandomForestClassifier(bootstrap=True, class_weight=None, criterion='gini',\n",
       "            max_depth=None, max_features='auto', max_leaf_nodes=None,\n",
       "            min_impurity_decrease=0, min_impurity_split=None,\n",
       "            min_samples_leaf=1, min_samples_split=2,\n",
       "            min_weight_fraction_leaf=0.0, n_estimators=100, n_jobs=None,\n",
       "            oob_score=False, random_state=42, verbose=0, warm_start=False)"
      ]
     },
     "execution_count": 57,
     "metadata": {},
     "output_type": "execute_result"
    },
    {
     "name": "stdout",
     "output_type": "stream",
     "text": [
      "====Correct samples =====\n"
     ]
    },
    {
     "data": {
      "text/html": [
       "<div>\n",
       "<style scoped>\n",
       "    .dataframe tbody tr th:only-of-type {\n",
       "        vertical-align: middle;\n",
       "    }\n",
       "\n",
       "    .dataframe tbody tr th {\n",
       "        vertical-align: top;\n",
       "    }\n",
       "\n",
       "    .dataframe thead th {\n",
       "        text-align: right;\n",
       "    }\n",
       "</style>\n",
       "<table border=\"1\" class=\"dataframe\">\n",
       "  <thead>\n",
       "    <tr style=\"text-align: right;\">\n",
       "      <th></th>\n",
       "      <th>category</th>\n",
       "      <th>rating</th>\n",
       "      <th>reviews</th>\n",
       "      <th>size</th>\n",
       "      <th>installs</th>\n",
       "      <th>type</th>\n",
       "      <th>price</th>\n",
       "      <th>content_rating</th>\n",
       "      <th>genres</th>\n",
       "      <th>version</th>\n",
       "      <th>android_version</th>\n",
       "      <th>price_rounded</th>\n",
       "      <th>last_updated_days</th>\n",
       "      <th>last_updated_year</th>\n",
       "      <th>last_updated_day</th>\n",
       "      <th>last_updated_month_sin</th>\n",
       "      <th>last_updated_month_cos</th>\n",
       "      <th>name_wc</th>\n",
       "      <th>predicted</th>\n",
       "      <th>true</th>\n",
       "    </tr>\n",
       "  </thead>\n",
       "  <tbody>\n",
       "    <tr>\n",
       "      <th>0</th>\n",
       "      <td>1.534440</td>\n",
       "      <td>0.256275</td>\n",
       "      <td>3.575694</td>\n",
       "      <td>0.063980</td>\n",
       "      <td>-0.411854</td>\n",
       "      <td>1.463326</td>\n",
       "      <td>0.345649</td>\n",
       "      <td>1.289994</td>\n",
       "      <td>NaN</td>\n",
       "      <td>NaN</td>\n",
       "      <td>NaN</td>\n",
       "      <td>NaN</td>\n",
       "      <td>NaN</td>\n",
       "      <td>NaN</td>\n",
       "      <td>NaN</td>\n",
       "      <td>NaN</td>\n",
       "      <td>NaN</td>\n",
       "      <td>NaN</td>\n",
       "      <td>1.0</td>\n",
       "      <td>1.0</td>\n",
       "    </tr>\n",
       "    <tr>\n",
       "      <th>1</th>\n",
       "      <td>0.705362</td>\n",
       "      <td>-0.682584</td>\n",
       "      <td>-0.279666</td>\n",
       "      <td>-0.071708</td>\n",
       "      <td>-0.411854</td>\n",
       "      <td>0.025876</td>\n",
       "      <td>0.345649</td>\n",
       "      <td>-0.358542</td>\n",
       "      <td>NaN</td>\n",
       "      <td>NaN</td>\n",
       "      <td>NaN</td>\n",
       "      <td>NaN</td>\n",
       "      <td>NaN</td>\n",
       "      <td>NaN</td>\n",
       "      <td>NaN</td>\n",
       "      <td>NaN</td>\n",
       "      <td>NaN</td>\n",
       "      <td>NaN</td>\n",
       "      <td>1.0</td>\n",
       "      <td>1.0</td>\n",
       "    </tr>\n",
       "    <tr>\n",
       "      <th>2</th>\n",
       "      <td>0.981721</td>\n",
       "      <td>2.025141</td>\n",
       "      <td>-0.279666</td>\n",
       "      <td>-0.071708</td>\n",
       "      <td>-0.411854</td>\n",
       "      <td>1.175836</td>\n",
       "      <td>0.345649</td>\n",
       "      <td>-0.908054</td>\n",
       "      <td>NaN</td>\n",
       "      <td>NaN</td>\n",
       "      <td>NaN</td>\n",
       "      <td>NaN</td>\n",
       "      <td>NaN</td>\n",
       "      <td>NaN</td>\n",
       "      <td>NaN</td>\n",
       "      <td>NaN</td>\n",
       "      <td>NaN</td>\n",
       "      <td>NaN</td>\n",
       "      <td>0.0</td>\n",
       "      <td>0.0</td>\n",
       "    </tr>\n",
       "    <tr>\n",
       "      <th>3</th>\n",
       "      <td>0.981721</td>\n",
       "      <td>-0.916437</td>\n",
       "      <td>3.575694</td>\n",
       "      <td>0.154741</td>\n",
       "      <td>-0.411854</td>\n",
       "      <td>1.175836</td>\n",
       "      <td>-2.796031</td>\n",
       "      <td>0.190970</td>\n",
       "      <td>NaN</td>\n",
       "      <td>NaN</td>\n",
       "      <td>NaN</td>\n",
       "      <td>NaN</td>\n",
       "      <td>NaN</td>\n",
       "      <td>NaN</td>\n",
       "      <td>NaN</td>\n",
       "      <td>NaN</td>\n",
       "      <td>NaN</td>\n",
       "      <td>NaN</td>\n",
       "      <td>0.0</td>\n",
       "      <td>0.0</td>\n",
       "    </tr>\n",
       "    <tr>\n",
       "      <th>4</th>\n",
       "      <td>0.981721</td>\n",
       "      <td>-0.637228</td>\n",
       "      <td>-0.279666</td>\n",
       "      <td>-0.071708</td>\n",
       "      <td>-0.411854</td>\n",
       "      <td>1.175836</td>\n",
       "      <td>0.345649</td>\n",
       "      <td>0.190970</td>\n",
       "      <td>NaN</td>\n",
       "      <td>NaN</td>\n",
       "      <td>NaN</td>\n",
       "      <td>NaN</td>\n",
       "      <td>NaN</td>\n",
       "      <td>NaN</td>\n",
       "      <td>NaN</td>\n",
       "      <td>NaN</td>\n",
       "      <td>NaN</td>\n",
       "      <td>NaN</td>\n",
       "      <td>1.0</td>\n",
       "      <td>1.0</td>\n",
       "    </tr>\n",
       "  </tbody>\n",
       "</table>\n",
       "</div>"
      ],
      "text/plain": [
       "   category    rating   reviews      size  installs      type     price  \\\n",
       "0  1.534440  0.256275  3.575694  0.063980 -0.411854  1.463326  0.345649   \n",
       "1  0.705362 -0.682584 -0.279666 -0.071708 -0.411854  0.025876  0.345649   \n",
       "2  0.981721  2.025141 -0.279666 -0.071708 -0.411854  1.175836  0.345649   \n",
       "3  0.981721 -0.916437  3.575694  0.154741 -0.411854  1.175836 -2.796031   \n",
       "4  0.981721 -0.637228 -0.279666 -0.071708 -0.411854  1.175836  0.345649   \n",
       "\n",
       "   content_rating  genres  version  android_version  price_rounded  \\\n",
       "0        1.289994     NaN      NaN              NaN            NaN   \n",
       "1       -0.358542     NaN      NaN              NaN            NaN   \n",
       "2       -0.908054     NaN      NaN              NaN            NaN   \n",
       "3        0.190970     NaN      NaN              NaN            NaN   \n",
       "4        0.190970     NaN      NaN              NaN            NaN   \n",
       "\n",
       "   last_updated_days  last_updated_year  last_updated_day  \\\n",
       "0                NaN                NaN               NaN   \n",
       "1                NaN                NaN               NaN   \n",
       "2                NaN                NaN               NaN   \n",
       "3                NaN                NaN               NaN   \n",
       "4                NaN                NaN               NaN   \n",
       "\n",
       "   last_updated_month_sin  last_updated_month_cos  name_wc  predicted  true  \n",
       "0                     NaN                     NaN      NaN        1.0   1.0  \n",
       "1                     NaN                     NaN      NaN        1.0   1.0  \n",
       "2                     NaN                     NaN      NaN        0.0   0.0  \n",
       "3                     NaN                     NaN      NaN        0.0   0.0  \n",
       "4                     NaN                     NaN      NaN        1.0   1.0  "
      ]
     },
     "execution_count": 57,
     "metadata": {},
     "output_type": "execute_result"
    },
    {
     "name": "stdout",
     "output_type": "stream",
     "text": [
      "====Incorrect samples =====\n"
     ]
    },
    {
     "data": {
      "text/html": [
       "<div>\n",
       "<style scoped>\n",
       "    .dataframe tbody tr th:only-of-type {\n",
       "        vertical-align: middle;\n",
       "    }\n",
       "\n",
       "    .dataframe tbody tr th {\n",
       "        vertical-align: top;\n",
       "    }\n",
       "\n",
       "    .dataframe thead th {\n",
       "        text-align: right;\n",
       "    }\n",
       "</style>\n",
       "<table border=\"1\" class=\"dataframe\">\n",
       "  <thead>\n",
       "    <tr style=\"text-align: right;\">\n",
       "      <th></th>\n",
       "      <th>category</th>\n",
       "      <th>rating</th>\n",
       "      <th>reviews</th>\n",
       "      <th>size</th>\n",
       "      <th>installs</th>\n",
       "      <th>type</th>\n",
       "      <th>price</th>\n",
       "      <th>content_rating</th>\n",
       "      <th>genres</th>\n",
       "      <th>version</th>\n",
       "      <th>android_version</th>\n",
       "      <th>price_rounded</th>\n",
       "      <th>last_updated_days</th>\n",
       "      <th>last_updated_year</th>\n",
       "      <th>last_updated_day</th>\n",
       "      <th>last_updated_month_sin</th>\n",
       "      <th>last_updated_month_cos</th>\n",
       "      <th>name_wc</th>\n",
       "      <th>predicted</th>\n",
       "      <th>true</th>\n",
       "    </tr>\n",
       "  </thead>\n",
       "  <tbody>\n",
       "    <tr>\n",
       "      <th>0</th>\n",
       "      <td>0.567182</td>\n",
       "      <td>-0.519304</td>\n",
       "      <td>-0.279666</td>\n",
       "      <td>-0.071708</td>\n",
       "      <td>-0.411854</td>\n",
       "      <td>1.032091</td>\n",
       "      <td>-1.748805</td>\n",
       "      <td>0.190970</td>\n",
       "      <td>NaN</td>\n",
       "      <td>NaN</td>\n",
       "      <td>NaN</td>\n",
       "      <td>NaN</td>\n",
       "      <td>NaN</td>\n",
       "      <td>NaN</td>\n",
       "      <td>NaN</td>\n",
       "      <td>NaN</td>\n",
       "      <td>NaN</td>\n",
       "      <td>NaN</td>\n",
       "      <td>1.0</td>\n",
       "      <td>0.0</td>\n",
       "    </tr>\n",
       "    <tr>\n",
       "      <th>1</th>\n",
       "      <td>0.152643</td>\n",
       "      <td>-0.818650</td>\n",
       "      <td>-0.279666</td>\n",
       "      <td>-0.071708</td>\n",
       "      <td>-0.411854</td>\n",
       "      <td>0.816473</td>\n",
       "      <td>0.345649</td>\n",
       "      <td>-0.908054</td>\n",
       "      <td>NaN</td>\n",
       "      <td>NaN</td>\n",
       "      <td>NaN</td>\n",
       "      <td>NaN</td>\n",
       "      <td>NaN</td>\n",
       "      <td>NaN</td>\n",
       "      <td>NaN</td>\n",
       "      <td>NaN</td>\n",
       "      <td>NaN</td>\n",
       "      <td>NaN</td>\n",
       "      <td>1.0</td>\n",
       "      <td>0.0</td>\n",
       "    </tr>\n",
       "    <tr>\n",
       "      <th>2</th>\n",
       "      <td>0.014463</td>\n",
       "      <td>0.845897</td>\n",
       "      <td>-0.279666</td>\n",
       "      <td>-0.071708</td>\n",
       "      <td>0.930308</td>\n",
       "      <td>-1.124085</td>\n",
       "      <td>0.345649</td>\n",
       "      <td>-0.358542</td>\n",
       "      <td>NaN</td>\n",
       "      <td>NaN</td>\n",
       "      <td>NaN</td>\n",
       "      <td>NaN</td>\n",
       "      <td>NaN</td>\n",
       "      <td>NaN</td>\n",
       "      <td>NaN</td>\n",
       "      <td>NaN</td>\n",
       "      <td>NaN</td>\n",
       "      <td>NaN</td>\n",
       "      <td>1.0</td>\n",
       "      <td>0.0</td>\n",
       "    </tr>\n",
       "    <tr>\n",
       "      <th>3</th>\n",
       "      <td>-2.196414</td>\n",
       "      <td>-0.823186</td>\n",
       "      <td>-0.279666</td>\n",
       "      <td>-0.071708</td>\n",
       "      <td>-0.411854</td>\n",
       "      <td>-1.555320</td>\n",
       "      <td>-1.748805</td>\n",
       "      <td>-0.908054</td>\n",
       "      <td>NaN</td>\n",
       "      <td>NaN</td>\n",
       "      <td>NaN</td>\n",
       "      <td>NaN</td>\n",
       "      <td>NaN</td>\n",
       "      <td>NaN</td>\n",
       "      <td>NaN</td>\n",
       "      <td>NaN</td>\n",
       "      <td>NaN</td>\n",
       "      <td>NaN</td>\n",
       "      <td>1.0</td>\n",
       "      <td>0.0</td>\n",
       "    </tr>\n",
       "    <tr>\n",
       "      <th>4</th>\n",
       "      <td>-0.814616</td>\n",
       "      <td>0.256275</td>\n",
       "      <td>-0.279666</td>\n",
       "      <td>-0.071708</td>\n",
       "      <td>-0.411854</td>\n",
       "      <td>-0.836595</td>\n",
       "      <td>1.392876</td>\n",
       "      <td>-0.358542</td>\n",
       "      <td>NaN</td>\n",
       "      <td>NaN</td>\n",
       "      <td>NaN</td>\n",
       "      <td>NaN</td>\n",
       "      <td>NaN</td>\n",
       "      <td>NaN</td>\n",
       "      <td>NaN</td>\n",
       "      <td>NaN</td>\n",
       "      <td>NaN</td>\n",
       "      <td>NaN</td>\n",
       "      <td>1.0</td>\n",
       "      <td>0.0</td>\n",
       "    </tr>\n",
       "  </tbody>\n",
       "</table>\n",
       "</div>"
      ],
      "text/plain": [
       "   category    rating   reviews      size  installs      type     price  \\\n",
       "0  0.567182 -0.519304 -0.279666 -0.071708 -0.411854  1.032091 -1.748805   \n",
       "1  0.152643 -0.818650 -0.279666 -0.071708 -0.411854  0.816473  0.345649   \n",
       "2  0.014463  0.845897 -0.279666 -0.071708  0.930308 -1.124085  0.345649   \n",
       "3 -2.196414 -0.823186 -0.279666 -0.071708 -0.411854 -1.555320 -1.748805   \n",
       "4 -0.814616  0.256275 -0.279666 -0.071708 -0.411854 -0.836595  1.392876   \n",
       "\n",
       "   content_rating  genres  version  android_version  price_rounded  \\\n",
       "0        0.190970     NaN      NaN              NaN            NaN   \n",
       "1       -0.908054     NaN      NaN              NaN            NaN   \n",
       "2       -0.358542     NaN      NaN              NaN            NaN   \n",
       "3       -0.908054     NaN      NaN              NaN            NaN   \n",
       "4       -0.358542     NaN      NaN              NaN            NaN   \n",
       "\n",
       "   last_updated_days  last_updated_year  last_updated_day  \\\n",
       "0                NaN                NaN               NaN   \n",
       "1                NaN                NaN               NaN   \n",
       "2                NaN                NaN               NaN   \n",
       "3                NaN                NaN               NaN   \n",
       "4                NaN                NaN               NaN   \n",
       "\n",
       "   last_updated_month_sin  last_updated_month_cos  name_wc  predicted  true  \n",
       "0                     NaN                     NaN      NaN        1.0   0.0  \n",
       "1                     NaN                     NaN      NaN        1.0   0.0  \n",
       "2                     NaN                     NaN      NaN        1.0   0.0  \n",
       "3                     NaN                     NaN      NaN        1.0   0.0  \n",
       "4                     NaN                     NaN      NaN        1.0   0.0  "
      ]
     },
     "execution_count": 57,
     "metadata": {},
     "output_type": "execute_result"
    }
   ],
   "source": [
    "# print some correctly and incorrectly labeled data\n",
    "from random import randint\n",
    "clf.fit(x_train, y_train)\n",
    "y_pred = clf.predict(x_test)\n",
    "# correct = x_test[y_pred == y_test]\n",
    "# incorrect = x_test[~(y_pred == y_test)]\n",
    "\n",
    "columns = df.columns.values\n",
    "def get_samples(x, y_true, y_pred, sample_type = 'correct', count = 5):\n",
    "    mask = (y_pred == y_true)\n",
    "    if sample_type == 'incorrect':\n",
    "        mask = ~mask\n",
    "    x = x[mask]\n",
    "    y_pred = y_pred[mask]\n",
    "    y_true = y_true[mask]\n",
    "    df = pd.DataFrame(columns=[*columns , 'predicted', 'true'])\n",
    "    if len(x) == 0:\n",
    "        return df\n",
    "    for _ in range(count):\n",
    "        idx = randint(0, len(x)) \n",
    "        dct = {}\n",
    "        dct['predicted'] = y_pred[idx]\n",
    "        dct['true'] = y_true[idx]\n",
    "        for i in range(x.shape[1]):\n",
    "            dct[df.columns.values[i]] = x[idx][i]\n",
    "        df = df.append(dct,\n",
    "                       ignore_index=True)\n",
    "    return df\n",
    "\n",
    "print(\"====Correct samples =====\")\n",
    "get_samples(x_test, y_test, y_pred, sample_type='correct') \n",
    "print(\"====Incorrect samples =====\")\n",
    "get_samples(x_test, y_test, y_pred, sample_type='incorrect') "
   ]
  },
  {
   "cell_type": "code",
   "execution_count": 62,
   "metadata": {
    "scrolled": true
   },
   "outputs": [
    {
     "data": {
      "text/plain": [
       "(0.6152473227944926, 0.5745428973277075)"
      ]
     },
     "execution_count": 62,
     "metadata": {},
     "output_type": "execute_result"
    },
    {
     "data": {
      "text/plain": [
       "5"
      ]
     },
     "execution_count": 62,
     "metadata": {},
     "output_type": "execute_result"
    },
    {
     "data": {
      "image/svg+xml": [
       "<?xml version=\"1.0\" encoding=\"UTF-8\" standalone=\"no\"?>\n",
       "<!DOCTYPE svg PUBLIC \"-//W3C//DTD SVG 1.1//EN\"\n",
       " \"http://www.w3.org/Graphics/SVG/1.1/DTD/svg11.dtd\">\n",
       "<!-- Generated by graphviz version 2.40.1 (20161225.0304)\n",
       " -->\n",
       "<!-- Title: Tree Pages: 1 -->\n",
       "<svg width=\"4182pt\" height=\"671pt\"\n",
       " viewBox=\"0.00 0.00 4181.50 671.00\" xmlns=\"http://www.w3.org/2000/svg\" xmlns:xlink=\"http://www.w3.org/1999/xlink\">\n",
       "<g id=\"graph0\" class=\"graph\" transform=\"scale(1 1) rotate(0) translate(4 667)\">\n",
       "<title>Tree</title>\n",
       "<polygon fill=\"#ffffff\" stroke=\"transparent\" points=\"-4,4 -4,-667 4177.5,-667 4177.5,4 -4,4\"/>\n",
       "<!-- 0 -->\n",
       "<g id=\"node1\" class=\"node\">\n",
       "<title>0</title>\n",
       "<path fill=\"transparent\" stroke=\"#000000\" d=\"M2394,-663C2394,-663 2278,-663 2278,-663 2272,-663 2266,-657 2266,-651 2266,-651 2266,-592 2266,-592 2266,-586 2272,-580 2278,-580 2278,-580 2394,-580 2394,-580 2400,-580 2406,-586 2406,-592 2406,-592 2406,-651 2406,-651 2406,-657 2400,-663 2394,-663\"/>\n",
       "<text text-anchor=\"middle\" x=\"2336\" y=\"-647.8\" font-family=\"Helvetica,sans-Serif\" font-size=\"14.00\" fill=\"#000000\">name_wc &lt;= &#45;0.084</text>\n",
       "<text text-anchor=\"middle\" x=\"2336\" y=\"-632.8\" font-family=\"Helvetica,sans-Serif\" font-size=\"14.00\" fill=\"#000000\">gini = 0.5</text>\n",
       "<text text-anchor=\"middle\" x=\"2336\" y=\"-617.8\" font-family=\"Helvetica,sans-Serif\" font-size=\"14.00\" fill=\"#000000\">samples = 7844</text>\n",
       "<text text-anchor=\"middle\" x=\"2336\" y=\"-602.8\" font-family=\"Helvetica,sans-Serif\" font-size=\"14.00\" fill=\"#000000\">value = [3922, 3922]</text>\n",
       "<text text-anchor=\"middle\" x=\"2336\" y=\"-587.8\" font-family=\"Helvetica,sans-Serif\" font-size=\"14.00\" fill=\"#000000\">class = fair</text>\n",
       "</g>\n",
       "<!-- 1 -->\n",
       "<g id=\"node2\" class=\"node\">\n",
       "<title>1</title>\n",
       "<path fill=\"#e58139\" fill-opacity=\"0.200000\" stroke=\"#000000\" d=\"M1692,-544C1692,-544 1576,-544 1576,-544 1570,-544 1564,-538 1564,-532 1564,-532 1564,-473 1564,-473 1564,-467 1570,-461 1576,-461 1576,-461 1692,-461 1692,-461 1698,-461 1704,-467 1704,-473 1704,-473 1704,-532 1704,-532 1704,-538 1698,-544 1692,-544\"/>\n",
       "<text text-anchor=\"middle\" x=\"1634\" y=\"-528.8\" font-family=\"Helvetica,sans-Serif\" font-size=\"14.00\" fill=\"#000000\">size &lt;= 1.322</text>\n",
       "<text text-anchor=\"middle\" x=\"1634\" y=\"-513.8\" font-family=\"Helvetica,sans-Serif\" font-size=\"14.00\" fill=\"#000000\">gini = 0.494</text>\n",
       "<text text-anchor=\"middle\" x=\"1634\" y=\"-498.8\" font-family=\"Helvetica,sans-Serif\" font-size=\"14.00\" fill=\"#000000\">samples = 4206</text>\n",
       "<text text-anchor=\"middle\" x=\"1634\" y=\"-483.8\" font-family=\"Helvetica,sans-Serif\" font-size=\"14.00\" fill=\"#000000\">value = [2339, 1867]</text>\n",
       "<text text-anchor=\"middle\" x=\"1634\" y=\"-468.8\" font-family=\"Helvetica,sans-Serif\" font-size=\"14.00\" fill=\"#000000\">class = fair</text>\n",
       "</g>\n",
       "<!-- 0&#45;&gt;1 -->\n",
       "<g id=\"edge1\" class=\"edge\">\n",
       "<title>0&#45;&gt;1</title>\n",
       "<path fill=\"none\" stroke=\"#000000\" d=\"M2265.7996,-609.5999C2134.5263,-587.3471 1852.6663,-539.5674 1714.1602,-516.0884\"/>\n",
       "<polygon fill=\"#000000\" stroke=\"#000000\" points=\"1714.4801,-512.5928 1704.0358,-514.3722 1713.3101,-519.4943 1714.4801,-512.5928\"/>\n",
       "<text text-anchor=\"middle\" x=\"1718.5103\" y=\"-531.0557\" font-family=\"Helvetica,sans-Serif\" font-size=\"14.00\" fill=\"#000000\">True</text>\n",
       "</g>\n",
       "<!-- 32 -->\n",
       "<g id=\"node33\" class=\"node\">\n",
       "<title>32</title>\n",
       "<path fill=\"#399de5\" fill-opacity=\"0.231373\" stroke=\"#000000\" d=\"M2614,-544C2614,-544 2498,-544 2498,-544 2492,-544 2486,-538 2486,-532 2486,-532 2486,-473 2486,-473 2486,-467 2492,-461 2498,-461 2498,-461 2614,-461 2614,-461 2620,-461 2626,-467 2626,-473 2626,-473 2626,-532 2626,-532 2626,-538 2620,-544 2614,-544\"/>\n",
       "<text text-anchor=\"middle\" x=\"2556\" y=\"-528.8\" font-family=\"Helvetica,sans-Serif\" font-size=\"14.00\" fill=\"#000000\">size &lt;= &#45;0.785</text>\n",
       "<text text-anchor=\"middle\" x=\"2556\" y=\"-513.8\" font-family=\"Helvetica,sans-Serif\" font-size=\"14.00\" fill=\"#000000\">gini = 0.492</text>\n",
       "<text text-anchor=\"middle\" x=\"2556\" y=\"-498.8\" font-family=\"Helvetica,sans-Serif\" font-size=\"14.00\" fill=\"#000000\">samples = 3638</text>\n",
       "<text text-anchor=\"middle\" x=\"2556\" y=\"-483.8\" font-family=\"Helvetica,sans-Serif\" font-size=\"14.00\" fill=\"#000000\">value = [1583, 2055]</text>\n",
       "<text text-anchor=\"middle\" x=\"2556\" y=\"-468.8\" font-family=\"Helvetica,sans-Serif\" font-size=\"14.00\" fill=\"#000000\">class = excellent</text>\n",
       "</g>\n",
       "<!-- 0&#45;&gt;32 -->\n",
       "<g id=\"edge32\" class=\"edge\">\n",
       "<title>0&#45;&gt;32</title>\n",
       "<path fill=\"none\" stroke=\"#000000\" d=\"M2406.2142,-583.5205C2428.6392,-571.3906 2453.6137,-557.8817 2476.6413,-545.4258\"/>\n",
       "<polygon fill=\"#000000\" stroke=\"#000000\" points=\"2478.5677,-548.3631 2485.6982,-540.5269 2475.2373,-542.2061 2478.5677,-548.3631\"/>\n",
       "<text text-anchor=\"middle\" x=\"2478.5599\" y=\"-560.7861\" font-family=\"Helvetica,sans-Serif\" font-size=\"14.00\" fill=\"#000000\">False</text>\n",
       "</g>\n",
       "<!-- 2 -->\n",
       "<g id=\"node3\" class=\"node\">\n",
       "<title>2</title>\n",
       "<path fill=\"#e58139\" fill-opacity=\"0.247059\" stroke=\"#000000\" d=\"M835,-425C835,-425 719,-425 719,-425 713,-425 707,-419 707,-413 707,-413 707,-354 707,-354 707,-348 713,-342 719,-342 719,-342 835,-342 835,-342 841,-342 847,-348 847,-354 847,-354 847,-413 847,-413 847,-419 841,-425 835,-425\"/>\n",
       "<text text-anchor=\"middle\" x=\"777\" y=\"-409.8\" font-family=\"Helvetica,sans-Serif\" font-size=\"14.00\" fill=\"#000000\">size &lt;= &#45;0.922</text>\n",
       "<text text-anchor=\"middle\" x=\"777\" y=\"-394.8\" font-family=\"Helvetica,sans-Serif\" font-size=\"14.00\" fill=\"#000000\">gini = 0.49</text>\n",
       "<text text-anchor=\"middle\" x=\"777\" y=\"-379.8\" font-family=\"Helvetica,sans-Serif\" font-size=\"14.00\" fill=\"#000000\">samples = 3777</text>\n",
       "<text text-anchor=\"middle\" x=\"777\" y=\"-364.8\" font-family=\"Helvetica,sans-Serif\" font-size=\"14.00\" fill=\"#000000\">value = [2154, 1623]</text>\n",
       "<text text-anchor=\"middle\" x=\"777\" y=\"-349.8\" font-family=\"Helvetica,sans-Serif\" font-size=\"14.00\" fill=\"#000000\">class = fair</text>\n",
       "</g>\n",
       "<!-- 1&#45;&gt;2 -->\n",
       "<g id=\"edge2\" class=\"edge\">\n",
       "<title>1&#45;&gt;2</title>\n",
       "<path fill=\"none\" stroke=\"#000000\" d=\"M1563.8681,-492.7617C1406.0883,-470.853 1023.972,-417.7937 857.1492,-394.6292\"/>\n",
       "<polygon fill=\"#000000\" stroke=\"#000000\" points=\"857.5851,-391.1563 847.1987,-393.2475 856.6223,-398.0897 857.5851,-391.1563\"/>\n",
       "</g>\n",
       "<!-- 17 -->\n",
       "<g id=\"node18\" class=\"node\">\n",
       "<title>17</title>\n",
       "<path fill=\"#399de5\" fill-opacity=\"0.243137\" stroke=\"#000000\" d=\"M1684.5,-425C1684.5,-425 1583.5,-425 1583.5,-425 1577.5,-425 1571.5,-419 1571.5,-413 1571.5,-413 1571.5,-354 1571.5,-354 1571.5,-348 1577.5,-342 1583.5,-342 1583.5,-342 1684.5,-342 1684.5,-342 1690.5,-342 1696.5,-348 1696.5,-354 1696.5,-354 1696.5,-413 1696.5,-413 1696.5,-419 1690.5,-425 1684.5,-425\"/>\n",
       "<text text-anchor=\"middle\" x=\"1634\" y=\"-409.8\" font-family=\"Helvetica,sans-Serif\" font-size=\"14.00\" fill=\"#000000\">genres &lt;= 0.565</text>\n",
       "<text text-anchor=\"middle\" x=\"1634\" y=\"-394.8\" font-family=\"Helvetica,sans-Serif\" font-size=\"14.00\" fill=\"#000000\">gini = 0.491</text>\n",
       "<text text-anchor=\"middle\" x=\"1634\" y=\"-379.8\" font-family=\"Helvetica,sans-Serif\" font-size=\"14.00\" fill=\"#000000\">samples = 429</text>\n",
       "<text text-anchor=\"middle\" x=\"1634\" y=\"-364.8\" font-family=\"Helvetica,sans-Serif\" font-size=\"14.00\" fill=\"#000000\">value = [185, 244]</text>\n",
       "<text text-anchor=\"middle\" x=\"1634\" y=\"-349.8\" font-family=\"Helvetica,sans-Serif\" font-size=\"14.00\" fill=\"#000000\">class = excellent</text>\n",
       "</g>\n",
       "<!-- 1&#45;&gt;17 -->\n",
       "<g id=\"edge17\" class=\"edge\">\n",
       "<title>1&#45;&gt;17</title>\n",
       "<path fill=\"none\" stroke=\"#000000\" d=\"M1634,-460.8796C1634,-452.6838 1634,-443.9891 1634,-435.5013\"/>\n",
       "<polygon fill=\"#000000\" stroke=\"#000000\" points=\"1637.5001,-435.298 1634,-425.2981 1630.5001,-435.2981 1637.5001,-435.298\"/>\n",
       "</g>\n",
       "<!-- 3 -->\n",
       "<g id=\"node4\" class=\"node\">\n",
       "<title>3</title>\n",
       "<path fill=\"#399de5\" fill-opacity=\"0.482353\" stroke=\"#000000\" d=\"M432,-306C432,-306 340,-306 340,-306 334,-306 328,-300 328,-294 328,-294 328,-235 328,-235 328,-229 334,-223 340,-223 340,-223 432,-223 432,-223 438,-223 444,-229 444,-235 444,-235 444,-294 444,-294 444,-300 438,-306 432,-306\"/>\n",
       "<text text-anchor=\"middle\" x=\"386\" y=\"-290.8\" font-family=\"Helvetica,sans-Serif\" font-size=\"14.00\" fill=\"#000000\">genres &lt;= 1.427</text>\n",
       "<text text-anchor=\"middle\" x=\"386\" y=\"-275.8\" font-family=\"Helvetica,sans-Serif\" font-size=\"14.00\" fill=\"#000000\">gini = 0.45</text>\n",
       "<text text-anchor=\"middle\" x=\"386\" y=\"-260.8\" font-family=\"Helvetica,sans-Serif\" font-size=\"14.00\" fill=\"#000000\">samples = 85</text>\n",
       "<text text-anchor=\"middle\" x=\"386\" y=\"-245.8\" font-family=\"Helvetica,sans-Serif\" font-size=\"14.00\" fill=\"#000000\">value = [29, 56]</text>\n",
       "<text text-anchor=\"middle\" x=\"386\" y=\"-230.8\" font-family=\"Helvetica,sans-Serif\" font-size=\"14.00\" fill=\"#000000\">class = excellent</text>\n",
       "</g>\n",
       "<!-- 2&#45;&gt;3 -->\n",
       "<g id=\"edge3\" class=\"edge\">\n",
       "<title>2&#45;&gt;3</title>\n",
       "<path fill=\"none\" stroke=\"#000000\" d=\"M706.6455,-362.0877C634.9342,-340.2626 524.4672,-306.6422 453.7225,-285.1112\"/>\n",
       "<polygon fill=\"#000000\" stroke=\"#000000\" points=\"454.5978,-281.7191 444.012,-282.1558 452.5596,-288.4159 454.5978,-281.7191\"/>\n",
       "</g>\n",
       "<!-- 10 -->\n",
       "<g id=\"node11\" class=\"node\">\n",
       "<title>10</title>\n",
       "<path fill=\"#e58139\" fill-opacity=\"0.262745\" stroke=\"#000000\" d=\"M835,-306C835,-306 719,-306 719,-306 713,-306 707,-300 707,-294 707,-294 707,-235 707,-235 707,-229 713,-223 719,-223 719,-223 835,-223 835,-223 841,-223 847,-229 847,-235 847,-235 847,-294 847,-294 847,-300 841,-306 835,-306\"/>\n",
       "<text text-anchor=\"middle\" x=\"777\" y=\"-290.8\" font-family=\"Helvetica,sans-Serif\" font-size=\"14.00\" fill=\"#000000\">price &lt;= &#45;0.049</text>\n",
       "<text text-anchor=\"middle\" x=\"777\" y=\"-275.8\" font-family=\"Helvetica,sans-Serif\" font-size=\"14.00\" fill=\"#000000\">gini = 0.489</text>\n",
       "<text text-anchor=\"middle\" x=\"777\" y=\"-260.8\" font-family=\"Helvetica,sans-Serif\" font-size=\"14.00\" fill=\"#000000\">samples = 3692</text>\n",
       "<text text-anchor=\"middle\" x=\"777\" y=\"-245.8\" font-family=\"Helvetica,sans-Serif\" font-size=\"14.00\" fill=\"#000000\">value = [2125, 1567]</text>\n",
       "<text text-anchor=\"middle\" x=\"777\" y=\"-230.8\" font-family=\"Helvetica,sans-Serif\" font-size=\"14.00\" fill=\"#000000\">class = fair</text>\n",
       "</g>\n",
       "<!-- 2&#45;&gt;10 -->\n",
       "<g id=\"edge10\" class=\"edge\">\n",
       "<title>2&#45;&gt;10</title>\n",
       "<path fill=\"none\" stroke=\"#000000\" d=\"M777,-341.8796C777,-333.6838 777,-324.9891 777,-316.5013\"/>\n",
       "<polygon fill=\"#000000\" stroke=\"#000000\" points=\"780.5001,-316.298 777,-306.2981 773.5001,-316.2981 780.5001,-316.298\"/>\n",
       "</g>\n",
       "<!-- 4 -->\n",
       "<g id=\"node5\" class=\"node\">\n",
       "<title>4</title>\n",
       "<path fill=\"#399de5\" fill-opacity=\"0.564706\" stroke=\"#000000\" d=\"M251,-187C251,-187 115,-187 115,-187 109,-187 103,-181 103,-175 103,-175 103,-116 103,-116 103,-110 109,-104 115,-104 115,-104 251,-104 251,-104 257,-104 263,-110 263,-116 263,-116 263,-175 263,-175 263,-181 257,-187 251,-187\"/>\n",
       "<text text-anchor=\"middle\" x=\"183\" y=\"-171.8\" font-family=\"Helvetica,sans-Serif\" font-size=\"14.00\" fill=\"#000000\">content_rating &lt;= 1.601</text>\n",
       "<text text-anchor=\"middle\" x=\"183\" y=\"-156.8\" font-family=\"Helvetica,sans-Serif\" font-size=\"14.00\" fill=\"#000000\">gini = 0.423</text>\n",
       "<text text-anchor=\"middle\" x=\"183\" y=\"-141.8\" font-family=\"Helvetica,sans-Serif\" font-size=\"14.00\" fill=\"#000000\">samples = 79</text>\n",
       "<text text-anchor=\"middle\" x=\"183\" y=\"-126.8\" font-family=\"Helvetica,sans-Serif\" font-size=\"14.00\" fill=\"#000000\">value = [24, 55]</text>\n",
       "<text text-anchor=\"middle\" x=\"183\" y=\"-111.8\" font-family=\"Helvetica,sans-Serif\" font-size=\"14.00\" fill=\"#000000\">class = excellent</text>\n",
       "</g>\n",
       "<!-- 3&#45;&gt;4 -->\n",
       "<g id=\"edge4\" class=\"edge\">\n",
       "<title>3&#45;&gt;4</title>\n",
       "<path fill=\"none\" stroke=\"#000000\" d=\"M327.8283,-230.3994C307.5427,-218.5078 284.4144,-204.9498 262.6861,-192.2125\"/>\n",
       "<polygon fill=\"#000000\" stroke=\"#000000\" points=\"264.1928,-189.0388 253.7958,-187.001 260.6528,-195.0777 264.1928,-189.0388\"/>\n",
       "</g>\n",
       "<!-- 7 -->\n",
       "<g id=\"node8\" class=\"node\">\n",
       "<title>7</title>\n",
       "<path fill=\"#e58139\" fill-opacity=\"0.800000\" stroke=\"#000000\" d=\"M442.5,-187C442.5,-187 329.5,-187 329.5,-187 323.5,-187 317.5,-181 317.5,-175 317.5,-175 317.5,-116 317.5,-116 317.5,-110 323.5,-104 329.5,-104 329.5,-104 442.5,-104 442.5,-104 448.5,-104 454.5,-110 454.5,-116 454.5,-116 454.5,-175 454.5,-175 454.5,-181 448.5,-187 442.5,-187\"/>\n",
       "<text text-anchor=\"middle\" x=\"386\" y=\"-171.8\" font-family=\"Helvetica,sans-Serif\" font-size=\"14.00\" fill=\"#000000\">name_wc &lt;= &#45;0.633</text>\n",
       "<text text-anchor=\"middle\" x=\"386\" y=\"-156.8\" font-family=\"Helvetica,sans-Serif\" font-size=\"14.00\" fill=\"#000000\">gini = 0.278</text>\n",
       "<text text-anchor=\"middle\" x=\"386\" y=\"-141.8\" font-family=\"Helvetica,sans-Serif\" font-size=\"14.00\" fill=\"#000000\">samples = 6</text>\n",
       "<text text-anchor=\"middle\" x=\"386\" y=\"-126.8\" font-family=\"Helvetica,sans-Serif\" font-size=\"14.00\" fill=\"#000000\">value = [5, 1]</text>\n",
       "<text text-anchor=\"middle\" x=\"386\" y=\"-111.8\" font-family=\"Helvetica,sans-Serif\" font-size=\"14.00\" fill=\"#000000\">class = fair</text>\n",
       "</g>\n",
       "<!-- 3&#45;&gt;7 -->\n",
       "<g id=\"edge7\" class=\"edge\">\n",
       "<title>3&#45;&gt;7</title>\n",
       "<path fill=\"none\" stroke=\"#000000\" d=\"M386,-222.8796C386,-214.6838 386,-205.9891 386,-197.5013\"/>\n",
       "<polygon fill=\"#000000\" stroke=\"#000000\" points=\"389.5001,-197.298 386,-187.2981 382.5001,-197.2981 389.5001,-197.298\"/>\n",
       "</g>\n",
       "<!-- 5 -->\n",
       "<g id=\"node6\" class=\"node\">\n",
       "<title>5</title>\n",
       "<path fill=\"#399de5\" fill-opacity=\"0.674510\" stroke=\"#000000\" d=\"M104,-68C104,-68 12,-68 12,-68 6,-68 0,-62 0,-56 0,-56 0,-12 0,-12 0,-6 6,0 12,0 12,0 104,0 104,0 110,0 116,-6 116,-12 116,-12 116,-56 116,-56 116,-62 110,-68 104,-68\"/>\n",
       "<text text-anchor=\"middle\" x=\"58\" y=\"-52.8\" font-family=\"Helvetica,sans-Serif\" font-size=\"14.00\" fill=\"#000000\">gini = 0.371</text>\n",
       "<text text-anchor=\"middle\" x=\"58\" y=\"-37.8\" font-family=\"Helvetica,sans-Serif\" font-size=\"14.00\" fill=\"#000000\">samples = 69</text>\n",
       "<text text-anchor=\"middle\" x=\"58\" y=\"-22.8\" font-family=\"Helvetica,sans-Serif\" font-size=\"14.00\" fill=\"#000000\">value = [17, 52]</text>\n",
       "<text text-anchor=\"middle\" x=\"58\" y=\"-7.8\" font-family=\"Helvetica,sans-Serif\" font-size=\"14.00\" fill=\"#000000\">class = excellent</text>\n",
       "</g>\n",
       "<!-- 4&#45;&gt;5 -->\n",
       "<g id=\"edge5\" class=\"edge\">\n",
       "<title>4&#45;&gt;5</title>\n",
       "<path fill=\"none\" stroke=\"#000000\" d=\"M136.4546,-103.9815C125.8421,-94.5151 114.5718,-84.462 103.9829,-75.0168\"/>\n",
       "<polygon fill=\"#000000\" stroke=\"#000000\" points=\"106.2046,-72.3084 96.4122,-68.2637 101.5449,-77.5322 106.2046,-72.3084\"/>\n",
       "</g>\n",
       "<!-- 6 -->\n",
       "<g id=\"node7\" class=\"node\">\n",
       "<title>6</title>\n",
       "<path fill=\"#e58139\" fill-opacity=\"0.572549\" stroke=\"#000000\" d=\"M220,-68C220,-68 146,-68 146,-68 140,-68 134,-62 134,-56 134,-56 134,-12 134,-12 134,-6 140,0 146,0 146,0 220,0 220,0 226,0 232,-6 232,-12 232,-12 232,-56 232,-56 232,-62 226,-68 220,-68\"/>\n",
       "<text text-anchor=\"middle\" x=\"183\" y=\"-52.8\" font-family=\"Helvetica,sans-Serif\" font-size=\"14.00\" fill=\"#000000\">gini = 0.42</text>\n",
       "<text text-anchor=\"middle\" x=\"183\" y=\"-37.8\" font-family=\"Helvetica,sans-Serif\" font-size=\"14.00\" fill=\"#000000\">samples = 10</text>\n",
       "<text text-anchor=\"middle\" x=\"183\" y=\"-22.8\" font-family=\"Helvetica,sans-Serif\" font-size=\"14.00\" fill=\"#000000\">value = [7, 3]</text>\n",
       "<text text-anchor=\"middle\" x=\"183\" y=\"-7.8\" font-family=\"Helvetica,sans-Serif\" font-size=\"14.00\" fill=\"#000000\">class = fair</text>\n",
       "</g>\n",
       "<!-- 4&#45;&gt;6 -->\n",
       "<g id=\"edge6\" class=\"edge\">\n",
       "<title>4&#45;&gt;6</title>\n",
       "<path fill=\"none\" stroke=\"#000000\" d=\"M183,-103.9815C183,-95.618 183,-86.7965 183,-78.3409\"/>\n",
       "<polygon fill=\"#000000\" stroke=\"#000000\" points=\"186.5001,-78.2636 183,-68.2637 179.5001,-78.2637 186.5001,-78.2636\"/>\n",
       "</g>\n",
       "<!-- 8 -->\n",
       "<g id=\"node9\" class=\"node\">\n",
       "<title>8</title>\n",
       "<path fill=\"#e58139\" stroke=\"#000000\" d=\"M333.5,-68C333.5,-68 262.5,-68 262.5,-68 256.5,-68 250.5,-62 250.5,-56 250.5,-56 250.5,-12 250.5,-12 250.5,-6 256.5,0 262.5,0 262.5,0 333.5,0 333.5,0 339.5,0 345.5,-6 345.5,-12 345.5,-12 345.5,-56 345.5,-56 345.5,-62 339.5,-68 333.5,-68\"/>\n",
       "<text text-anchor=\"middle\" x=\"298\" y=\"-52.8\" font-family=\"Helvetica,sans-Serif\" font-size=\"14.00\" fill=\"#000000\">gini = 0.0</text>\n",
       "<text text-anchor=\"middle\" x=\"298\" y=\"-37.8\" font-family=\"Helvetica,sans-Serif\" font-size=\"14.00\" fill=\"#000000\">samples = 5</text>\n",
       "<text text-anchor=\"middle\" x=\"298\" y=\"-22.8\" font-family=\"Helvetica,sans-Serif\" font-size=\"14.00\" fill=\"#000000\">value = [5, 0]</text>\n",
       "<text text-anchor=\"middle\" x=\"298\" y=\"-7.8\" font-family=\"Helvetica,sans-Serif\" font-size=\"14.00\" fill=\"#000000\">class = fair</text>\n",
       "</g>\n",
       "<!-- 7&#45;&gt;8 -->\n",
       "<g id=\"edge8\" class=\"edge\">\n",
       "<title>7&#45;&gt;8</title>\n",
       "<path fill=\"none\" stroke=\"#000000\" d=\"M353.232,-103.9815C346.051,-94.8828 338.4421,-85.242 331.2426,-76.1199\"/>\n",
       "<polygon fill=\"#000000\" stroke=\"#000000\" points=\"333.9849,-73.9451 325.0422,-68.2637 328.4901,-78.2818 333.9849,-73.9451\"/>\n",
       "</g>\n",
       "<!-- 9 -->\n",
       "<g id=\"node10\" class=\"node\">\n",
       "<title>9</title>\n",
       "<path fill=\"#399de5\" stroke=\"#000000\" d=\"M468,-68C468,-68 376,-68 376,-68 370,-68 364,-62 364,-56 364,-56 364,-12 364,-12 364,-6 370,0 376,0 376,0 468,0 468,0 474,0 480,-6 480,-12 480,-12 480,-56 480,-56 480,-62 474,-68 468,-68\"/>\n",
       "<text text-anchor=\"middle\" x=\"422\" y=\"-52.8\" font-family=\"Helvetica,sans-Serif\" font-size=\"14.00\" fill=\"#000000\">gini = 0.0</text>\n",
       "<text text-anchor=\"middle\" x=\"422\" y=\"-37.8\" font-family=\"Helvetica,sans-Serif\" font-size=\"14.00\" fill=\"#000000\">samples = 1</text>\n",
       "<text text-anchor=\"middle\" x=\"422\" y=\"-22.8\" font-family=\"Helvetica,sans-Serif\" font-size=\"14.00\" fill=\"#000000\">value = [0, 1]</text>\n",
       "<text text-anchor=\"middle\" x=\"422\" y=\"-7.8\" font-family=\"Helvetica,sans-Serif\" font-size=\"14.00\" fill=\"#000000\">class = excellent</text>\n",
       "</g>\n",
       "<!-- 7&#45;&gt;9 -->\n",
       "<g id=\"edge9\" class=\"edge\">\n",
       "<title>7&#45;&gt;9</title>\n",
       "<path fill=\"none\" stroke=\"#000000\" d=\"M399.4051,-103.9815C402.1647,-95.4342 405.0788,-86.4086 407.8635,-77.7839\"/>\n",
       "<polygon fill=\"#000000\" stroke=\"#000000\" points=\"411.1954,-78.8554 410.9373,-68.2637 404.534,-76.7046 411.1954,-78.8554\"/>\n",
       "</g>\n",
       "<!-- 11 -->\n",
       "<g id=\"node12\" class=\"node\">\n",
       "<title>11</title>\n",
       "<path fill=\"#e58139\" fill-opacity=\"0.290196\" stroke=\"#000000\" d=\"M760,-187C760,-187 644,-187 644,-187 638,-187 632,-181 632,-175 632,-175 632,-116 632,-116 632,-110 638,-104 644,-104 644,-104 760,-104 760,-104 766,-104 772,-110 772,-116 772,-116 772,-175 772,-175 772,-181 766,-187 760,-187\"/>\n",
       "<text text-anchor=\"middle\" x=\"702\" y=\"-171.8\" font-family=\"Helvetica,sans-Serif\" font-size=\"14.00\" fill=\"#000000\">size &lt;= &#45;0.866</text>\n",
       "<text text-anchor=\"middle\" x=\"702\" y=\"-156.8\" font-family=\"Helvetica,sans-Serif\" font-size=\"14.00\" fill=\"#000000\">gini = 0.485</text>\n",
       "<text text-anchor=\"middle\" x=\"702\" y=\"-141.8\" font-family=\"Helvetica,sans-Serif\" font-size=\"14.00\" fill=\"#000000\">samples = 3446</text>\n",
       "<text text-anchor=\"middle\" x=\"702\" y=\"-126.8\" font-family=\"Helvetica,sans-Serif\" font-size=\"14.00\" fill=\"#000000\">value = [2017, 1429]</text>\n",
       "<text text-anchor=\"middle\" x=\"702\" y=\"-111.8\" font-family=\"Helvetica,sans-Serif\" font-size=\"14.00\" fill=\"#000000\">class = fair</text>\n",
       "</g>\n",
       "<!-- 10&#45;&gt;11 -->\n",
       "<g id=\"edge11\" class=\"edge\">\n",
       "<title>10&#45;&gt;11</title>\n",
       "<path fill=\"none\" stroke=\"#000000\" d=\"M750.7686,-222.8796C745.2627,-214.1434 739.3994,-204.8404 733.7176,-195.8253\"/>\n",
       "<polygon fill=\"#000000\" stroke=\"#000000\" points=\"736.6363,-193.8919 728.3433,-187.2981 730.7143,-197.6242 736.6363,-193.8919\"/>\n",
       "</g>\n",
       "<!-- 14 -->\n",
       "<g id=\"node15\" class=\"node\">\n",
       "<title>14</title>\n",
       "<path fill=\"#399de5\" fill-opacity=\"0.215686\" stroke=\"#000000\" d=\"M903.5,-187C903.5,-187 802.5,-187 802.5,-187 796.5,-187 790.5,-181 790.5,-175 790.5,-175 790.5,-116 790.5,-116 790.5,-110 796.5,-104 802.5,-104 802.5,-104 903.5,-104 903.5,-104 909.5,-104 915.5,-110 915.5,-116 915.5,-116 915.5,-175 915.5,-175 915.5,-181 909.5,-187 903.5,-187\"/>\n",
       "<text text-anchor=\"middle\" x=\"853\" y=\"-171.8\" font-family=\"Helvetica,sans-Serif\" font-size=\"14.00\" fill=\"#000000\">price &lt;= 0.677</text>\n",
       "<text text-anchor=\"middle\" x=\"853\" y=\"-156.8\" font-family=\"Helvetica,sans-Serif\" font-size=\"14.00\" fill=\"#000000\">gini = 0.493</text>\n",
       "<text text-anchor=\"middle\" x=\"853\" y=\"-141.8\" font-family=\"Helvetica,sans-Serif\" font-size=\"14.00\" fill=\"#000000\">samples = 246</text>\n",
       "<text text-anchor=\"middle\" x=\"853\" y=\"-126.8\" font-family=\"Helvetica,sans-Serif\" font-size=\"14.00\" fill=\"#000000\">value = [108, 138]</text>\n",
       "<text text-anchor=\"middle\" x=\"853\" y=\"-111.8\" font-family=\"Helvetica,sans-Serif\" font-size=\"14.00\" fill=\"#000000\">class = excellent</text>\n",
       "</g>\n",
       "<!-- 10&#45;&gt;14 -->\n",
       "<g id=\"edge14\" class=\"edge\">\n",
       "<title>10&#45;&gt;14</title>\n",
       "<path fill=\"none\" stroke=\"#000000\" d=\"M803.5811,-222.8796C809.1605,-214.1434 815.1019,-204.8404 820.8595,-195.8253\"/>\n",
       "<polygon fill=\"#000000\" stroke=\"#000000\" points=\"823.8726,-197.6098 826.3054,-187.2981 817.9731,-193.8421 823.8726,-197.6098\"/>\n",
       "</g>\n",
       "<!-- 12 -->\n",
       "<g id=\"node13\" class=\"node\">\n",
       "<title>12</title>\n",
       "<path fill=\"#e58139\" fill-opacity=\"0.650980\" stroke=\"#000000\" d=\"M603.5,-68C603.5,-68 510.5,-68 510.5,-68 504.5,-68 498.5,-62 498.5,-56 498.5,-56 498.5,-12 498.5,-12 498.5,-6 504.5,0 510.5,0 510.5,0 603.5,0 603.5,0 609.5,0 615.5,-6 615.5,-12 615.5,-12 615.5,-56 615.5,-56 615.5,-62 609.5,-68 603.5,-68\"/>\n",
       "<text text-anchor=\"middle\" x=\"557\" y=\"-52.8\" font-family=\"Helvetica,sans-Serif\" font-size=\"14.00\" fill=\"#000000\">gini = 0.383</text>\n",
       "<text text-anchor=\"middle\" x=\"557\" y=\"-37.8\" font-family=\"Helvetica,sans-Serif\" font-size=\"14.00\" fill=\"#000000\">samples = 194</text>\n",
       "<text text-anchor=\"middle\" x=\"557\" y=\"-22.8\" font-family=\"Helvetica,sans-Serif\" font-size=\"14.00\" fill=\"#000000\">value = [144, 50]</text>\n",
       "<text text-anchor=\"middle\" x=\"557\" y=\"-7.8\" font-family=\"Helvetica,sans-Serif\" font-size=\"14.00\" fill=\"#000000\">class = fair</text>\n",
       "</g>\n",
       "<!-- 11&#45;&gt;12 -->\n",
       "<g id=\"edge12\" class=\"edge\">\n",
       "<title>11&#45;&gt;12</title>\n",
       "<path fill=\"none\" stroke=\"#000000\" d=\"M648.0074,-103.9815C635.4578,-94.3313 622.1153,-84.0714 609.6256,-74.4673\"/>\n",
       "<polygon fill=\"#000000\" stroke=\"#000000\" points=\"611.619,-71.585 601.5581,-68.2637 607.3519,-77.134 611.619,-71.585\"/>\n",
       "</g>\n",
       "<!-- 13 -->\n",
       "<g id=\"node14\" class=\"node\">\n",
       "<title>13</title>\n",
       "<path fill=\"#e58139\" fill-opacity=\"0.262745\" stroke=\"#000000\" d=\"M762,-68C762,-68 646,-68 646,-68 640,-68 634,-62 634,-56 634,-56 634,-12 634,-12 634,-6 640,0 646,0 646,0 762,0 762,0 768,0 774,-6 774,-12 774,-12 774,-56 774,-56 774,-62 768,-68 762,-68\"/>\n",
       "<text text-anchor=\"middle\" x=\"704\" y=\"-52.8\" font-family=\"Helvetica,sans-Serif\" font-size=\"14.00\" fill=\"#000000\">gini = 0.488</text>\n",
       "<text text-anchor=\"middle\" x=\"704\" y=\"-37.8\" font-family=\"Helvetica,sans-Serif\" font-size=\"14.00\" fill=\"#000000\">samples = 3252</text>\n",
       "<text text-anchor=\"middle\" x=\"704\" y=\"-22.8\" font-family=\"Helvetica,sans-Serif\" font-size=\"14.00\" fill=\"#000000\">value = [1873, 1379]</text>\n",
       "<text text-anchor=\"middle\" x=\"704\" y=\"-7.8\" font-family=\"Helvetica,sans-Serif\" font-size=\"14.00\" fill=\"#000000\">class = fair</text>\n",
       "</g>\n",
       "<!-- 11&#45;&gt;13 -->\n",
       "<g id=\"edge13\" class=\"edge\">\n",
       "<title>11&#45;&gt;13</title>\n",
       "<path fill=\"none\" stroke=\"#000000\" d=\"M702.7447,-103.9815C702.8947,-95.618 703.053,-86.7965 703.2046,-78.3409\"/>\n",
       "<polygon fill=\"#000000\" stroke=\"#000000\" points=\"706.7054,-78.3249 703.3854,-68.2637 699.7065,-78.1993 706.7054,-78.3249\"/>\n",
       "</g>\n",
       "<!-- 15 -->\n",
       "<g id=\"node16\" class=\"node\">\n",
       "<title>15</title>\n",
       "<path fill=\"#399de5\" fill-opacity=\"0.356863\" stroke=\"#000000\" d=\"M897.5,-68C897.5,-68 804.5,-68 804.5,-68 798.5,-68 792.5,-62 792.5,-56 792.5,-56 792.5,-12 792.5,-12 792.5,-6 798.5,0 804.5,0 804.5,0 897.5,0 897.5,0 903.5,0 909.5,-6 909.5,-12 909.5,-12 909.5,-56 909.5,-56 909.5,-62 903.5,-68 897.5,-68\"/>\n",
       "<text text-anchor=\"middle\" x=\"851\" y=\"-52.8\" font-family=\"Helvetica,sans-Serif\" font-size=\"14.00\" fill=\"#000000\">gini = 0.476</text>\n",
       "<text text-anchor=\"middle\" x=\"851\" y=\"-37.8\" font-family=\"Helvetica,sans-Serif\" font-size=\"14.00\" fill=\"#000000\">samples = 220</text>\n",
       "<text text-anchor=\"middle\" x=\"851\" y=\"-22.8\" font-family=\"Helvetica,sans-Serif\" font-size=\"14.00\" fill=\"#000000\">value = [86, 134]</text>\n",
       "<text text-anchor=\"middle\" x=\"851\" y=\"-7.8\" font-family=\"Helvetica,sans-Serif\" font-size=\"14.00\" fill=\"#000000\">class = excellent</text>\n",
       "</g>\n",
       "<!-- 14&#45;&gt;15 -->\n",
       "<g id=\"edge15\" class=\"edge\">\n",
       "<title>14&#45;&gt;15</title>\n",
       "<path fill=\"none\" stroke=\"#000000\" d=\"M852.2553,-103.9815C852.1053,-95.618 851.947,-86.7965 851.7954,-78.3409\"/>\n",
       "<polygon fill=\"#000000\" stroke=\"#000000\" points=\"855.2935,-78.1993 851.6146,-68.2637 848.2946,-78.3249 855.2935,-78.1993\"/>\n",
       "</g>\n",
       "<!-- 16 -->\n",
       "<g id=\"node17\" class=\"node\">\n",
       "<title>16</title>\n",
       "<path fill=\"#e58139\" fill-opacity=\"0.819608\" stroke=\"#000000\" d=\"M1018,-68C1018,-68 940,-68 940,-68 934,-68 928,-62 928,-56 928,-56 928,-12 928,-12 928,-6 934,0 940,0 940,0 1018,0 1018,0 1024,0 1030,-6 1030,-12 1030,-12 1030,-56 1030,-56 1030,-62 1024,-68 1018,-68\"/>\n",
       "<text text-anchor=\"middle\" x=\"979\" y=\"-52.8\" font-family=\"Helvetica,sans-Serif\" font-size=\"14.00\" fill=\"#000000\">gini = 0.26</text>\n",
       "<text text-anchor=\"middle\" x=\"979\" y=\"-37.8\" font-family=\"Helvetica,sans-Serif\" font-size=\"14.00\" fill=\"#000000\">samples = 26</text>\n",
       "<text text-anchor=\"middle\" x=\"979\" y=\"-22.8\" font-family=\"Helvetica,sans-Serif\" font-size=\"14.00\" fill=\"#000000\">value = [22, 4]</text>\n",
       "<text text-anchor=\"middle\" x=\"979\" y=\"-7.8\" font-family=\"Helvetica,sans-Serif\" font-size=\"14.00\" fill=\"#000000\">class = fair</text>\n",
       "</g>\n",
       "<!-- 14&#45;&gt;16 -->\n",
       "<g id=\"edge16\" class=\"edge\">\n",
       "<title>14&#45;&gt;16</title>\n",
       "<path fill=\"none\" stroke=\"#000000\" d=\"M899.9177,-103.9815C910.6152,-94.5151 921.9756,-84.462 932.6492,-75.0168\"/>\n",
       "<polygon fill=\"#000000\" stroke=\"#000000\" points=\"935.1111,-77.5118 940.2805,-68.2637 930.4722,-72.2696 935.1111,-77.5118\"/>\n",
       "</g>\n",
       "<!-- 18 -->\n",
       "<g id=\"node19\" class=\"node\">\n",
       "<title>18</title>\n",
       "<path fill=\"#399de5\" fill-opacity=\"0.431373\" stroke=\"#000000\" d=\"M1486.5,-306C1486.5,-306 1385.5,-306 1385.5,-306 1379.5,-306 1373.5,-300 1373.5,-294 1373.5,-294 1373.5,-235 1373.5,-235 1373.5,-229 1379.5,-223 1385.5,-223 1385.5,-223 1486.5,-223 1486.5,-223 1492.5,-223 1498.5,-229 1498.5,-235 1498.5,-235 1498.5,-294 1498.5,-294 1498.5,-300 1492.5,-306 1486.5,-306\"/>\n",
       "<text text-anchor=\"middle\" x=\"1436\" y=\"-290.8\" font-family=\"Helvetica,sans-Serif\" font-size=\"14.00\" fill=\"#000000\">genres &lt;= &#45;0.441</text>\n",
       "<text text-anchor=\"middle\" x=\"1436\" y=\"-275.8\" font-family=\"Helvetica,sans-Serif\" font-size=\"14.00\" fill=\"#000000\">gini = 0.462</text>\n",
       "<text text-anchor=\"middle\" x=\"1436\" y=\"-260.8\" font-family=\"Helvetica,sans-Serif\" font-size=\"14.00\" fill=\"#000000\">samples = 342</text>\n",
       "<text text-anchor=\"middle\" x=\"1436\" y=\"-245.8\" font-family=\"Helvetica,sans-Serif\" font-size=\"14.00\" fill=\"#000000\">value = [124, 218]</text>\n",
       "<text text-anchor=\"middle\" x=\"1436\" y=\"-230.8\" font-family=\"Helvetica,sans-Serif\" font-size=\"14.00\" fill=\"#000000\">class = excellent</text>\n",
       "</g>\n",
       "<!-- 17&#45;&gt;18 -->\n",
       "<g id=\"edge18\" class=\"edge\">\n",
       "<title>17&#45;&gt;18</title>\n",
       "<path fill=\"none\" stroke=\"#000000\" d=\"M1571.3516,-345.8477C1551.029,-333.6336 1528.3332,-319.9932 1507.4213,-307.4249\"/>\n",
       "<polygon fill=\"#000000\" stroke=\"#000000\" points=\"1508.9546,-304.263 1498.5805,-302.1115 1505.3486,-310.2628 1508.9546,-304.263\"/>\n",
       "</g>\n",
       "<!-- 25 -->\n",
       "<g id=\"node26\" class=\"node\">\n",
       "<title>25</title>\n",
       "<path fill=\"#e58139\" fill-opacity=\"0.572549\" stroke=\"#000000\" d=\"M1757.5,-306C1757.5,-306 1644.5,-306 1644.5,-306 1638.5,-306 1632.5,-300 1632.5,-294 1632.5,-294 1632.5,-235 1632.5,-235 1632.5,-229 1638.5,-223 1644.5,-223 1644.5,-223 1757.5,-223 1757.5,-223 1763.5,-223 1769.5,-229 1769.5,-235 1769.5,-235 1769.5,-294 1769.5,-294 1769.5,-300 1763.5,-306 1757.5,-306\"/>\n",
       "<text text-anchor=\"middle\" x=\"1701\" y=\"-290.8\" font-family=\"Helvetica,sans-Serif\" font-size=\"14.00\" fill=\"#000000\">name_wc &lt;= &#45;0.633</text>\n",
       "<text text-anchor=\"middle\" x=\"1701\" y=\"-275.8\" font-family=\"Helvetica,sans-Serif\" font-size=\"14.00\" fill=\"#000000\">gini = 0.419</text>\n",
       "<text text-anchor=\"middle\" x=\"1701\" y=\"-260.8\" font-family=\"Helvetica,sans-Serif\" font-size=\"14.00\" fill=\"#000000\">samples = 87</text>\n",
       "<text text-anchor=\"middle\" x=\"1701\" y=\"-245.8\" font-family=\"Helvetica,sans-Serif\" font-size=\"14.00\" fill=\"#000000\">value = [61, 26]</text>\n",
       "<text text-anchor=\"middle\" x=\"1701\" y=\"-230.8\" font-family=\"Helvetica,sans-Serif\" font-size=\"14.00\" fill=\"#000000\">class = fair</text>\n",
       "</g>\n",
       "<!-- 17&#45;&gt;25 -->\n",
       "<g id=\"edge25\" class=\"edge\">\n",
       "<title>17&#45;&gt;25</title>\n",
       "<path fill=\"none\" stroke=\"#000000\" d=\"M1657.4333,-341.8796C1662.3013,-333.2335 1667.4819,-324.0322 1672.5086,-315.1042\"/>\n",
       "<polygon fill=\"#000000\" stroke=\"#000000\" points=\"1675.6103,-316.729 1677.4666,-306.2981 1669.5107,-313.2947 1675.6103,-316.729\"/>\n",
       "</g>\n",
       "<!-- 19 -->\n",
       "<g id=\"node20\" class=\"node\">\n",
       "<title>19</title>\n",
       "<path fill=\"#e58139\" fill-opacity=\"0.031373\" stroke=\"#000000\" d=\"M1280,-187C1280,-187 1194,-187 1194,-187 1188,-187 1182,-181 1182,-175 1182,-175 1182,-116 1182,-116 1182,-110 1188,-104 1194,-104 1194,-104 1280,-104 1280,-104 1286,-104 1292,-110 1292,-116 1292,-116 1292,-175 1292,-175 1292,-181 1286,-187 1280,-187\"/>\n",
       "<text text-anchor=\"middle\" x=\"1237\" y=\"-171.8\" font-family=\"Helvetica,sans-Serif\" font-size=\"14.00\" fill=\"#000000\">size &lt;= 1.367</text>\n",
       "<text text-anchor=\"middle\" x=\"1237\" y=\"-156.8\" font-family=\"Helvetica,sans-Serif\" font-size=\"14.00\" fill=\"#000000\">gini = 0.5</text>\n",
       "<text text-anchor=\"middle\" x=\"1237\" y=\"-141.8\" font-family=\"Helvetica,sans-Serif\" font-size=\"14.00\" fill=\"#000000\">samples = 118</text>\n",
       "<text text-anchor=\"middle\" x=\"1237\" y=\"-126.8\" font-family=\"Helvetica,sans-Serif\" font-size=\"14.00\" fill=\"#000000\">value = [60, 58]</text>\n",
       "<text text-anchor=\"middle\" x=\"1237\" y=\"-111.8\" font-family=\"Helvetica,sans-Serif\" font-size=\"14.00\" fill=\"#000000\">class = fair</text>\n",
       "</g>\n",
       "<!-- 18&#45;&gt;19 -->\n",
       "<g id=\"edge19\" class=\"edge\">\n",
       "<title>18&#45;&gt;19</title>\n",
       "<path fill=\"none\" stroke=\"#000000\" d=\"M1373.3083,-227.011C1350.2754,-213.2375 1324.1792,-197.6323 1301.0301,-183.7894\"/>\n",
       "<polygon fill=\"#000000\" stroke=\"#000000\" points=\"1302.6937,-180.7062 1292.3149,-178.5777 1299.1011,-186.7139 1302.6937,-180.7062\"/>\n",
       "</g>\n",
       "<!-- 22 -->\n",
       "<g id=\"node23\" class=\"node\">\n",
       "<title>22</title>\n",
       "<path fill=\"#399de5\" fill-opacity=\"0.600000\" stroke=\"#000000\" d=\"M1482.5,-187C1482.5,-187 1389.5,-187 1389.5,-187 1383.5,-187 1377.5,-181 1377.5,-175 1377.5,-175 1377.5,-116 1377.5,-116 1377.5,-110 1383.5,-104 1389.5,-104 1389.5,-104 1482.5,-104 1482.5,-104 1488.5,-104 1494.5,-110 1494.5,-116 1494.5,-116 1494.5,-175 1494.5,-175 1494.5,-181 1488.5,-187 1482.5,-187\"/>\n",
       "<text text-anchor=\"middle\" x=\"1436\" y=\"-171.8\" font-family=\"Helvetica,sans-Serif\" font-size=\"14.00\" fill=\"#000000\">genres &lt;= 0.277</text>\n",
       "<text text-anchor=\"middle\" x=\"1436\" y=\"-156.8\" font-family=\"Helvetica,sans-Serif\" font-size=\"14.00\" fill=\"#000000\">gini = 0.408</text>\n",
       "<text text-anchor=\"middle\" x=\"1436\" y=\"-141.8\" font-family=\"Helvetica,sans-Serif\" font-size=\"14.00\" fill=\"#000000\">samples = 224</text>\n",
       "<text text-anchor=\"middle\" x=\"1436\" y=\"-126.8\" font-family=\"Helvetica,sans-Serif\" font-size=\"14.00\" fill=\"#000000\">value = [64, 160]</text>\n",
       "<text text-anchor=\"middle\" x=\"1436\" y=\"-111.8\" font-family=\"Helvetica,sans-Serif\" font-size=\"14.00\" fill=\"#000000\">class = excellent</text>\n",
       "</g>\n",
       "<!-- 18&#45;&gt;22 -->\n",
       "<g id=\"edge22\" class=\"edge\">\n",
       "<title>18&#45;&gt;22</title>\n",
       "<path fill=\"none\" stroke=\"#000000\" d=\"M1436,-222.8796C1436,-214.6838 1436,-205.9891 1436,-197.5013\"/>\n",
       "<polygon fill=\"#000000\" stroke=\"#000000\" points=\"1439.5001,-197.298 1436,-187.2981 1432.5001,-197.2981 1439.5001,-197.298\"/>\n",
       "</g>\n",
       "<!-- 20 -->\n",
       "<g id=\"node21\" class=\"node\">\n",
       "<title>20</title>\n",
       "<path fill=\"#399de5\" stroke=\"#000000\" d=\"M1152,-68C1152,-68 1060,-68 1060,-68 1054,-68 1048,-62 1048,-56 1048,-56 1048,-12 1048,-12 1048,-6 1054,0 1060,0 1060,0 1152,0 1152,0 1158,0 1164,-6 1164,-12 1164,-12 1164,-56 1164,-56 1164,-62 1158,-68 1152,-68\"/>\n",
       "<text text-anchor=\"middle\" x=\"1106\" y=\"-52.8\" font-family=\"Helvetica,sans-Serif\" font-size=\"14.00\" fill=\"#000000\">gini = 0.0</text>\n",
       "<text text-anchor=\"middle\" x=\"1106\" y=\"-37.8\" font-family=\"Helvetica,sans-Serif\" font-size=\"14.00\" fill=\"#000000\">samples = 7</text>\n",
       "<text text-anchor=\"middle\" x=\"1106\" y=\"-22.8\" font-family=\"Helvetica,sans-Serif\" font-size=\"14.00\" fill=\"#000000\">value = [0, 7]</text>\n",
       "<text text-anchor=\"middle\" x=\"1106\" y=\"-7.8\" font-family=\"Helvetica,sans-Serif\" font-size=\"14.00\" fill=\"#000000\">class = excellent</text>\n",
       "</g>\n",
       "<!-- 19&#45;&gt;20 -->\n",
       "<g id=\"edge20\" class=\"edge\">\n",
       "<title>19&#45;&gt;20</title>\n",
       "<path fill=\"none\" stroke=\"#000000\" d=\"M1188.2204,-103.9815C1177.0985,-94.5151 1165.2872,-84.462 1154.1901,-75.0168\"/>\n",
       "<polygon fill=\"#000000\" stroke=\"#000000\" points=\"1156.1396,-72.08 1146.256,-68.2637 1151.6025,-77.4105 1156.1396,-72.08\"/>\n",
       "</g>\n",
       "<!-- 21 -->\n",
       "<g id=\"node22\" class=\"node\">\n",
       "<title>21</title>\n",
       "<path fill=\"#e58139\" fill-opacity=\"0.149020\" stroke=\"#000000\" d=\"M1280,-68C1280,-68 1194,-68 1194,-68 1188,-68 1182,-62 1182,-56 1182,-56 1182,-12 1182,-12 1182,-6 1188,0 1194,0 1194,0 1280,0 1280,0 1286,0 1292,-6 1292,-12 1292,-12 1292,-56 1292,-56 1292,-62 1286,-68 1280,-68\"/>\n",
       "<text text-anchor=\"middle\" x=\"1237\" y=\"-52.8\" font-family=\"Helvetica,sans-Serif\" font-size=\"14.00\" fill=\"#000000\">gini = 0.497</text>\n",
       "<text text-anchor=\"middle\" x=\"1237\" y=\"-37.8\" font-family=\"Helvetica,sans-Serif\" font-size=\"14.00\" fill=\"#000000\">samples = 111</text>\n",
       "<text text-anchor=\"middle\" x=\"1237\" y=\"-22.8\" font-family=\"Helvetica,sans-Serif\" font-size=\"14.00\" fill=\"#000000\">value = [60, 51]</text>\n",
       "<text text-anchor=\"middle\" x=\"1237\" y=\"-7.8\" font-family=\"Helvetica,sans-Serif\" font-size=\"14.00\" fill=\"#000000\">class = fair</text>\n",
       "</g>\n",
       "<!-- 19&#45;&gt;21 -->\n",
       "<g id=\"edge21\" class=\"edge\">\n",
       "<title>19&#45;&gt;21</title>\n",
       "<path fill=\"none\" stroke=\"#000000\" d=\"M1237,-103.9815C1237,-95.618 1237,-86.7965 1237,-78.3409\"/>\n",
       "<polygon fill=\"#000000\" stroke=\"#000000\" points=\"1240.5001,-78.2636 1237,-68.2637 1233.5001,-78.2637 1240.5001,-78.2636\"/>\n",
       "</g>\n",
       "<!-- 23 -->\n",
       "<g id=\"node24\" class=\"node\">\n",
       "<title>23</title>\n",
       "<path fill=\"#399de5\" fill-opacity=\"0.705882\" stroke=\"#000000\" d=\"M1415.5,-68C1415.5,-68 1322.5,-68 1322.5,-68 1316.5,-68 1310.5,-62 1310.5,-56 1310.5,-56 1310.5,-12 1310.5,-12 1310.5,-6 1316.5,0 1322.5,0 1322.5,0 1415.5,0 1415.5,0 1421.5,0 1427.5,-6 1427.5,-12 1427.5,-12 1427.5,-56 1427.5,-56 1427.5,-62 1421.5,-68 1415.5,-68\"/>\n",
       "<text text-anchor=\"middle\" x=\"1369\" y=\"-52.8\" font-family=\"Helvetica,sans-Serif\" font-size=\"14.00\" fill=\"#000000\">gini = 0.351</text>\n",
       "<text text-anchor=\"middle\" x=\"1369\" y=\"-37.8\" font-family=\"Helvetica,sans-Serif\" font-size=\"14.00\" fill=\"#000000\">samples = 163</text>\n",
       "<text text-anchor=\"middle\" x=\"1369\" y=\"-22.8\" font-family=\"Helvetica,sans-Serif\" font-size=\"14.00\" fill=\"#000000\">value = [37, 126]</text>\n",
       "<text text-anchor=\"middle\" x=\"1369\" y=\"-7.8\" font-family=\"Helvetica,sans-Serif\" font-size=\"14.00\" fill=\"#000000\">class = excellent</text>\n",
       "</g>\n",
       "<!-- 22&#45;&gt;23 -->\n",
       "<g id=\"edge23\" class=\"edge\">\n",
       "<title>22&#45;&gt;23</title>\n",
       "<path fill=\"none\" stroke=\"#000000\" d=\"M1411.0517,-103.9815C1405.7499,-95.1585 1400.1419,-85.8258 1394.8089,-76.9506\"/>\n",
       "<polygon fill=\"#000000\" stroke=\"#000000\" points=\"1397.7396,-75.0325 1389.5889,-68.2637 1391.7395,-78.638 1397.7396,-75.0325\"/>\n",
       "</g>\n",
       "<!-- 24 -->\n",
       "<g id=\"node25\" class=\"node\">\n",
       "<title>24</title>\n",
       "<path fill=\"#399de5\" fill-opacity=\"0.203922\" stroke=\"#000000\" d=\"M1550,-68C1550,-68 1458,-68 1458,-68 1452,-68 1446,-62 1446,-56 1446,-56 1446,-12 1446,-12 1446,-6 1452,0 1458,0 1458,0 1550,0 1550,0 1556,0 1562,-6 1562,-12 1562,-12 1562,-56 1562,-56 1562,-62 1556,-68 1550,-68\"/>\n",
       "<text text-anchor=\"middle\" x=\"1504\" y=\"-52.8\" font-family=\"Helvetica,sans-Serif\" font-size=\"14.00\" fill=\"#000000\">gini = 0.493</text>\n",
       "<text text-anchor=\"middle\" x=\"1504\" y=\"-37.8\" font-family=\"Helvetica,sans-Serif\" font-size=\"14.00\" fill=\"#000000\">samples = 61</text>\n",
       "<text text-anchor=\"middle\" x=\"1504\" y=\"-22.8\" font-family=\"Helvetica,sans-Serif\" font-size=\"14.00\" fill=\"#000000\">value = [27, 34]</text>\n",
       "<text text-anchor=\"middle\" x=\"1504\" y=\"-7.8\" font-family=\"Helvetica,sans-Serif\" font-size=\"14.00\" fill=\"#000000\">class = excellent</text>\n",
       "</g>\n",
       "<!-- 22&#45;&gt;24 -->\n",
       "<g id=\"edge24\" class=\"edge\">\n",
       "<title>22&#45;&gt;24</title>\n",
       "<path fill=\"none\" stroke=\"#000000\" d=\"M1461.3207,-103.9815C1466.7016,-95.1585 1472.3932,-85.8258 1477.8059,-76.9506\"/>\n",
       "<polygon fill=\"#000000\" stroke=\"#000000\" points=\"1480.8851,-78.6236 1483.1038,-68.2637 1474.9088,-74.9789 1480.8851,-78.6236\"/>\n",
       "</g>\n",
       "<!-- 26 -->\n",
       "<g id=\"node27\" class=\"node\">\n",
       "<title>26</title>\n",
       "<path fill=\"#e58139\" fill-opacity=\"0.772549\" stroke=\"#000000\" d=\"M1744,-187C1744,-187 1658,-187 1658,-187 1652,-187 1646,-181 1646,-175 1646,-175 1646,-116 1646,-116 1646,-110 1652,-104 1658,-104 1658,-104 1744,-104 1744,-104 1750,-104 1756,-110 1756,-116 1756,-116 1756,-175 1756,-175 1756,-181 1750,-187 1744,-187\"/>\n",
       "<text text-anchor=\"middle\" x=\"1701\" y=\"-171.8\" font-family=\"Helvetica,sans-Serif\" font-size=\"14.00\" fill=\"#000000\">price &lt;= 0.132</text>\n",
       "<text text-anchor=\"middle\" x=\"1701\" y=\"-156.8\" font-family=\"Helvetica,sans-Serif\" font-size=\"14.00\" fill=\"#000000\">gini = 0.301</text>\n",
       "<text text-anchor=\"middle\" x=\"1701\" y=\"-141.8\" font-family=\"Helvetica,sans-Serif\" font-size=\"14.00\" fill=\"#000000\">samples = 65</text>\n",
       "<text text-anchor=\"middle\" x=\"1701\" y=\"-126.8\" font-family=\"Helvetica,sans-Serif\" font-size=\"14.00\" fill=\"#000000\">value = [53, 12]</text>\n",
       "<text text-anchor=\"middle\" x=\"1701\" y=\"-111.8\" font-family=\"Helvetica,sans-Serif\" font-size=\"14.00\" fill=\"#000000\">class = fair</text>\n",
       "</g>\n",
       "<!-- 25&#45;&gt;26 -->\n",
       "<g id=\"edge26\" class=\"edge\">\n",
       "<title>25&#45;&gt;26</title>\n",
       "<path fill=\"none\" stroke=\"#000000\" d=\"M1701,-222.8796C1701,-214.6838 1701,-205.9891 1701,-197.5013\"/>\n",
       "<polygon fill=\"#000000\" stroke=\"#000000\" points=\"1704.5001,-197.298 1701,-187.2981 1697.5001,-197.2981 1704.5001,-197.298\"/>\n",
       "</g>\n",
       "<!-- 29 -->\n",
       "<g id=\"node30\" class=\"node\">\n",
       "<title>29</title>\n",
       "<path fill=\"#399de5\" fill-opacity=\"0.427451\" stroke=\"#000000\" d=\"M1946,-187C1946,-187 1854,-187 1854,-187 1848,-187 1842,-181 1842,-175 1842,-175 1842,-116 1842,-116 1842,-110 1848,-104 1854,-104 1854,-104 1946,-104 1946,-104 1952,-104 1958,-110 1958,-116 1958,-116 1958,-175 1958,-175 1958,-181 1952,-187 1946,-187\"/>\n",
       "<text text-anchor=\"middle\" x=\"1900\" y=\"-171.8\" font-family=\"Helvetica,sans-Serif\" font-size=\"14.00\" fill=\"#000000\">size &lt;= 2.275</text>\n",
       "<text text-anchor=\"middle\" x=\"1900\" y=\"-156.8\" font-family=\"Helvetica,sans-Serif\" font-size=\"14.00\" fill=\"#000000\">gini = 0.463</text>\n",
       "<text text-anchor=\"middle\" x=\"1900\" y=\"-141.8\" font-family=\"Helvetica,sans-Serif\" font-size=\"14.00\" fill=\"#000000\">samples = 22</text>\n",
       "<text text-anchor=\"middle\" x=\"1900\" y=\"-126.8\" font-family=\"Helvetica,sans-Serif\" font-size=\"14.00\" fill=\"#000000\">value = [8, 14]</text>\n",
       "<text text-anchor=\"middle\" x=\"1900\" y=\"-111.8\" font-family=\"Helvetica,sans-Serif\" font-size=\"14.00\" fill=\"#000000\">class = excellent</text>\n",
       "</g>\n",
       "<!-- 25&#45;&gt;29 -->\n",
       "<g id=\"edge29\" class=\"edge\">\n",
       "<title>25&#45;&gt;29</title>\n",
       "<path fill=\"none\" stroke=\"#000000\" d=\"M1769.7632,-223.3803C1790.3081,-211.0947 1812.7917,-197.6497 1833.2081,-185.4409\"/>\n",
       "<polygon fill=\"#000000\" stroke=\"#000000\" points=\"1835.0335,-188.4274 1841.8197,-180.2912 1831.4408,-182.4197 1835.0335,-188.4274\"/>\n",
       "</g>\n",
       "<!-- 27 -->\n",
       "<g id=\"node28\" class=\"node\">\n",
       "<title>27</title>\n",
       "<path fill=\"#e58139\" fill-opacity=\"0.792157\" stroke=\"#000000\" d=\"M1678,-68C1678,-68 1592,-68 1592,-68 1586,-68 1580,-62 1580,-56 1580,-56 1580,-12 1580,-12 1580,-6 1586,0 1592,0 1592,0 1678,0 1678,0 1684,0 1690,-6 1690,-12 1690,-12 1690,-56 1690,-56 1690,-62 1684,-68 1678,-68\"/>\n",
       "<text text-anchor=\"middle\" x=\"1635\" y=\"-52.8\" font-family=\"Helvetica,sans-Serif\" font-size=\"14.00\" fill=\"#000000\">gini = 0.285</text>\n",
       "<text text-anchor=\"middle\" x=\"1635\" y=\"-37.8\" font-family=\"Helvetica,sans-Serif\" font-size=\"14.00\" fill=\"#000000\">samples = 64</text>\n",
       "<text text-anchor=\"middle\" x=\"1635\" y=\"-22.8\" font-family=\"Helvetica,sans-Serif\" font-size=\"14.00\" fill=\"#000000\">value = [53, 11]</text>\n",
       "<text text-anchor=\"middle\" x=\"1635\" y=\"-7.8\" font-family=\"Helvetica,sans-Serif\" font-size=\"14.00\" fill=\"#000000\">class = fair</text>\n",
       "</g>\n",
       "<!-- 26&#45;&gt;27 -->\n",
       "<g id=\"edge27\" class=\"edge\">\n",
       "<title>26&#45;&gt;27</title>\n",
       "<path fill=\"none\" stroke=\"#000000\" d=\"M1676.424,-103.9815C1671.2014,-95.1585 1665.6771,-85.8258 1660.4237,-76.9506\"/>\n",
       "<polygon fill=\"#000000\" stroke=\"#000000\" points=\"1663.3874,-75.0863 1655.2816,-68.2637 1657.3636,-78.652 1663.3874,-75.0863\"/>\n",
       "</g>\n",
       "<!-- 28 -->\n",
       "<g id=\"node29\" class=\"node\">\n",
       "<title>28</title>\n",
       "<path fill=\"#399de5\" stroke=\"#000000\" d=\"M1812,-68C1812,-68 1720,-68 1720,-68 1714,-68 1708,-62 1708,-56 1708,-56 1708,-12 1708,-12 1708,-6 1714,0 1720,0 1720,0 1812,0 1812,0 1818,0 1824,-6 1824,-12 1824,-12 1824,-56 1824,-56 1824,-62 1818,-68 1812,-68\"/>\n",
       "<text text-anchor=\"middle\" x=\"1766\" y=\"-52.8\" font-family=\"Helvetica,sans-Serif\" font-size=\"14.00\" fill=\"#000000\">gini = 0.0</text>\n",
       "<text text-anchor=\"middle\" x=\"1766\" y=\"-37.8\" font-family=\"Helvetica,sans-Serif\" font-size=\"14.00\" fill=\"#000000\">samples = 1</text>\n",
       "<text text-anchor=\"middle\" x=\"1766\" y=\"-22.8\" font-family=\"Helvetica,sans-Serif\" font-size=\"14.00\" fill=\"#000000\">value = [0, 1]</text>\n",
       "<text text-anchor=\"middle\" x=\"1766\" y=\"-7.8\" font-family=\"Helvetica,sans-Serif\" font-size=\"14.00\" fill=\"#000000\">class = excellent</text>\n",
       "</g>\n",
       "<!-- 26&#45;&gt;28 -->\n",
       "<g id=\"edge28\" class=\"edge\">\n",
       "<title>26&#45;&gt;28</title>\n",
       "<path fill=\"none\" stroke=\"#000000\" d=\"M1725.2036,-103.9815C1730.3471,-95.1585 1735.7877,-85.8258 1740.9616,-76.9506\"/>\n",
       "<polygon fill=\"#000000\" stroke=\"#000000\" points=\"1744.013,-78.6656 1746.0257,-68.2637 1737.9656,-75.1402 1744.013,-78.6656\"/>\n",
       "</g>\n",
       "<!-- 30 -->\n",
       "<g id=\"node31\" class=\"node\">\n",
       "<title>30</title>\n",
       "<path fill=\"#399de5\" fill-opacity=\"0.874510\" stroke=\"#000000\" d=\"M1946,-68C1946,-68 1854,-68 1854,-68 1848,-68 1842,-62 1842,-56 1842,-56 1842,-12 1842,-12 1842,-6 1848,0 1854,0 1854,0 1946,0 1946,0 1952,0 1958,-6 1958,-12 1958,-12 1958,-56 1958,-56 1958,-62 1952,-68 1946,-68\"/>\n",
       "<text text-anchor=\"middle\" x=\"1900\" y=\"-52.8\" font-family=\"Helvetica,sans-Serif\" font-size=\"14.00\" fill=\"#000000\">gini = 0.198</text>\n",
       "<text text-anchor=\"middle\" x=\"1900\" y=\"-37.8\" font-family=\"Helvetica,sans-Serif\" font-size=\"14.00\" fill=\"#000000\">samples = 9</text>\n",
       "<text text-anchor=\"middle\" x=\"1900\" y=\"-22.8\" font-family=\"Helvetica,sans-Serif\" font-size=\"14.00\" fill=\"#000000\">value = [1, 8]</text>\n",
       "<text text-anchor=\"middle\" x=\"1900\" y=\"-7.8\" font-family=\"Helvetica,sans-Serif\" font-size=\"14.00\" fill=\"#000000\">class = excellent</text>\n",
       "</g>\n",
       "<!-- 29&#45;&gt;30 -->\n",
       "<g id=\"edge30\" class=\"edge\">\n",
       "<title>29&#45;&gt;30</title>\n",
       "<path fill=\"none\" stroke=\"#000000\" d=\"M1900,-103.9815C1900,-95.618 1900,-86.7965 1900,-78.3409\"/>\n",
       "<polygon fill=\"#000000\" stroke=\"#000000\" points=\"1903.5001,-78.2636 1900,-68.2637 1896.5001,-78.2637 1903.5001,-78.2636\"/>\n",
       "</g>\n",
       "<!-- 31 -->\n",
       "<g id=\"node32\" class=\"node\">\n",
       "<title>31</title>\n",
       "<path fill=\"#e58139\" fill-opacity=\"0.141176\" stroke=\"#000000\" d=\"M2062,-68C2062,-68 1988,-68 1988,-68 1982,-68 1976,-62 1976,-56 1976,-56 1976,-12 1976,-12 1976,-6 1982,0 1988,0 1988,0 2062,0 2062,0 2068,0 2074,-6 2074,-12 2074,-12 2074,-56 2074,-56 2074,-62 2068,-68 2062,-68\"/>\n",
       "<text text-anchor=\"middle\" x=\"2025\" y=\"-52.8\" font-family=\"Helvetica,sans-Serif\" font-size=\"14.00\" fill=\"#000000\">gini = 0.497</text>\n",
       "<text text-anchor=\"middle\" x=\"2025\" y=\"-37.8\" font-family=\"Helvetica,sans-Serif\" font-size=\"14.00\" fill=\"#000000\">samples = 13</text>\n",
       "<text text-anchor=\"middle\" x=\"2025\" y=\"-22.8\" font-family=\"Helvetica,sans-Serif\" font-size=\"14.00\" fill=\"#000000\">value = [7, 6]</text>\n",
       "<text text-anchor=\"middle\" x=\"2025\" y=\"-7.8\" font-family=\"Helvetica,sans-Serif\" font-size=\"14.00\" fill=\"#000000\">class = fair</text>\n",
       "</g>\n",
       "<!-- 29&#45;&gt;31 -->\n",
       "<g id=\"edge31\" class=\"edge\">\n",
       "<title>29&#45;&gt;31</title>\n",
       "<path fill=\"none\" stroke=\"#000000\" d=\"M1946.5454,-103.9815C1957.1579,-94.5151 1968.4282,-84.462 1979.0171,-75.0168\"/>\n",
       "<polygon fill=\"#000000\" stroke=\"#000000\" points=\"1981.4551,-77.5322 1986.5878,-68.2637 1976.7954,-72.3084 1981.4551,-77.5322\"/>\n",
       "</g>\n",
       "<!-- 33 -->\n",
       "<g id=\"node34\" class=\"node\">\n",
       "<title>33</title>\n",
       "<path fill=\"#e58139\" fill-opacity=\"0.227451\" stroke=\"#000000\" d=\"M2606.5,-425C2606.5,-425 2505.5,-425 2505.5,-425 2499.5,-425 2493.5,-419 2493.5,-413 2493.5,-413 2493.5,-354 2493.5,-354 2493.5,-348 2499.5,-342 2505.5,-342 2505.5,-342 2606.5,-342 2606.5,-342 2612.5,-342 2618.5,-348 2618.5,-354 2618.5,-354 2618.5,-413 2618.5,-413 2618.5,-419 2612.5,-425 2606.5,-425\"/>\n",
       "<text text-anchor=\"middle\" x=\"2556\" y=\"-409.8\" font-family=\"Helvetica,sans-Serif\" font-size=\"14.00\" fill=\"#000000\">size &lt;= &#45;0.919</text>\n",
       "<text text-anchor=\"middle\" x=\"2556\" y=\"-394.8\" font-family=\"Helvetica,sans-Serif\" font-size=\"14.00\" fill=\"#000000\">gini = 0.492</text>\n",
       "<text text-anchor=\"middle\" x=\"2556\" y=\"-379.8\" font-family=\"Helvetica,sans-Serif\" font-size=\"14.00\" fill=\"#000000\">samples = 592</text>\n",
       "<text text-anchor=\"middle\" x=\"2556\" y=\"-364.8\" font-family=\"Helvetica,sans-Serif\" font-size=\"14.00\" fill=\"#000000\">value = [334, 258]</text>\n",
       "<text text-anchor=\"middle\" x=\"2556\" y=\"-349.8\" font-family=\"Helvetica,sans-Serif\" font-size=\"14.00\" fill=\"#000000\">class = fair</text>\n",
       "</g>\n",
       "<!-- 32&#45;&gt;33 -->\n",
       "<g id=\"edge33\" class=\"edge\">\n",
       "<title>32&#45;&gt;33</title>\n",
       "<path fill=\"none\" stroke=\"#000000\" d=\"M2556,-460.8796C2556,-452.6838 2556,-443.9891 2556,-435.5013\"/>\n",
       "<polygon fill=\"#000000\" stroke=\"#000000\" points=\"2559.5001,-435.298 2556,-425.2981 2552.5001,-435.2981 2559.5001,-435.298\"/>\n",
       "</g>\n",
       "<!-- 48 -->\n",
       "<g id=\"node49\" class=\"node\">\n",
       "<title>48</title>\n",
       "<path fill=\"#399de5\" fill-opacity=\"0.305882\" stroke=\"#000000\" d=\"M3432.5,-425C3432.5,-425 3281.5,-425 3281.5,-425 3275.5,-425 3269.5,-419 3269.5,-413 3269.5,-413 3269.5,-354 3269.5,-354 3269.5,-348 3275.5,-342 3281.5,-342 3281.5,-342 3432.5,-342 3432.5,-342 3438.5,-342 3444.5,-348 3444.5,-354 3444.5,-354 3444.5,-413 3444.5,-413 3444.5,-419 3438.5,-425 3432.5,-425\"/>\n",
       "<text text-anchor=\"middle\" x=\"3357\" y=\"-409.8\" font-family=\"Helvetica,sans-Serif\" font-size=\"14.00\" fill=\"#000000\">android_version &lt;= &#45;0.178</text>\n",
       "<text text-anchor=\"middle\" x=\"3357\" y=\"-394.8\" font-family=\"Helvetica,sans-Serif\" font-size=\"14.00\" fill=\"#000000\">gini = 0.484</text>\n",
       "<text text-anchor=\"middle\" x=\"3357\" y=\"-379.8\" font-family=\"Helvetica,sans-Serif\" font-size=\"14.00\" fill=\"#000000\">samples = 3046</text>\n",
       "<text text-anchor=\"middle\" x=\"3357\" y=\"-364.8\" font-family=\"Helvetica,sans-Serif\" font-size=\"14.00\" fill=\"#000000\">value = [1249, 1797]</text>\n",
       "<text text-anchor=\"middle\" x=\"3357\" y=\"-349.8\" font-family=\"Helvetica,sans-Serif\" font-size=\"14.00\" fill=\"#000000\">class = excellent</text>\n",
       "</g>\n",
       "<!-- 32&#45;&gt;48 -->\n",
       "<g id=\"edge48\" class=\"edge\">\n",
       "<title>32&#45;&gt;48</title>\n",
       "<path fill=\"none\" stroke=\"#000000\" d=\"M2626.0315,-492.0958C2769.1264,-470.837 3095.3303,-422.3748 3259.2159,-398.0272\"/>\n",
       "<polygon fill=\"#000000\" stroke=\"#000000\" points=\"3259.9161,-401.4617 3269.2932,-396.5301 3258.8874,-394.5377 3259.9161,-401.4617\"/>\n",
       "</g>\n",
       "<!-- 34 -->\n",
       "<g id=\"node35\" class=\"node\">\n",
       "<title>34</title>\n",
       "<path fill=\"#399de5\" fill-opacity=\"0.662745\" stroke=\"#000000\" d=\"M2559,-306C2559,-306 2413,-306 2413,-306 2407,-306 2401,-300 2401,-294 2401,-294 2401,-235 2401,-235 2401,-229 2407,-223 2413,-223 2413,-223 2559,-223 2559,-223 2565,-223 2571,-229 2571,-235 2571,-235 2571,-294 2571,-294 2571,-300 2565,-306 2559,-306\"/>\n",
       "<text text-anchor=\"middle\" x=\"2486\" y=\"-290.8\" font-family=\"Helvetica,sans-Serif\" font-size=\"14.00\" fill=\"#000000\">android_version &lt;= 0.869</text>\n",
       "<text text-anchor=\"middle\" x=\"2486\" y=\"-275.8\" font-family=\"Helvetica,sans-Serif\" font-size=\"14.00\" fill=\"#000000\">gini = 0.378</text>\n",
       "<text text-anchor=\"middle\" x=\"2486\" y=\"-260.8\" font-family=\"Helvetica,sans-Serif\" font-size=\"14.00\" fill=\"#000000\">samples = 91</text>\n",
       "<text text-anchor=\"middle\" x=\"2486\" y=\"-245.8\" font-family=\"Helvetica,sans-Serif\" font-size=\"14.00\" fill=\"#000000\">value = [23, 68]</text>\n",
       "<text text-anchor=\"middle\" x=\"2486\" y=\"-230.8\" font-family=\"Helvetica,sans-Serif\" font-size=\"14.00\" fill=\"#000000\">class = excellent</text>\n",
       "</g>\n",
       "<!-- 33&#45;&gt;34 -->\n",
       "<g id=\"edge34\" class=\"edge\">\n",
       "<title>33&#45;&gt;34</title>\n",
       "<path fill=\"none\" stroke=\"#000000\" d=\"M2531.5174,-341.8796C2526.4315,-333.2335 2521.0189,-324.0322 2515.7672,-315.1042\"/>\n",
       "<polygon fill=\"#000000\" stroke=\"#000000\" points=\"2518.6741,-313.1428 2510.5871,-306.2981 2512.6406,-316.692 2518.6741,-313.1428\"/>\n",
       "</g>\n",
       "<!-- 41 -->\n",
       "<g id=\"node42\" class=\"node\">\n",
       "<title>41</title>\n",
       "<path fill=\"#e58139\" fill-opacity=\"0.388235\" stroke=\"#000000\" d=\"M2763.5,-306C2763.5,-306 2662.5,-306 2662.5,-306 2656.5,-306 2650.5,-300 2650.5,-294 2650.5,-294 2650.5,-235 2650.5,-235 2650.5,-229 2656.5,-223 2662.5,-223 2662.5,-223 2763.5,-223 2763.5,-223 2769.5,-223 2775.5,-229 2775.5,-235 2775.5,-235 2775.5,-294 2775.5,-294 2775.5,-300 2769.5,-306 2763.5,-306\"/>\n",
       "<text text-anchor=\"middle\" x=\"2713\" y=\"-290.8\" font-family=\"Helvetica,sans-Serif\" font-size=\"14.00\" fill=\"#000000\">genres &lt;= 1.391</text>\n",
       "<text text-anchor=\"middle\" x=\"2713\" y=\"-275.8\" font-family=\"Helvetica,sans-Serif\" font-size=\"14.00\" fill=\"#000000\">gini = 0.471</text>\n",
       "<text text-anchor=\"middle\" x=\"2713\" y=\"-260.8\" font-family=\"Helvetica,sans-Serif\" font-size=\"14.00\" fill=\"#000000\">samples = 501</text>\n",
       "<text text-anchor=\"middle\" x=\"2713\" y=\"-245.8\" font-family=\"Helvetica,sans-Serif\" font-size=\"14.00\" fill=\"#000000\">value = [311, 190]</text>\n",
       "<text text-anchor=\"middle\" x=\"2713\" y=\"-230.8\" font-family=\"Helvetica,sans-Serif\" font-size=\"14.00\" fill=\"#000000\">class = fair</text>\n",
       "</g>\n",
       "<!-- 33&#45;&gt;41 -->\n",
       "<g id=\"edge41\" class=\"edge\">\n",
       "<title>33&#45;&gt;41</title>\n",
       "<path fill=\"none\" stroke=\"#000000\" d=\"M2610.911,-341.8796C2623.5794,-332.2774 2637.1515,-321.9903 2650.1295,-312.1534\"/>\n",
       "<polygon fill=\"#000000\" stroke=\"#000000\" points=\"2652.2648,-314.9268 2658.12,-306.0969 2648.0364,-309.3482 2652.2648,-314.9268\"/>\n",
       "</g>\n",
       "<!-- 35 -->\n",
       "<g id=\"node36\" class=\"node\">\n",
       "<title>35</title>\n",
       "<path fill=\"#399de5\" fill-opacity=\"0.752941\" stroke=\"#000000\" d=\"M2343,-187C2343,-187 2207,-187 2207,-187 2201,-187 2195,-181 2195,-175 2195,-175 2195,-116 2195,-116 2195,-110 2201,-104 2207,-104 2207,-104 2343,-104 2343,-104 2349,-104 2355,-110 2355,-116 2355,-116 2355,-175 2355,-175 2355,-181 2349,-187 2343,-187\"/>\n",
       "<text text-anchor=\"middle\" x=\"2275\" y=\"-171.8\" font-family=\"Helvetica,sans-Serif\" font-size=\"14.00\" fill=\"#000000\">content_rating &lt;= 1.601</text>\n",
       "<text text-anchor=\"middle\" x=\"2275\" y=\"-156.8\" font-family=\"Helvetica,sans-Serif\" font-size=\"14.00\" fill=\"#000000\">gini = 0.317</text>\n",
       "<text text-anchor=\"middle\" x=\"2275\" y=\"-141.8\" font-family=\"Helvetica,sans-Serif\" font-size=\"14.00\" fill=\"#000000\">samples = 81</text>\n",
       "<text text-anchor=\"middle\" x=\"2275\" y=\"-126.8\" font-family=\"Helvetica,sans-Serif\" font-size=\"14.00\" fill=\"#000000\">value = [16, 65]</text>\n",
       "<text text-anchor=\"middle\" x=\"2275\" y=\"-111.8\" font-family=\"Helvetica,sans-Serif\" font-size=\"14.00\" fill=\"#000000\">class = excellent</text>\n",
       "</g>\n",
       "<!-- 34&#45;&gt;35 -->\n",
       "<g id=\"edge35\" class=\"edge\">\n",
       "<title>34&#45;&gt;35</title>\n",
       "<path fill=\"none\" stroke=\"#000000\" d=\"M2412.2024,-222.8796C2394.5342,-212.915 2375.5582,-202.2129 2357.5237,-192.0418\"/>\n",
       "<polygon fill=\"#000000\" stroke=\"#000000\" points=\"2359.1855,-188.9608 2348.7559,-187.0969 2355.7468,-195.058 2359.1855,-188.9608\"/>\n",
       "</g>\n",
       "<!-- 38 -->\n",
       "<g id=\"node39\" class=\"node\">\n",
       "<title>38</title>\n",
       "<path fill=\"#e58139\" fill-opacity=\"0.572549\" stroke=\"#000000\" d=\"M2559,-187C2559,-187 2413,-187 2413,-187 2407,-187 2401,-181 2401,-175 2401,-175 2401,-116 2401,-116 2401,-110 2407,-104 2413,-104 2413,-104 2559,-104 2559,-104 2565,-104 2571,-110 2571,-116 2571,-116 2571,-175 2571,-175 2571,-181 2565,-187 2559,-187\"/>\n",
       "<text text-anchor=\"middle\" x=\"2486\" y=\"-171.8\" font-family=\"Helvetica,sans-Serif\" font-size=\"14.00\" fill=\"#000000\">android_version &lt;= 2.964</text>\n",
       "<text text-anchor=\"middle\" x=\"2486\" y=\"-156.8\" font-family=\"Helvetica,sans-Serif\" font-size=\"14.00\" fill=\"#000000\">gini = 0.42</text>\n",
       "<text text-anchor=\"middle\" x=\"2486\" y=\"-141.8\" font-family=\"Helvetica,sans-Serif\" font-size=\"14.00\" fill=\"#000000\">samples = 10</text>\n",
       "<text text-anchor=\"middle\" x=\"2486\" y=\"-126.8\" font-family=\"Helvetica,sans-Serif\" font-size=\"14.00\" fill=\"#000000\">value = [7, 3]</text>\n",
       "<text text-anchor=\"middle\" x=\"2486\" y=\"-111.8\" font-family=\"Helvetica,sans-Serif\" font-size=\"14.00\" fill=\"#000000\">class = fair</text>\n",
       "</g>\n",
       "<!-- 34&#45;&gt;38 -->\n",
       "<g id=\"edge38\" class=\"edge\">\n",
       "<title>34&#45;&gt;38</title>\n",
       "<path fill=\"none\" stroke=\"#000000\" d=\"M2486,-222.8796C2486,-214.6838 2486,-205.9891 2486,-197.5013\"/>\n",
       "<polygon fill=\"#000000\" stroke=\"#000000\" points=\"2489.5001,-197.298 2486,-187.2981 2482.5001,-197.2981 2489.5001,-197.298\"/>\n",
       "</g>\n",
       "<!-- 36 -->\n",
       "<g id=\"node37\" class=\"node\">\n",
       "<title>36</title>\n",
       "<path fill=\"#399de5\" fill-opacity=\"0.882353\" stroke=\"#000000\" d=\"M2196,-68C2196,-68 2104,-68 2104,-68 2098,-68 2092,-62 2092,-56 2092,-56 2092,-12 2092,-12 2092,-6 2098,0 2104,0 2104,0 2196,0 2196,0 2202,0 2208,-6 2208,-12 2208,-12 2208,-56 2208,-56 2208,-62 2202,-68 2196,-68\"/>\n",
       "<text text-anchor=\"middle\" x=\"2150\" y=\"-52.8\" font-family=\"Helvetica,sans-Serif\" font-size=\"14.00\" fill=\"#000000\">gini = 0.19</text>\n",
       "<text text-anchor=\"middle\" x=\"2150\" y=\"-37.8\" font-family=\"Helvetica,sans-Serif\" font-size=\"14.00\" fill=\"#000000\">samples = 66</text>\n",
       "<text text-anchor=\"middle\" x=\"2150\" y=\"-22.8\" font-family=\"Helvetica,sans-Serif\" font-size=\"14.00\" fill=\"#000000\">value = [7, 59]</text>\n",
       "<text text-anchor=\"middle\" x=\"2150\" y=\"-7.8\" font-family=\"Helvetica,sans-Serif\" font-size=\"14.00\" fill=\"#000000\">class = excellent</text>\n",
       "</g>\n",
       "<!-- 35&#45;&gt;36 -->\n",
       "<g id=\"edge36\" class=\"edge\">\n",
       "<title>35&#45;&gt;36</title>\n",
       "<path fill=\"none\" stroke=\"#000000\" d=\"M2228.4546,-103.9815C2217.8421,-94.5151 2206.5718,-84.462 2195.9829,-75.0168\"/>\n",
       "<polygon fill=\"#000000\" stroke=\"#000000\" points=\"2198.2046,-72.3084 2188.4122,-68.2637 2193.5449,-77.5322 2198.2046,-72.3084\"/>\n",
       "</g>\n",
       "<!-- 37 -->\n",
       "<g id=\"node38\" class=\"node\">\n",
       "<title>37</title>\n",
       "<path fill=\"#e58139\" fill-opacity=\"0.333333\" stroke=\"#000000\" d=\"M2312,-68C2312,-68 2238,-68 2238,-68 2232,-68 2226,-62 2226,-56 2226,-56 2226,-12 2226,-12 2226,-6 2232,0 2238,0 2238,0 2312,0 2312,0 2318,0 2324,-6 2324,-12 2324,-12 2324,-56 2324,-56 2324,-62 2318,-68 2312,-68\"/>\n",
       "<text text-anchor=\"middle\" x=\"2275\" y=\"-52.8\" font-family=\"Helvetica,sans-Serif\" font-size=\"14.00\" fill=\"#000000\">gini = 0.48</text>\n",
       "<text text-anchor=\"middle\" x=\"2275\" y=\"-37.8\" font-family=\"Helvetica,sans-Serif\" font-size=\"14.00\" fill=\"#000000\">samples = 15</text>\n",
       "<text text-anchor=\"middle\" x=\"2275\" y=\"-22.8\" font-family=\"Helvetica,sans-Serif\" font-size=\"14.00\" fill=\"#000000\">value = [9, 6]</text>\n",
       "<text text-anchor=\"middle\" x=\"2275\" y=\"-7.8\" font-family=\"Helvetica,sans-Serif\" font-size=\"14.00\" fill=\"#000000\">class = fair</text>\n",
       "</g>\n",
       "<!-- 35&#45;&gt;37 -->\n",
       "<g id=\"edge37\" class=\"edge\">\n",
       "<title>35&#45;&gt;37</title>\n",
       "<path fill=\"none\" stroke=\"#000000\" d=\"M2275,-103.9815C2275,-95.618 2275,-86.7965 2275,-78.3409\"/>\n",
       "<polygon fill=\"#000000\" stroke=\"#000000\" points=\"2278.5001,-78.2636 2275,-68.2637 2271.5001,-78.2637 2278.5001,-78.2636\"/>\n",
       "</g>\n",
       "<!-- 39 -->\n",
       "<g id=\"node40\" class=\"node\">\n",
       "<title>39</title>\n",
       "<path fill=\"#e58139\" fill-opacity=\"0.713725\" stroke=\"#000000\" d=\"M2425.5,-68C2425.5,-68 2354.5,-68 2354.5,-68 2348.5,-68 2342.5,-62 2342.5,-56 2342.5,-56 2342.5,-12 2342.5,-12 2342.5,-6 2348.5,0 2354.5,0 2354.5,0 2425.5,0 2425.5,0 2431.5,0 2437.5,-6 2437.5,-12 2437.5,-12 2437.5,-56 2437.5,-56 2437.5,-62 2431.5,-68 2425.5,-68\"/>\n",
       "<text text-anchor=\"middle\" x=\"2390\" y=\"-52.8\" font-family=\"Helvetica,sans-Serif\" font-size=\"14.00\" fill=\"#000000\">gini = 0.346</text>\n",
       "<text text-anchor=\"middle\" x=\"2390\" y=\"-37.8\" font-family=\"Helvetica,sans-Serif\" font-size=\"14.00\" fill=\"#000000\">samples = 9</text>\n",
       "<text text-anchor=\"middle\" x=\"2390\" y=\"-22.8\" font-family=\"Helvetica,sans-Serif\" font-size=\"14.00\" fill=\"#000000\">value = [7, 2]</text>\n",
       "<text text-anchor=\"middle\" x=\"2390\" y=\"-7.8\" font-family=\"Helvetica,sans-Serif\" font-size=\"14.00\" fill=\"#000000\">class = fair</text>\n",
       "</g>\n",
       "<!-- 38&#45;&gt;39 -->\n",
       "<g id=\"edge39\" class=\"edge\">\n",
       "<title>38&#45;&gt;39</title>\n",
       "<path fill=\"none\" stroke=\"#000000\" d=\"M2450.2531,-103.9815C2442.3401,-94.7908 2433.9509,-85.0472 2426.0268,-75.8436\"/>\n",
       "<polygon fill=\"#000000\" stroke=\"#000000\" points=\"2428.6776,-73.5582 2419.5006,-68.2637 2423.3729,-78.1255 2428.6776,-73.5582\"/>\n",
       "</g>\n",
       "<!-- 40 -->\n",
       "<g id=\"node41\" class=\"node\">\n",
       "<title>40</title>\n",
       "<path fill=\"#399de5\" stroke=\"#000000\" d=\"M2560,-68C2560,-68 2468,-68 2468,-68 2462,-68 2456,-62 2456,-56 2456,-56 2456,-12 2456,-12 2456,-6 2462,0 2468,0 2468,0 2560,0 2560,0 2566,0 2572,-6 2572,-12 2572,-12 2572,-56 2572,-56 2572,-62 2566,-68 2560,-68\"/>\n",
       "<text text-anchor=\"middle\" x=\"2514\" y=\"-52.8\" font-family=\"Helvetica,sans-Serif\" font-size=\"14.00\" fill=\"#000000\">gini = 0.0</text>\n",
       "<text text-anchor=\"middle\" x=\"2514\" y=\"-37.8\" font-family=\"Helvetica,sans-Serif\" font-size=\"14.00\" fill=\"#000000\">samples = 1</text>\n",
       "<text text-anchor=\"middle\" x=\"2514\" y=\"-22.8\" font-family=\"Helvetica,sans-Serif\" font-size=\"14.00\" fill=\"#000000\">value = [0, 1]</text>\n",
       "<text text-anchor=\"middle\" x=\"2514\" y=\"-7.8\" font-family=\"Helvetica,sans-Serif\" font-size=\"14.00\" fill=\"#000000\">class = excellent</text>\n",
       "</g>\n",
       "<!-- 38&#45;&gt;40 -->\n",
       "<g id=\"edge40\" class=\"edge\">\n",
       "<title>38&#45;&gt;40</title>\n",
       "<path fill=\"none\" stroke=\"#000000\" d=\"M2496.4262,-103.9815C2498.5495,-95.5261 2500.7904,-86.6026 2502.935,-78.0623\"/>\n",
       "<polygon fill=\"#000000\" stroke=\"#000000\" points=\"2506.3546,-78.815 2505.3957,-68.2637 2499.5654,-77.1101 2506.3546,-78.815\"/>\n",
       "</g>\n",
       "<!-- 42 -->\n",
       "<g id=\"node43\" class=\"node\">\n",
       "<title>42</title>\n",
       "<path fill=\"#e58139\" fill-opacity=\"0.415686\" stroke=\"#000000\" d=\"M2763.5,-187C2763.5,-187 2662.5,-187 2662.5,-187 2656.5,-187 2650.5,-181 2650.5,-175 2650.5,-175 2650.5,-116 2650.5,-116 2650.5,-110 2656.5,-104 2662.5,-104 2662.5,-104 2763.5,-104 2763.5,-104 2769.5,-104 2775.5,-110 2775.5,-116 2775.5,-116 2775.5,-175 2775.5,-175 2775.5,-181 2769.5,-187 2763.5,-187\"/>\n",
       "<text text-anchor=\"middle\" x=\"2713\" y=\"-171.8\" font-family=\"Helvetica,sans-Serif\" font-size=\"14.00\" fill=\"#000000\">size &lt;= &#45;0.915</text>\n",
       "<text text-anchor=\"middle\" x=\"2713\" y=\"-156.8\" font-family=\"Helvetica,sans-Serif\" font-size=\"14.00\" fill=\"#000000\">gini = 0.466</text>\n",
       "<text text-anchor=\"middle\" x=\"2713\" y=\"-141.8\" font-family=\"Helvetica,sans-Serif\" font-size=\"14.00\" fill=\"#000000\">samples = 490</text>\n",
       "<text text-anchor=\"middle\" x=\"2713\" y=\"-126.8\" font-family=\"Helvetica,sans-Serif\" font-size=\"14.00\" fill=\"#000000\">value = [309, 181]</text>\n",
       "<text text-anchor=\"middle\" x=\"2713\" y=\"-111.8\" font-family=\"Helvetica,sans-Serif\" font-size=\"14.00\" fill=\"#000000\">class = fair</text>\n",
       "</g>\n",
       "<!-- 41&#45;&gt;42 -->\n",
       "<g id=\"edge42\" class=\"edge\">\n",
       "<title>41&#45;&gt;42</title>\n",
       "<path fill=\"none\" stroke=\"#000000\" d=\"M2713,-222.8796C2713,-214.6838 2713,-205.9891 2713,-197.5013\"/>\n",
       "<polygon fill=\"#000000\" stroke=\"#000000\" points=\"2716.5001,-197.298 2713,-187.2981 2709.5001,-197.2981 2716.5001,-197.298\"/>\n",
       "</g>\n",
       "<!-- 45 -->\n",
       "<g id=\"node46\" class=\"node\">\n",
       "<title>45</title>\n",
       "<path fill=\"#399de5\" fill-opacity=\"0.776471\" stroke=\"#000000\" d=\"M2958,-187C2958,-187 2866,-187 2866,-187 2860,-187 2854,-181 2854,-175 2854,-175 2854,-116 2854,-116 2854,-110 2860,-104 2866,-104 2866,-104 2958,-104 2958,-104 2964,-104 2970,-110 2970,-116 2970,-116 2970,-175 2970,-175 2970,-181 2964,-187 2958,-187\"/>\n",
       "<text text-anchor=\"middle\" x=\"2912\" y=\"-171.8\" font-family=\"Helvetica,sans-Serif\" font-size=\"14.00\" fill=\"#000000\">genres &lt;= 1.571</text>\n",
       "<text text-anchor=\"middle\" x=\"2912\" y=\"-156.8\" font-family=\"Helvetica,sans-Serif\" font-size=\"14.00\" fill=\"#000000\">gini = 0.298</text>\n",
       "<text text-anchor=\"middle\" x=\"2912\" y=\"-141.8\" font-family=\"Helvetica,sans-Serif\" font-size=\"14.00\" fill=\"#000000\">samples = 11</text>\n",
       "<text text-anchor=\"middle\" x=\"2912\" y=\"-126.8\" font-family=\"Helvetica,sans-Serif\" font-size=\"14.00\" fill=\"#000000\">value = [2, 9]</text>\n",
       "<text text-anchor=\"middle\" x=\"2912\" y=\"-111.8\" font-family=\"Helvetica,sans-Serif\" font-size=\"14.00\" fill=\"#000000\">class = excellent</text>\n",
       "</g>\n",
       "<!-- 41&#45;&gt;45 -->\n",
       "<g id=\"edge45\" class=\"edge\">\n",
       "<title>41&#45;&gt;45</title>\n",
       "<path fill=\"none\" stroke=\"#000000\" d=\"M2775.6917,-227.011C2797.718,-213.8395 2822.5456,-198.9928 2844.9183,-185.6142\"/>\n",
       "<polygon fill=\"#000000\" stroke=\"#000000\" points=\"2846.8995,-188.5076 2853.6857,-180.3714 2843.3068,-182.4998 2846.8995,-188.5076\"/>\n",
       "</g>\n",
       "<!-- 43 -->\n",
       "<g id=\"node44\" class=\"node\">\n",
       "<title>43</title>\n",
       "<path fill=\"#e58139\" fill-opacity=\"0.905882\" stroke=\"#000000\" d=\"M2680,-68C2680,-68 2602,-68 2602,-68 2596,-68 2590,-62 2590,-56 2590,-56 2590,-12 2590,-12 2590,-6 2596,0 2602,0 2602,0 2680,0 2680,0 2686,0 2692,-6 2692,-12 2692,-12 2692,-56 2692,-56 2692,-62 2686,-68 2680,-68\"/>\n",
       "<text text-anchor=\"middle\" x=\"2641\" y=\"-52.8\" font-family=\"Helvetica,sans-Serif\" font-size=\"14.00\" fill=\"#000000\">gini = 0.159</text>\n",
       "<text text-anchor=\"middle\" x=\"2641\" y=\"-37.8\" font-family=\"Helvetica,sans-Serif\" font-size=\"14.00\" fill=\"#000000\">samples = 23</text>\n",
       "<text text-anchor=\"middle\" x=\"2641\" y=\"-22.8\" font-family=\"Helvetica,sans-Serif\" font-size=\"14.00\" fill=\"#000000\">value = [21, 2]</text>\n",
       "<text text-anchor=\"middle\" x=\"2641\" y=\"-7.8\" font-family=\"Helvetica,sans-Serif\" font-size=\"14.00\" fill=\"#000000\">class = fair</text>\n",
       "</g>\n",
       "<!-- 42&#45;&gt;43 -->\n",
       "<g id=\"edge43\" class=\"edge\">\n",
       "<title>42&#45;&gt;43</title>\n",
       "<path fill=\"none\" stroke=\"#000000\" d=\"M2686.1899,-103.9815C2680.4331,-95.0666 2674.3404,-85.6313 2668.5559,-76.6734\"/>\n",
       "<polygon fill=\"#000000\" stroke=\"#000000\" points=\"2671.4904,-74.7658 2663.1254,-68.2637 2665.6099,-78.5631 2671.4904,-74.7658\"/>\n",
       "</g>\n",
       "<!-- 44 -->\n",
       "<g id=\"node45\" class=\"node\">\n",
       "<title>44</title>\n",
       "<path fill=\"#e58139\" fill-opacity=\"0.380392\" stroke=\"#000000\" d=\"M2823.5,-68C2823.5,-68 2722.5,-68 2722.5,-68 2716.5,-68 2710.5,-62 2710.5,-56 2710.5,-56 2710.5,-12 2710.5,-12 2710.5,-6 2716.5,0 2722.5,0 2722.5,0 2823.5,0 2823.5,0 2829.5,0 2835.5,-6 2835.5,-12 2835.5,-12 2835.5,-56 2835.5,-56 2835.5,-62 2829.5,-68 2823.5,-68\"/>\n",
       "<text text-anchor=\"middle\" x=\"2773\" y=\"-52.8\" font-family=\"Helvetica,sans-Serif\" font-size=\"14.00\" fill=\"#000000\">gini = 0.473</text>\n",
       "<text text-anchor=\"middle\" x=\"2773\" y=\"-37.8\" font-family=\"Helvetica,sans-Serif\" font-size=\"14.00\" fill=\"#000000\">samples = 467</text>\n",
       "<text text-anchor=\"middle\" x=\"2773\" y=\"-22.8\" font-family=\"Helvetica,sans-Serif\" font-size=\"14.00\" fill=\"#000000\">value = [288, 179]</text>\n",
       "<text text-anchor=\"middle\" x=\"2773\" y=\"-7.8\" font-family=\"Helvetica,sans-Serif\" font-size=\"14.00\" fill=\"#000000\">class = fair</text>\n",
       "</g>\n",
       "<!-- 42&#45;&gt;44 -->\n",
       "<g id=\"edge44\" class=\"edge\">\n",
       "<title>42&#45;&gt;44</title>\n",
       "<path fill=\"none\" stroke=\"#000000\" d=\"M2735.3418,-103.9815C2740.0402,-95.2504 2745.0071,-86.0202 2749.7383,-77.2281\"/>\n",
       "<polygon fill=\"#000000\" stroke=\"#000000\" points=\"2752.9056,-78.7282 2754.5621,-68.2637 2746.7414,-75.4111 2752.9056,-78.7282\"/>\n",
       "</g>\n",
       "<!-- 46 -->\n",
       "<g id=\"node47\" class=\"node\">\n",
       "<title>46</title>\n",
       "<path fill=\"#399de5\" stroke=\"#000000\" d=\"M2958,-68C2958,-68 2866,-68 2866,-68 2860,-68 2854,-62 2854,-56 2854,-56 2854,-12 2854,-12 2854,-6 2860,0 2866,0 2866,0 2958,0 2958,0 2964,0 2970,-6 2970,-12 2970,-12 2970,-56 2970,-56 2970,-62 2964,-68 2958,-68\"/>\n",
       "<text text-anchor=\"middle\" x=\"2912\" y=\"-52.8\" font-family=\"Helvetica,sans-Serif\" font-size=\"14.00\" fill=\"#000000\">gini = 0.0</text>\n",
       "<text text-anchor=\"middle\" x=\"2912\" y=\"-37.8\" font-family=\"Helvetica,sans-Serif\" font-size=\"14.00\" fill=\"#000000\">samples = 7</text>\n",
       "<text text-anchor=\"middle\" x=\"2912\" y=\"-22.8\" font-family=\"Helvetica,sans-Serif\" font-size=\"14.00\" fill=\"#000000\">value = [0, 7]</text>\n",
       "<text text-anchor=\"middle\" x=\"2912\" y=\"-7.8\" font-family=\"Helvetica,sans-Serif\" font-size=\"14.00\" fill=\"#000000\">class = excellent</text>\n",
       "</g>\n",
       "<!-- 45&#45;&gt;46 -->\n",
       "<g id=\"edge46\" class=\"edge\">\n",
       "<title>45&#45;&gt;46</title>\n",
       "<path fill=\"none\" stroke=\"#000000\" d=\"M2912,-103.9815C2912,-95.618 2912,-86.7965 2912,-78.3409\"/>\n",
       "<polygon fill=\"#000000\" stroke=\"#000000\" points=\"2915.5001,-78.2636 2912,-68.2637 2908.5001,-78.2637 2915.5001,-78.2636\"/>\n",
       "</g>\n",
       "<!-- 47 -->\n",
       "<g id=\"node48\" class=\"node\">\n",
       "<title>47</title>\n",
       "<path fill=\"transparent\" stroke=\"#000000\" d=\"M3071.5,-68C3071.5,-68 3000.5,-68 3000.5,-68 2994.5,-68 2988.5,-62 2988.5,-56 2988.5,-56 2988.5,-12 2988.5,-12 2988.5,-6 2994.5,0 3000.5,0 3000.5,0 3071.5,0 3071.5,0 3077.5,0 3083.5,-6 3083.5,-12 3083.5,-12 3083.5,-56 3083.5,-56 3083.5,-62 3077.5,-68 3071.5,-68\"/>\n",
       "<text text-anchor=\"middle\" x=\"3036\" y=\"-52.8\" font-family=\"Helvetica,sans-Serif\" font-size=\"14.00\" fill=\"#000000\">gini = 0.5</text>\n",
       "<text text-anchor=\"middle\" x=\"3036\" y=\"-37.8\" font-family=\"Helvetica,sans-Serif\" font-size=\"14.00\" fill=\"#000000\">samples = 4</text>\n",
       "<text text-anchor=\"middle\" x=\"3036\" y=\"-22.8\" font-family=\"Helvetica,sans-Serif\" font-size=\"14.00\" fill=\"#000000\">value = [2, 2]</text>\n",
       "<text text-anchor=\"middle\" x=\"3036\" y=\"-7.8\" font-family=\"Helvetica,sans-Serif\" font-size=\"14.00\" fill=\"#000000\">class = fair</text>\n",
       "</g>\n",
       "<!-- 45&#45;&gt;47 -->\n",
       "<g id=\"edge47\" class=\"edge\">\n",
       "<title>45&#45;&gt;47</title>\n",
       "<path fill=\"none\" stroke=\"#000000\" d=\"M2958.173,-103.9815C2968.7007,-94.5151 2979.8808,-84.462 2990.3849,-75.0168\"/>\n",
       "<polygon fill=\"#000000\" stroke=\"#000000\" points=\"2992.7994,-77.5526 2997.8951,-68.2637 2988.1189,-72.3475 2992.7994,-77.5526\"/>\n",
       "</g>\n",
       "<!-- 49 -->\n",
       "<g id=\"node50\" class=\"node\">\n",
       "<title>49</title>\n",
       "<path fill=\"#399de5\" fill-opacity=\"0.043137\" stroke=\"#000000\" d=\"M3407.5,-306C3407.5,-306 3306.5,-306 3306.5,-306 3300.5,-306 3294.5,-300 3294.5,-294 3294.5,-294 3294.5,-235 3294.5,-235 3294.5,-229 3300.5,-223 3306.5,-223 3306.5,-223 3407.5,-223 3407.5,-223 3413.5,-223 3419.5,-229 3419.5,-235 3419.5,-235 3419.5,-294 3419.5,-294 3419.5,-300 3413.5,-306 3407.5,-306\"/>\n",
       "<text text-anchor=\"middle\" x=\"3357\" y=\"-290.8\" font-family=\"Helvetica,sans-Serif\" font-size=\"14.00\" fill=\"#000000\">genres &lt;= &#45;0.01</text>\n",
       "<text text-anchor=\"middle\" x=\"3357\" y=\"-275.8\" font-family=\"Helvetica,sans-Serif\" font-size=\"14.00\" fill=\"#000000\">gini = 0.5</text>\n",
       "<text text-anchor=\"middle\" x=\"3357\" y=\"-260.8\" font-family=\"Helvetica,sans-Serif\" font-size=\"14.00\" fill=\"#000000\">samples = 509</text>\n",
       "<text text-anchor=\"middle\" x=\"3357\" y=\"-245.8\" font-family=\"Helvetica,sans-Serif\" font-size=\"14.00\" fill=\"#000000\">value = [249, 260]</text>\n",
       "<text text-anchor=\"middle\" x=\"3357\" y=\"-230.8\" font-family=\"Helvetica,sans-Serif\" font-size=\"14.00\" fill=\"#000000\">class = excellent</text>\n",
       "</g>\n",
       "<!-- 48&#45;&gt;49 -->\n",
       "<g id=\"edge49\" class=\"edge\">\n",
       "<title>48&#45;&gt;49</title>\n",
       "<path fill=\"none\" stroke=\"#000000\" d=\"M3357,-341.8796C3357,-333.6838 3357,-324.9891 3357,-316.5013\"/>\n",
       "<polygon fill=\"#000000\" stroke=\"#000000\" points=\"3360.5001,-316.298 3357,-306.2981 3353.5001,-316.2981 3360.5001,-316.298\"/>\n",
       "</g>\n",
       "<!-- 56 -->\n",
       "<g id=\"node57\" class=\"node\">\n",
       "<title>56</title>\n",
       "<path fill=\"#399de5\" fill-opacity=\"0.349020\" stroke=\"#000000\" d=\"M3811,-306C3811,-306 3695,-306 3695,-306 3689,-306 3683,-300 3683,-294 3683,-294 3683,-235 3683,-235 3683,-229 3689,-223 3695,-223 3695,-223 3811,-223 3811,-223 3817,-223 3823,-229 3823,-235 3823,-235 3823,-294 3823,-294 3823,-300 3817,-306 3811,-306\"/>\n",
       "<text text-anchor=\"middle\" x=\"3753\" y=\"-290.8\" font-family=\"Helvetica,sans-Serif\" font-size=\"14.00\" fill=\"#000000\">genres &lt;= &#45;1.016</text>\n",
       "<text text-anchor=\"middle\" x=\"3753\" y=\"-275.8\" font-family=\"Helvetica,sans-Serif\" font-size=\"14.00\" fill=\"#000000\">gini = 0.478</text>\n",
       "<text text-anchor=\"middle\" x=\"3753\" y=\"-260.8\" font-family=\"Helvetica,sans-Serif\" font-size=\"14.00\" fill=\"#000000\">samples = 2537</text>\n",
       "<text text-anchor=\"middle\" x=\"3753\" y=\"-245.8\" font-family=\"Helvetica,sans-Serif\" font-size=\"14.00\" fill=\"#000000\">value = [1000, 1537]</text>\n",
       "<text text-anchor=\"middle\" x=\"3753\" y=\"-230.8\" font-family=\"Helvetica,sans-Serif\" font-size=\"14.00\" fill=\"#000000\">class = excellent</text>\n",
       "</g>\n",
       "<!-- 48&#45;&gt;56 -->\n",
       "<g id=\"edge56\" class=\"edge\">\n",
       "<title>48&#45;&gt;56</title>\n",
       "<path fill=\"none\" stroke=\"#000000\" d=\"M3444.8852,-357.09C3513.0484,-336.6067 3606.7406,-308.4517 3672.8618,-288.5819\"/>\n",
       "<polygon fill=\"#000000\" stroke=\"#000000\" points=\"3674.25,-291.8195 3682.8196,-285.5896 3672.2354,-285.1156 3674.25,-291.8195\"/>\n",
       "</g>\n",
       "<!-- 50 -->\n",
       "<g id=\"node51\" class=\"node\">\n",
       "<title>50</title>\n",
       "<path fill=\"#399de5\" fill-opacity=\"0.352941\" stroke=\"#000000\" d=\"M3333.5,-187C3333.5,-187 3240.5,-187 3240.5,-187 3234.5,-187 3228.5,-181 3228.5,-175 3228.5,-175 3228.5,-116 3228.5,-116 3228.5,-110 3234.5,-104 3240.5,-104 3240.5,-104 3333.5,-104 3333.5,-104 3339.5,-104 3345.5,-110 3345.5,-116 3345.5,-116 3345.5,-175 3345.5,-175 3345.5,-181 3339.5,-187 3333.5,-187\"/>\n",
       "<text text-anchor=\"middle\" x=\"3287\" y=\"-171.8\" font-family=\"Helvetica,sans-Serif\" font-size=\"14.00\" fill=\"#000000\">size &lt;= &#45;0.655</text>\n",
       "<text text-anchor=\"middle\" x=\"3287\" y=\"-156.8\" font-family=\"Helvetica,sans-Serif\" font-size=\"14.00\" fill=\"#000000\">gini = 0.477</text>\n",
       "<text text-anchor=\"middle\" x=\"3287\" y=\"-141.8\" font-family=\"Helvetica,sans-Serif\" font-size=\"14.00\" fill=\"#000000\">samples = 249</text>\n",
       "<text text-anchor=\"middle\" x=\"3287\" y=\"-126.8\" font-family=\"Helvetica,sans-Serif\" font-size=\"14.00\" fill=\"#000000\">value = [98, 151]</text>\n",
       "<text text-anchor=\"middle\" x=\"3287\" y=\"-111.8\" font-family=\"Helvetica,sans-Serif\" font-size=\"14.00\" fill=\"#000000\">class = excellent</text>\n",
       "</g>\n",
       "<!-- 49&#45;&gt;50 -->\n",
       "<g id=\"edge50\" class=\"edge\">\n",
       "<title>49&#45;&gt;50</title>\n",
       "<path fill=\"none\" stroke=\"#000000\" d=\"M3332.5174,-222.8796C3327.4315,-214.2335 3322.0189,-205.0322 3316.7672,-196.1042\"/>\n",
       "<polygon fill=\"#000000\" stroke=\"#000000\" points=\"3319.6741,-194.1428 3311.5871,-187.2981 3313.6406,-197.692 3319.6741,-194.1428\"/>\n",
       "</g>\n",
       "<!-- 53 -->\n",
       "<g id=\"node54\" class=\"node\">\n",
       "<title>53</title>\n",
       "<path fill=\"#e58139\" fill-opacity=\"0.278431\" stroke=\"#000000\" d=\"M3476.5,-187C3476.5,-187 3375.5,-187 3375.5,-187 3369.5,-187 3363.5,-181 3363.5,-175 3363.5,-175 3363.5,-116 3363.5,-116 3363.5,-110 3369.5,-104 3375.5,-104 3375.5,-104 3476.5,-104 3476.5,-104 3482.5,-104 3488.5,-110 3488.5,-116 3488.5,-116 3488.5,-175 3488.5,-175 3488.5,-181 3482.5,-187 3476.5,-187\"/>\n",
       "<text text-anchor=\"middle\" x=\"3426\" y=\"-171.8\" font-family=\"Helvetica,sans-Serif\" font-size=\"14.00\" fill=\"#000000\">genres &lt;= 1.212</text>\n",
       "<text text-anchor=\"middle\" x=\"3426\" y=\"-156.8\" font-family=\"Helvetica,sans-Serif\" font-size=\"14.00\" fill=\"#000000\">gini = 0.487</text>\n",
       "<text text-anchor=\"middle\" x=\"3426\" y=\"-141.8\" font-family=\"Helvetica,sans-Serif\" font-size=\"14.00\" fill=\"#000000\">samples = 260</text>\n",
       "<text text-anchor=\"middle\" x=\"3426\" y=\"-126.8\" font-family=\"Helvetica,sans-Serif\" font-size=\"14.00\" fill=\"#000000\">value = [151, 109]</text>\n",
       "<text text-anchor=\"middle\" x=\"3426\" y=\"-111.8\" font-family=\"Helvetica,sans-Serif\" font-size=\"14.00\" fill=\"#000000\">class = fair</text>\n",
       "</g>\n",
       "<!-- 49&#45;&gt;53 -->\n",
       "<g id=\"edge53\" class=\"edge\">\n",
       "<title>49&#45;&gt;53</title>\n",
       "<path fill=\"none\" stroke=\"#000000\" d=\"M3381.1329,-222.8796C3386.1461,-214.2335 3391.4813,-205.0322 3396.6581,-196.1042\"/>\n",
       "<polygon fill=\"#000000\" stroke=\"#000000\" points=\"3399.7758,-197.7047 3401.7641,-187.2981 3393.7202,-194.1934 3399.7758,-197.7047\"/>\n",
       "</g>\n",
       "<!-- 51 -->\n",
       "<g id=\"node52\" class=\"node\">\n",
       "<title>51</title>\n",
       "<path fill=\"#e58139\" fill-opacity=\"0.243137\" stroke=\"#000000\" d=\"M3200,-68C3200,-68 3114,-68 3114,-68 3108,-68 3102,-62 3102,-56 3102,-56 3102,-12 3102,-12 3102,-6 3108,0 3114,0 3114,0 3200,0 3200,0 3206,0 3212,-6 3212,-12 3212,-12 3212,-56 3212,-56 3212,-62 3206,-68 3200,-68\"/>\n",
       "<text text-anchor=\"middle\" x=\"3157\" y=\"-52.8\" font-family=\"Helvetica,sans-Serif\" font-size=\"14.00\" fill=\"#000000\">gini = 0.49</text>\n",
       "<text text-anchor=\"middle\" x=\"3157\" y=\"-37.8\" font-family=\"Helvetica,sans-Serif\" font-size=\"14.00\" fill=\"#000000\">samples = 65</text>\n",
       "<text text-anchor=\"middle\" x=\"3157\" y=\"-22.8\" font-family=\"Helvetica,sans-Serif\" font-size=\"14.00\" fill=\"#000000\">value = [37, 28]</text>\n",
       "<text text-anchor=\"middle\" x=\"3157\" y=\"-7.8\" font-family=\"Helvetica,sans-Serif\" font-size=\"14.00\" fill=\"#000000\">class = fair</text>\n",
       "</g>\n",
       "<!-- 50&#45;&gt;51 -->\n",
       "<g id=\"edge51\" class=\"edge\">\n",
       "<title>50&#45;&gt;51</title>\n",
       "<path fill=\"none\" stroke=\"#000000\" d=\"M3238.5928,-103.9815C3227.5558,-94.5151 3215.8347,-84.462 3204.8223,-75.0168\"/>\n",
       "<polygon fill=\"#000000\" stroke=\"#000000\" points=\"3206.8178,-72.1173 3196.9487,-68.2637 3202.2606,-77.4307 3206.8178,-72.1173\"/>\n",
       "</g>\n",
       "<!-- 52 -->\n",
       "<g id=\"node53\" class=\"node\">\n",
       "<title>52</title>\n",
       "<path fill=\"#399de5\" fill-opacity=\"0.505882\" stroke=\"#000000\" d=\"M3335.5,-68C3335.5,-68 3242.5,-68 3242.5,-68 3236.5,-68 3230.5,-62 3230.5,-56 3230.5,-56 3230.5,-12 3230.5,-12 3230.5,-6 3236.5,0 3242.5,0 3242.5,0 3335.5,0 3335.5,0 3341.5,0 3347.5,-6 3347.5,-12 3347.5,-12 3347.5,-56 3347.5,-56 3347.5,-62 3341.5,-68 3335.5,-68\"/>\n",
       "<text text-anchor=\"middle\" x=\"3289\" y=\"-52.8\" font-family=\"Helvetica,sans-Serif\" font-size=\"14.00\" fill=\"#000000\">gini = 0.443</text>\n",
       "<text text-anchor=\"middle\" x=\"3289\" y=\"-37.8\" font-family=\"Helvetica,sans-Serif\" font-size=\"14.00\" fill=\"#000000\">samples = 184</text>\n",
       "<text text-anchor=\"middle\" x=\"3289\" y=\"-22.8\" font-family=\"Helvetica,sans-Serif\" font-size=\"14.00\" fill=\"#000000\">value = [61, 123]</text>\n",
       "<text text-anchor=\"middle\" x=\"3289\" y=\"-7.8\" font-family=\"Helvetica,sans-Serif\" font-size=\"14.00\" fill=\"#000000\">class = excellent</text>\n",
       "</g>\n",
       "<!-- 50&#45;&gt;52 -->\n",
       "<g id=\"edge52\" class=\"edge\">\n",
       "<title>50&#45;&gt;52</title>\n",
       "<path fill=\"none\" stroke=\"#000000\" d=\"M3287.7447,-103.9815C3287.8947,-95.618 3288.053,-86.7965 3288.2046,-78.3409\"/>\n",
       "<polygon fill=\"#000000\" stroke=\"#000000\" points=\"3291.7054,-78.3249 3288.3854,-68.2637 3284.7065,-78.1993 3291.7054,-78.3249\"/>\n",
       "</g>\n",
       "<!-- 54 -->\n",
       "<g id=\"node55\" class=\"node\">\n",
       "<title>54</title>\n",
       "<path fill=\"#e58139\" fill-opacity=\"0.435294\" stroke=\"#000000\" d=\"M3470.5,-68C3470.5,-68 3377.5,-68 3377.5,-68 3371.5,-68 3365.5,-62 3365.5,-56 3365.5,-56 3365.5,-12 3365.5,-12 3365.5,-6 3371.5,0 3377.5,0 3377.5,0 3470.5,0 3470.5,0 3476.5,0 3482.5,-6 3482.5,-12 3482.5,-12 3482.5,-56 3482.5,-56 3482.5,-62 3476.5,-68 3470.5,-68\"/>\n",
       "<text text-anchor=\"middle\" x=\"3424\" y=\"-52.8\" font-family=\"Helvetica,sans-Serif\" font-size=\"14.00\" fill=\"#000000\">gini = 0.461</text>\n",
       "<text text-anchor=\"middle\" x=\"3424\" y=\"-37.8\" font-family=\"Helvetica,sans-Serif\" font-size=\"14.00\" fill=\"#000000\">samples = 205</text>\n",
       "<text text-anchor=\"middle\" x=\"3424\" y=\"-22.8\" font-family=\"Helvetica,sans-Serif\" font-size=\"14.00\" fill=\"#000000\">value = [131, 74]</text>\n",
       "<text text-anchor=\"middle\" x=\"3424\" y=\"-7.8\" font-family=\"Helvetica,sans-Serif\" font-size=\"14.00\" fill=\"#000000\">class = fair</text>\n",
       "</g>\n",
       "<!-- 53&#45;&gt;54 -->\n",
       "<g id=\"edge54\" class=\"edge\">\n",
       "<title>53&#45;&gt;54</title>\n",
       "<path fill=\"none\" stroke=\"#000000\" d=\"M3425.2553,-103.9815C3425.1053,-95.618 3424.947,-86.7965 3424.7954,-78.3409\"/>\n",
       "<polygon fill=\"#000000\" stroke=\"#000000\" points=\"3428.2935,-78.1993 3424.6146,-68.2637 3421.2946,-78.3249 3428.2935,-78.1993\"/>\n",
       "</g>\n",
       "<!-- 55 -->\n",
       "<g id=\"node56\" class=\"node\">\n",
       "<title>55</title>\n",
       "<path fill=\"#399de5\" fill-opacity=\"0.427451\" stroke=\"#000000\" d=\"M3605,-68C3605,-68 3513,-68 3513,-68 3507,-68 3501,-62 3501,-56 3501,-56 3501,-12 3501,-12 3501,-6 3507,0 3513,0 3513,0 3605,0 3605,0 3611,0 3617,-6 3617,-12 3617,-12 3617,-56 3617,-56 3617,-62 3611,-68 3605,-68\"/>\n",
       "<text text-anchor=\"middle\" x=\"3559\" y=\"-52.8\" font-family=\"Helvetica,sans-Serif\" font-size=\"14.00\" fill=\"#000000\">gini = 0.463</text>\n",
       "<text text-anchor=\"middle\" x=\"3559\" y=\"-37.8\" font-family=\"Helvetica,sans-Serif\" font-size=\"14.00\" fill=\"#000000\">samples = 55</text>\n",
       "<text text-anchor=\"middle\" x=\"3559\" y=\"-22.8\" font-family=\"Helvetica,sans-Serif\" font-size=\"14.00\" fill=\"#000000\">value = [20, 35]</text>\n",
       "<text text-anchor=\"middle\" x=\"3559\" y=\"-7.8\" font-family=\"Helvetica,sans-Serif\" font-size=\"14.00\" fill=\"#000000\">class = excellent</text>\n",
       "</g>\n",
       "<!-- 53&#45;&gt;55 -->\n",
       "<g id=\"edge55\" class=\"edge\">\n",
       "<title>53&#45;&gt;55</title>\n",
       "<path fill=\"none\" stroke=\"#000000\" d=\"M3475.5243,-103.9815C3486.9257,-94.4232 3499.0405,-84.2668 3510.4021,-74.7419\"/>\n",
       "<polygon fill=\"#000000\" stroke=\"#000000\" points=\"3512.7147,-77.3704 3518.1294,-68.2637 3508.2175,-72.006 3512.7147,-77.3704\"/>\n",
       "</g>\n",
       "<!-- 57 -->\n",
       "<g id=\"node58\" class=\"node\">\n",
       "<title>57</title>\n",
       "<path fill=\"#399de5\" fill-opacity=\"0.172549\" stroke=\"#000000\" d=\"M3821,-187C3821,-187 3685,-187 3685,-187 3679,-187 3673,-181 3673,-175 3673,-175 3673,-116 3673,-116 3673,-110 3679,-104 3685,-104 3685,-104 3821,-104 3821,-104 3827,-104 3833,-110 3833,-116 3833,-116 3833,-175 3833,-175 3833,-181 3827,-187 3821,-187\"/>\n",
       "<text text-anchor=\"middle\" x=\"3753\" y=\"-171.8\" font-family=\"Helvetica,sans-Serif\" font-size=\"14.00\" fill=\"#000000\">content_rating &lt;= 0.259</text>\n",
       "<text text-anchor=\"middle\" x=\"3753\" y=\"-156.8\" font-family=\"Helvetica,sans-Serif\" font-size=\"14.00\" fill=\"#000000\">gini = 0.495</text>\n",
       "<text text-anchor=\"middle\" x=\"3753\" y=\"-141.8\" font-family=\"Helvetica,sans-Serif\" font-size=\"14.00\" fill=\"#000000\">samples = 674</text>\n",
       "<text text-anchor=\"middle\" x=\"3753\" y=\"-126.8\" font-family=\"Helvetica,sans-Serif\" font-size=\"14.00\" fill=\"#000000\">value = [305, 369]</text>\n",
       "<text text-anchor=\"middle\" x=\"3753\" y=\"-111.8\" font-family=\"Helvetica,sans-Serif\" font-size=\"14.00\" fill=\"#000000\">class = excellent</text>\n",
       "</g>\n",
       "<!-- 56&#45;&gt;57 -->\n",
       "<g id=\"edge57\" class=\"edge\">\n",
       "<title>56&#45;&gt;57</title>\n",
       "<path fill=\"none\" stroke=\"#000000\" d=\"M3753,-222.8796C3753,-214.6838 3753,-205.9891 3753,-197.5013\"/>\n",
       "<polygon fill=\"#000000\" stroke=\"#000000\" points=\"3756.5001,-197.298 3753,-187.2981 3749.5001,-197.2981 3756.5001,-197.298\"/>\n",
       "</g>\n",
       "<!-- 60 -->\n",
       "<g id=\"node61\" class=\"node\">\n",
       "<title>60</title>\n",
       "<path fill=\"#399de5\" fill-opacity=\"0.403922\" stroke=\"#000000\" d=\"M4026,-187C4026,-187 3918,-187 3918,-187 3912,-187 3906,-181 3906,-175 3906,-175 3906,-116 3906,-116 3906,-110 3912,-104 3918,-104 3918,-104 4026,-104 4026,-104 4032,-104 4038,-110 4038,-116 4038,-116 4038,-175 4038,-175 4038,-181 4032,-187 4026,-187\"/>\n",
       "<text text-anchor=\"middle\" x=\"3972\" y=\"-171.8\" font-family=\"Helvetica,sans-Serif\" font-size=\"14.00\" fill=\"#000000\">category &lt;= &#45;0.331</text>\n",
       "<text text-anchor=\"middle\" x=\"3972\" y=\"-156.8\" font-family=\"Helvetica,sans-Serif\" font-size=\"14.00\" fill=\"#000000\">gini = 0.468</text>\n",
       "<text text-anchor=\"middle\" x=\"3972\" y=\"-141.8\" font-family=\"Helvetica,sans-Serif\" font-size=\"14.00\" fill=\"#000000\">samples = 1863</text>\n",
       "<text text-anchor=\"middle\" x=\"3972\" y=\"-126.8\" font-family=\"Helvetica,sans-Serif\" font-size=\"14.00\" fill=\"#000000\">value = [695, 1168]</text>\n",
       "<text text-anchor=\"middle\" x=\"3972\" y=\"-111.8\" font-family=\"Helvetica,sans-Serif\" font-size=\"14.00\" fill=\"#000000\">class = excellent</text>\n",
       "</g>\n",
       "<!-- 56&#45;&gt;60 -->\n",
       "<g id=\"edge60\" class=\"edge\">\n",
       "<title>56&#45;&gt;60</title>\n",
       "<path fill=\"none\" stroke=\"#000000\" d=\"M3823.1966,-226.3566C3846.7155,-213.577 3873.0234,-199.2818 3896.902,-186.3067\"/>\n",
       "<polygon fill=\"#000000\" stroke=\"#000000\" points=\"3898.8083,-189.2542 3905.9238,-181.4044 3895.4661,-183.1036 3898.8083,-189.2542\"/>\n",
       "</g>\n",
       "<!-- 58 -->\n",
       "<g id=\"node59\" class=\"node\">\n",
       "<title>58</title>\n",
       "<path fill=\"#399de5\" fill-opacity=\"0.345098\" stroke=\"#000000\" d=\"M3748.5,-68C3748.5,-68 3647.5,-68 3647.5,-68 3641.5,-68 3635.5,-62 3635.5,-56 3635.5,-56 3635.5,-12 3635.5,-12 3635.5,-6 3641.5,0 3647.5,0 3647.5,0 3748.5,0 3748.5,0 3754.5,0 3760.5,-6 3760.5,-12 3760.5,-12 3760.5,-56 3760.5,-56 3760.5,-62 3754.5,-68 3748.5,-68\"/>\n",
       "<text text-anchor=\"middle\" x=\"3698\" y=\"-52.8\" font-family=\"Helvetica,sans-Serif\" font-size=\"14.00\" fill=\"#000000\">gini = 0.478</text>\n",
       "<text text-anchor=\"middle\" x=\"3698\" y=\"-37.8\" font-family=\"Helvetica,sans-Serif\" font-size=\"14.00\" fill=\"#000000\">samples = 475</text>\n",
       "<text text-anchor=\"middle\" x=\"3698\" y=\"-22.8\" font-family=\"Helvetica,sans-Serif\" font-size=\"14.00\" fill=\"#000000\">value = [188, 287]</text>\n",
       "<text text-anchor=\"middle\" x=\"3698\" y=\"-7.8\" font-family=\"Helvetica,sans-Serif\" font-size=\"14.00\" fill=\"#000000\">class = excellent</text>\n",
       "</g>\n",
       "<!-- 57&#45;&gt;58 -->\n",
       "<g id=\"edge58\" class=\"edge\">\n",
       "<title>57&#45;&gt;58</title>\n",
       "<path fill=\"none\" stroke=\"#000000\" d=\"M3732.52,-103.9815C3728.2585,-95.3423 3723.756,-86.2144 3719.4603,-77.5059\"/>\n",
       "<polygon fill=\"#000000\" stroke=\"#000000\" points=\"3722.4641,-75.6836 3714.9014,-68.2637 3716.1863,-78.7803 3722.4641,-75.6836\"/>\n",
       "</g>\n",
       "<!-- 59 -->\n",
       "<g id=\"node60\" class=\"node\">\n",
       "<title>59</title>\n",
       "<path fill=\"#e58139\" fill-opacity=\"0.298039\" stroke=\"#000000\" d=\"M3883.5,-68C3883.5,-68 3790.5,-68 3790.5,-68 3784.5,-68 3778.5,-62 3778.5,-56 3778.5,-56 3778.5,-12 3778.5,-12 3778.5,-6 3784.5,0 3790.5,0 3790.5,0 3883.5,0 3883.5,0 3889.5,0 3895.5,-6 3895.5,-12 3895.5,-12 3895.5,-56 3895.5,-56 3895.5,-62 3889.5,-68 3883.5,-68\"/>\n",
       "<text text-anchor=\"middle\" x=\"3837\" y=\"-52.8\" font-family=\"Helvetica,sans-Serif\" font-size=\"14.00\" fill=\"#000000\">gini = 0.485</text>\n",
       "<text text-anchor=\"middle\" x=\"3837\" y=\"-37.8\" font-family=\"Helvetica,sans-Serif\" font-size=\"14.00\" fill=\"#000000\">samples = 199</text>\n",
       "<text text-anchor=\"middle\" x=\"3837\" y=\"-22.8\" font-family=\"Helvetica,sans-Serif\" font-size=\"14.00\" fill=\"#000000\">value = [117, 82]</text>\n",
       "<text text-anchor=\"middle\" x=\"3837\" y=\"-7.8\" font-family=\"Helvetica,sans-Serif\" font-size=\"14.00\" fill=\"#000000\">class = fair</text>\n",
       "</g>\n",
       "<!-- 57&#45;&gt;59 -->\n",
       "<g id=\"edge59\" class=\"edge\">\n",
       "<title>57&#45;&gt;59</title>\n",
       "<path fill=\"none\" stroke=\"#000000\" d=\"M3784.2785,-103.9815C3791.0639,-94.9747 3798.2495,-85.4367 3805.0601,-76.3965\"/>\n",
       "<polygon fill=\"#000000\" stroke=\"#000000\" points=\"3807.9653,-78.3568 3811.187,-68.2637 3802.3743,-74.1448 3807.9653,-78.3568\"/>\n",
       "</g>\n",
       "<!-- 61 -->\n",
       "<g id=\"node62\" class=\"node\">\n",
       "<title>61</title>\n",
       "<path fill=\"#399de5\" fill-opacity=\"0.627451\" stroke=\"#000000\" d=\"M4018.5,-68C4018.5,-68 3925.5,-68 3925.5,-68 3919.5,-68 3913.5,-62 3913.5,-56 3913.5,-56 3913.5,-12 3913.5,-12 3913.5,-6 3919.5,0 3925.5,0 3925.5,0 4018.5,0 4018.5,0 4024.5,0 4030.5,-6 4030.5,-12 4030.5,-12 4030.5,-56 4030.5,-56 4030.5,-62 4024.5,-68 4018.5,-68\"/>\n",
       "<text text-anchor=\"middle\" x=\"3972\" y=\"-52.8\" font-family=\"Helvetica,sans-Serif\" font-size=\"14.00\" fill=\"#000000\">gini = 0.395</text>\n",
       "<text text-anchor=\"middle\" x=\"3972\" y=\"-37.8\" font-family=\"Helvetica,sans-Serif\" font-size=\"14.00\" fill=\"#000000\">samples = 247</text>\n",
       "<text text-anchor=\"middle\" x=\"3972\" y=\"-22.8\" font-family=\"Helvetica,sans-Serif\" font-size=\"14.00\" fill=\"#000000\">value = [67, 180]</text>\n",
       "<text text-anchor=\"middle\" x=\"3972\" y=\"-7.8\" font-family=\"Helvetica,sans-Serif\" font-size=\"14.00\" fill=\"#000000\">class = excellent</text>\n",
       "</g>\n",
       "<!-- 60&#45;&gt;61 -->\n",
       "<g id=\"edge61\" class=\"edge\">\n",
       "<title>60&#45;&gt;61</title>\n",
       "<path fill=\"none\" stroke=\"#000000\" d=\"M3972,-103.9815C3972,-95.618 3972,-86.7965 3972,-78.3409\"/>\n",
       "<polygon fill=\"#000000\" stroke=\"#000000\" points=\"3975.5001,-78.2636 3972,-68.2637 3968.5001,-78.2637 3975.5001,-78.2636\"/>\n",
       "</g>\n",
       "<!-- 62 -->\n",
       "<g id=\"node63\" class=\"node\">\n",
       "<title>62</title>\n",
       "<path fill=\"#399de5\" fill-opacity=\"0.364706\" stroke=\"#000000\" d=\"M4161.5,-68C4161.5,-68 4060.5,-68 4060.5,-68 4054.5,-68 4048.5,-62 4048.5,-56 4048.5,-56 4048.5,-12 4048.5,-12 4048.5,-6 4054.5,0 4060.5,0 4060.5,0 4161.5,0 4161.5,0 4167.5,0 4173.5,-6 4173.5,-12 4173.5,-12 4173.5,-56 4173.5,-56 4173.5,-62 4167.5,-68 4161.5,-68\"/>\n",
       "<text text-anchor=\"middle\" x=\"4111\" y=\"-52.8\" font-family=\"Helvetica,sans-Serif\" font-size=\"14.00\" fill=\"#000000\">gini = 0.475</text>\n",
       "<text text-anchor=\"middle\" x=\"4111\" y=\"-37.8\" font-family=\"Helvetica,sans-Serif\" font-size=\"14.00\" fill=\"#000000\">samples = 1616</text>\n",
       "<text text-anchor=\"middle\" x=\"4111\" y=\"-22.8\" font-family=\"Helvetica,sans-Serif\" font-size=\"14.00\" fill=\"#000000\">value = [628, 988]</text>\n",
       "<text text-anchor=\"middle\" x=\"4111\" y=\"-7.8\" font-family=\"Helvetica,sans-Serif\" font-size=\"14.00\" fill=\"#000000\">class = excellent</text>\n",
       "</g>\n",
       "<!-- 60&#45;&gt;62 -->\n",
       "<g id=\"edge62\" class=\"edge\">\n",
       "<title>60&#45;&gt;62</title>\n",
       "<path fill=\"none\" stroke=\"#000000\" d=\"M4023.7585,-103.9815C4035.6742,-94.4232 4048.3356,-84.2668 4060.2097,-74.7419\"/>\n",
       "<polygon fill=\"#000000\" stroke=\"#000000\" points=\"4062.6752,-77.2511 4068.2856,-68.2637 4058.2951,-71.7907 4062.6752,-77.2511\"/>\n",
       "</g>\n",
       "</g>\n",
       "</svg>\n"
      ],
      "text/plain": [
       "<graphviz.files.Source at 0x7f27b4e88320>"
      ]
     },
     "execution_count": 62,
     "metadata": {},
     "output_type": "execute_result"
    }
   ],
   "source": [
    "# Visualisation of the decision tree created by the algorithm, for fun and insight\n",
    "import graphviz\n",
    "from sklearn.tree import export_graphviz\n",
    "clf = Model(tree.DecisionTreeClassifier(max_depth = 5))\n",
    "clf.compute_scores((x_train, y_train), (x_test, y_test))\n",
    "clf.model.tree_.max_depth\n",
    "dot_data = export_graphviz(clf.model,\n",
    "                           out_file=None,\n",
    "                           feature_names=pre_features,\n",
    "                           class_names=['fair', 'excellent'],\n",
    "                           filled=True,\n",
    "                           rounded=True)\n",
    "graph = graphviz.Source(dot_data)\n",
    "graph"
   ]
  },
  {
   "cell_type": "markdown",
   "metadata": {},
   "source": [
    "# Neural network model"
   ]
  },
  {
   "cell_type": "code",
   "execution_count": 188,
   "metadata": {},
   "outputs": [
    {
     "name": "stdout",
     "output_type": "stream",
     "text": [
      "_________________________________________________________________\n",
      "Layer (type)                 Output Shape              Param #   \n",
      "=================================================================\n",
      "dense_85 (Dense)             (None, 512)               4608      \n",
      "_________________________________________________________________\n",
      "batch_normalization_14 (Batc (None, 512)               2048      \n",
      "_________________________________________________________________\n",
      "dropout_56 (Dropout)         (None, 512)               0         \n",
      "_________________________________________________________________\n",
      "dense_86 (Dense)             (None, 1024)              525312    \n",
      "_________________________________________________________________\n",
      "dropout_57 (Dropout)         (None, 1024)              0         \n",
      "_________________________________________________________________\n",
      "dense_87 (Dense)             (None, 512)               524800    \n",
      "_________________________________________________________________\n",
      "dropout_58 (Dropout)         (None, 512)               0         \n",
      "_________________________________________________________________\n",
      "dense_88 (Dense)             (None, 256)               131328    \n",
      "_________________________________________________________________\n",
      "dense_89 (Dense)             (None, 2)                 514       \n",
      "=================================================================\n",
      "Total params: 1,188,610\n",
      "Trainable params: 1,187,586\n",
      "Non-trainable params: 1,024\n",
      "_________________________________________________________________\n"
     ]
    }
   ],
   "source": [
    "import keras\n",
    "from keras import layers\n",
    "\n",
    "num_classes = 2\n",
    "input_shape = x_train.shape[1]\n",
    "model = keras.Sequential()\n",
    "model.add(layers.Dense(512, activation='relu', input_shape=(input_shape,)))\n",
    "model.add(layers.BatchNormalization())\n",
    "model.add(layers.Dropout(0.2))\n",
    "model.add(layers.Dense(1024, activation='relu'))\n",
    "# model.add(layers.BatchNormalization(input_shape=(input_shape,)))\n",
    "model.add(layers.Dropout(0.2))\n",
    "model.add(layers.Dense(512, activation = 'relu'))\n",
    "model.add(layers.Dropout(0.2))\n",
    "model.add(layers.Dense(256, activation = 'relu'))\n",
    "model.add(layers.Dense(num_classes, activation='softmax'))\n",
    "\n",
    "model.summary()"
   ]
  },
  {
   "cell_type": "code",
   "execution_count": 189,
   "metadata": {},
   "outputs": [],
   "source": [
    "model.compile(loss='categorical_crossentropy',\n",
    "            optimizer='rmsprop',\n",
    "            metrics=['accuracy'])"
   ]
  },
  {
   "cell_type": "code",
   "execution_count": 190,
   "metadata": {},
   "outputs": [
    {
     "name": "stdout",
     "output_type": "stream",
     "text": [
      "Epoch 1/20\n",
      "7844/7844 [==============================] - 3s 346us/step - loss: 1.3516 - acc: 0.5032\n",
      "Epoch 2/20\n",
      "7844/7844 [==============================] - 1s 107us/step - loss: 0.7105 - acc: 0.5105\n",
      "Epoch 3/20\n",
      "7844/7844 [==============================] - 1s 109us/step - loss: 0.7088 - acc: 0.5145\n",
      "Epoch 4/20\n",
      "7844/7844 [==============================] - 1s 111us/step - loss: 0.6944 - acc: 0.5310\n",
      "Epoch 5/20\n",
      "7844/7844 [==============================] - 1s 110us/step - loss: 0.6989 - acc: 0.5158\n",
      "Epoch 6/20\n",
      "7844/7844 [==============================] - 1s 110us/step - loss: 0.7008 - acc: 0.5162\n",
      "Epoch 7/20\n",
      "7844/7844 [==============================] - 1s 109us/step - loss: 0.7014 - acc: 0.5213\n",
      "Epoch 8/20\n",
      "7844/7844 [==============================] - 1s 110us/step - loss: 0.6948 - acc: 0.5287\n",
      "Epoch 9/20\n",
      "7844/7844 [==============================] - 1s 111us/step - loss: 0.6936 - acc: 0.5205\n",
      "Epoch 10/20\n",
      "7844/7844 [==============================] - 1s 111us/step - loss: 0.6966 - acc: 0.5255\n",
      "Epoch 11/20\n",
      "7844/7844 [==============================] - 1s 113us/step - loss: 0.6938 - acc: 0.5297\n",
      "Epoch 12/20\n",
      "7844/7844 [==============================] - 1s 116us/step - loss: 0.6915 - acc: 0.5331\n",
      "Epoch 13/20\n",
      "7844/7844 [==============================] - 1s 118us/step - loss: 0.6928 - acc: 0.5157\n",
      "Epoch 14/20\n",
      "7844/7844 [==============================] - 1s 117us/step - loss: 0.6879 - acc: 0.5340\n",
      "Epoch 15/20\n",
      "7844/7844 [==============================] - 1s 113us/step - loss: 0.6891 - acc: 0.5303\n",
      "Epoch 16/20\n",
      "7844/7844 [==============================] - 1s 123us/step - loss: 0.6895 - acc: 0.5335\n",
      "Epoch 17/20\n",
      "7844/7844 [==============================] - 1s 121us/step - loss: 0.6893 - acc: 0.5261\n",
      "Epoch 18/20\n",
      "7844/7844 [==============================] - 1s 113us/step - loss: 0.6936 - acc: 0.5252\n",
      "Epoch 19/20\n",
      "7844/7844 [==============================] - 1s 122us/step - loss: 0.6890 - acc: 0.5314\n",
      "Epoch 20/20\n",
      "7844/7844 [==============================] - 1s 115us/step - loss: 0.6881 - acc: 0.5254\n"
     ]
    }
   ],
   "source": [
    "from keras.utils import to_categorical\n",
    "no_epochs = 20\n",
    "batch_size = 1024\n",
    "history = model.fit(x_train, to_categorical(y_train), batch_size = batch_size, epochs = no_epochs )"
   ]
  },
  {
   "cell_type": "code",
   "execution_count": 171,
   "metadata": {},
   "outputs": [
    {
     "name": "stdout",
     "output_type": "stream",
     "text": [
      "1422/1422 [==============================] - 2s 2ms/step\n"
     ]
    },
    {
     "data": {
      "text/plain": [
       "[0.7050470376148841, 0.4592123771853923]"
      ]
     },
     "execution_count": 171,
     "metadata": {},
     "output_type": "execute_result"
    }
   ],
   "source": [
    "model.evaluate(x_test, to_categorical(y_test))"
   ]
  },
  {
   "cell_type": "code",
   "execution_count": 186,
   "metadata": {},
   "outputs": [
    {
     "data": {
      "image/png": "[encoded data removed]",
      "text/plain": [
       "<Figure size 432x288 with 1 Axes>"
      ]
     },
     "metadata": {
      "needs_background": "light"
     },
     "output_type": "display_data"
    }
   ],
   "source": [
    "df = pd.DataFrame({'epochs':history.epoch, 'loss': history.history['loss'], \n",
    "#                    'validation_loss': history.history['val_loss']\n",
    "                  })\n",
    "g = sns.pointplot(x=\"epochs\", y=\"loss\", data=df, fit_reg=False, color = 'yellow')\n",
    "# g = sns.pointplot(x=\"epochs\", y=\"validation_loss\", data=df, fit_reg=False, color='red')"
   ]
  },
  {
   "cell_type": "code",
   "execution_count": 172,
   "metadata": {},
   "outputs": [
    {
     "data": {
      "image/png": "[encoded data removed]",
      "text/plain": [
       "<Figure size 432x288 with 1 Axes>"
      ]
     },
     "metadata": {
      "needs_background": "light"
     },
     "output_type": "display_data"
    }
   ],
   "source": [
    "import seaborn as sns\n",
    "df = pd.DataFrame({'epochs':history.epoch, 'accuracy': history.history['acc']\n",
    "#                    , 'validation_accuracy': history.history['val_acc']\n",
    "                  })\n",
    "g = sns.pointplot(x=\"epochs\", y=\"accuracy\", data=df, fit_reg=False)\n",
    "# g = sns.pointplot(x=\"epochs\", y=\"validation_accuracy\", data=df, fit_reg=False, color='green')"
   ]
  }
 ],
 "metadata": {
  "kernelspec": {
   "display_name": "Python 3",
   "language": "python",
   "name": "python3"
  },
  "language_info": {
   "codemirror_mode": {
    "name": "ipython",
    "version": 3
   },
   "file_extension": ".py",
   "mimetype": "text/x-python",
   "name": "python",
   "nbconvert_exporter": "python",
   "pygments_lexer": "ipython3",
   "version": "3.6.8"
  }
 },
 "nbformat": 4,
 "nbformat_minor": 2
}
