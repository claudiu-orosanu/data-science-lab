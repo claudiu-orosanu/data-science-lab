{
 "cells": [
  {
   "cell_type": "markdown",
   "metadata": {},
   "source": [
    "# Android Data from PlayStore"
   ]
  },
  {
   "cell_type": "code",
   "execution_count": 1,
   "metadata": {},
   "outputs": [
    {
     "data": {
      "text/html": [
       "<style>.container { width:100% !important; }</style>"
      ],
      "text/plain": [
       "<IPython.core.display.HTML object>"
      ]
     },
     "metadata": {},
     "output_type": "display_data"
    }
   ],
   "source": [
    "%matplotlib inline\n",
    "%load_ext autoreload\n",
    "%autoreload 2\n",
    "\n",
    "from IPython.core.interactiveshell import InteractiveShell\n",
    "InteractiveShell.ast_node_interactivity = \"all\"\n",
    "\n",
    "from IPython.core.display import display, HTML\n",
    "display(HTML(\"<style>.container { width:100% !important; }</style>\"))"
   ]
  },
  {
   "cell_type": "code",
   "execution_count": 2,
   "metadata": {},
   "outputs": [],
   "source": [
    "import pandas as pd\n",
    "import numpy as np\n",
    "import matplotlib.pyplot as plt\n",
    "import seaborn as sns"
   ]
  },
  {
   "cell_type": "code",
   "execution_count": 3,
   "metadata": {},
   "outputs": [
    {
     "name": "stdout",
     "output_type": "stream",
     "text": [
      "The autoreload extension is already loaded. To reload it, use:\n",
      "  %reload_ext autoreload\n"
     ]
    },
    {
     "data": {
      "text/html": [
       "<style>.container { width:100% !important; }</style>"
      ],
      "text/plain": [
       "<IPython.core.display.HTML object>"
      ]
     },
     "metadata": {},
     "output_type": "display_data"
    },
    {
     "name": "stdout",
     "output_type": "stream",
     "text": [
      "<class 'pandas.core.frame.DataFrame'>\n",
      "RangeIndex: 10841 entries, 0 to 10840\n",
      "Data columns (total 13 columns):\n",
      "name               10841 non-null object\n",
      "category           10841 non-null object\n",
      "rating             9367 non-null float64\n",
      "reviews            10841 non-null object\n",
      "size               10841 non-null object\n",
      "installs           10841 non-null object\n",
      "type               10840 non-null object\n",
      "price              10841 non-null object\n",
      "content_rating     10840 non-null object\n",
      "genres             10841 non-null object\n",
      "last_updated       10841 non-null object\n",
      "version            10833 non-null object\n",
      "android_version    10838 non-null object\n",
      "dtypes: float64(1), object(12)\n",
      "memory usage: 1.1+ MB\n",
      "Number of duplicate entries : 1181\n",
      "Original values : ['Free' 'Paid' nan]\n",
      "Unique genres before preprocessing : 118\n",
      " Apps with more than one genre : 393 \n",
      "Unique genres : 48\n",
      "Oldest updated app : 2010\n",
      "Longest app name with 25 words : 591 housing transactions - renting houses, middle-class houses, new cases, real-time registration, villas through the sky, apartment suites, MRT, buying a house selling prices, housing mortgages\n",
      "Shortes app name with 1 words : REPUVE\n",
      "Ignore all the gibberish above ! Dataframe is loaded ! \n"
     ]
    }
   ],
   "source": [
    "# load data\n",
    "%run ./Preprocessing.ipynb\n",
    "df = get_data()\n",
    "orig_df = df.copy()"
   ]
  },
  {
   "cell_type": "markdown",
   "metadata": {},
   "source": [
    "# Science\n",
    "\n",
    "We transformed the problem in a classification one. Now rating can be *poor* (< 4) and *excellent* (>=4). \n",
    "\n",
    "We achieved the following : \n",
    "- 70% with RandomForest(n_estimators = 100)\n",
    "\n",
    "Notes : \n",
    "- RandomForest clearly tends to overfit. Reducing the complexity of the tree algorithm doesn't improve accuracy in cross validation by no means. \n",
    "    + this may mean that the model is too complex. reducing the number of features took into account can help\n",
    "**Next thing** : We should try adding or changing the features of data, and try more values for the hyperparameters of the algorithm"
   ]
  },
  {
   "cell_type": "code",
   "execution_count": 4,
   "metadata": {},
   "outputs": [],
   "source": [
    "df = orig_df.copy()"
   ]
  },
  {
   "cell_type": "code",
   "execution_count": 5,
   "metadata": {},
   "outputs": [
    {
     "data": {
      "text/plain": [
       "array(['category', 'rating', 'reviews', 'size', 'installs', 'type',\n",
       "       'price', 'content_rating', 'genres', 'version', 'android_version',\n",
       "       'price_rounded', 'last_updated_days', 'last_updated_year',\n",
       "       'last_updated_month', 'last_updated_day', 'last_updated_month_sin',\n",
       "       'last_updated_month_cos', 'name_wc'], dtype=object)"
      ]
     },
     "execution_count": 110,
     "metadata": {},
     "output_type": "execute_result"
    }
   ],
   "source": [
    "features = df.columns.values\n",
    "features"
   ]
  },
  {
   "cell_type": "code",
   "execution_count": 6,
   "metadata": {},
   "outputs": [],
   "source": [
    "pre_features = ['category', 'size', 'type', 'price', 'content_rating', 'genres', 'android_version', 'name_wc']\n",
    "post_features = [feature for feature in df.columns.values if feature not in pre_features]\n",
    "log_features = ['reviews', 'installs', 'name_wc', 'size', 'rating']\n",
    "cat_features = ['category', 'type', 'content_rating', 'genres']"
   ]
  },
  {
   "cell_type": "code",
   "execution_count": 112,
   "metadata": {},
   "outputs": [
    {
     "name": "stdout",
     "output_type": "stream",
     "text": [
      "Predictors are : ['category', 'size', 'android_version', 'type', 'price', 'genres', 'name_wc', 'content_rating']\n"
     ]
    }
   ],
   "source": [
    "use_categories = True\n",
    "if use_categories:\n",
    "    pre_features = list(set(pre_features + cat_features))\n",
    "    post_features = list(set(post_features + cat_features))\n",
    "else:\n",
    "    pre_features = [ft for ft in pre_features if ft not in cat_features]\n",
    "    post_features = [ft for ft in post_features if ft not in cat_features]\n",
    "print('Predictors are : %s' % pre_features)"
   ]
  },
  {
   "cell_type": "code",
   "execution_count": 113,
   "metadata": {},
   "outputs": [],
   "source": [
    "use_log = False\n",
    "if use_log:\n",
    "    df[log_features] = np.log(df[log_features])"
   ]
  },
  {
   "cell_type": "code",
   "execution_count": 114,
   "metadata": {},
   "outputs": [],
   "source": [
    "from scipy import stats\n",
    "# removing outliers based on InterQuartileRange first\n",
    "# zscore should be used only if data is in a normal distribution\n",
    "# @columns : list of columns to remove outliers from\n",
    "# when not given, remove outliers from all columns\n",
    "def remove_outliers(df, columns = None, use_zscore = False):\n",
    "    # cdf is df restricted to certain columns\n",
    "    if columns is None:\n",
    "        cdf = df\n",
    "    else:\n",
    "        cdf = df[columns]\n",
    "    if use_zscore:\n",
    "        z = np.abs(stats.zscore(cdf))\n",
    "        mask = (z>3)\n",
    "    else :\n",
    "        Q1 = cdf.quantile(0.25)\n",
    "        Q3 = cdf.quantile(0.75)\n",
    "        IQR = Q3 - Q1\n",
    "        mask = (cdf < (Q1 - 1.5 * IQR)) | (cdf > (Q3 + 1.5 * IQR))\n",
    "    df = df[~mask.any(axis = 1)]\n",
    "    return df"
   ]
  },
  {
   "cell_type": "code",
   "execution_count": 35,
   "metadata": {},
   "outputs": [
    {
     "data": {
      "text/plain": [
       "<matplotlib.axes._subplots.AxesSubplot at 0x7fc8a6f868d0>"
      ]
     },
     "execution_count": 8,
     "metadata": {},
     "output_type": "execute_result"
    },
    {
     "data": {
      "image/png": "[encoded data removed]",
      "text/plain": [
       "<Figure size 432x288 with 1 Axes>"
      ]
     },
     "metadata": {
      "needs_background": "light"
     },
     "output_type": "display_data"
    }
   ],
   "source": [
    "remove_outliers(df, columns = ['installs']).shape"
   ]
  },
  {
   "cell_type": "code",
   "execution_count": 9,
   "metadata": {},
   "outputs": [],
   "source": [
    "to_remove_outliers = True\n",
    "columns_outliers = ['installs']\n",
    "if to_remove_outliers:\n",
    "    df = remove_outliers(df, columns = columns_outliers)"
   ]
  },
  {
   "cell_type": "code",
   "execution_count": 10,
   "metadata": {},
   "outputs": [
    {
     "data": {
      "text/plain": [
       "count       7680.000000\n",
       "mean      236710.615495\n",
       "std       382814.364543\n",
       "min            0.000000\n",
       "25%         1000.000000\n",
       "50%        10000.000000\n",
       "75%       500000.000000\n",
       "max      1000000.000000\n",
       "Name: installs, dtype: float64"
      ]
     },
     "execution_count": 10,
     "metadata": {},
     "output_type": "execute_result"
    }
   ],
   "source": [
    "df['installs'].describe()"
   ]
  },
  {
   "cell_type": "code",
   "execution_count": 11,
   "metadata": {},
   "outputs": [],
   "source": [
    "Y = df['installs'].values\n",
    "X = df.drop(columns = ['installs'])\n",
    "X = X[pre_features].values"
   ]
  },
  {
   "cell_type": "code",
   "execution_count": 12,
   "metadata": {},
   "outputs": [
    {
     "data": {
      "text/plain": [
       "100000.0"
      ]
     },
     "execution_count": 132,
     "metadata": {},
     "output_type": "execute_result"
    }
   ],
   "source": [
    "np.percentile(Y,70)"
   ]
  },
  {
   "cell_type": "code",
   "execution_count": 133,
   "metadata": {},
   "outputs": [
    {
     "data": {
      "text/plain": [
       "[0, 100000.0, 1000000]"
      ]
     },
     "execution_count": 133,
     "metadata": {},
     "output_type": "execute_result"
    }
   ],
   "source": [
    "# split rating into two labels\n",
    "bins = [Y.min(), np.percentile(Y, 70), Y.max()]\n",
    "bins"
   ]
  },
  {
   "cell_type": "code",
   "execution_count": 13,
   "metadata": {},
   "outputs": [],
   "source": [
    "Y[Y < bins[1]] = 0\n",
    "Y[Y >= bins[1]] = 1"
   ]
  },
  {
   "cell_type": "code",
   "execution_count": 14,
   "metadata": {},
   "outputs": [
    {
     "data": {
      "text/plain": [
       "4646"
      ]
     },
     "execution_count": 14,
     "metadata": {},
     "output_type": "execute_result"
    },
    {
     "data": {
      "text/plain": [
       "3034"
      ]
     },
     "execution_count": 14,
     "metadata": {},
     "output_type": "execute_result"
    }
   ],
   "source": [
    "(Y == 0).sum()\n",
    "(Y == 1).sum()"
   ]
  },
  {
   "cell_type": "code",
   "execution_count": 15,
   "metadata": {},
   "outputs": [],
   "source": [
    "from sklearn.model_selection import train_test_split\n",
    "x_train, x_test, y_train, y_test = train_test_split(X, Y, test_size = 0.2, random_state = 42)"
   ]
  },
  {
   "cell_type": "code",
   "execution_count": 145,
   "metadata": {},
   "outputs": [
    {
     "data": {
      "text/plain": [
       "(6144, 8)"
      ]
     },
     "execution_count": 145,
     "metadata": {},
     "output_type": "execute_result"
    }
   ],
   "source": [
    "x_train.shape"
   ]
  },
  {
   "cell_type": "code",
   "execution_count": 156,
   "metadata": {},
   "outputs": [
    {
     "data": {
      "text/plain": [
       "SimpleImputer(copy=True, fill_value=None, missing_values=-1,\n",
       "       strategy='median', verbose=0)"
      ]
     },
     "execution_count": 156,
     "metadata": {},
     "output_type": "execute_result"
    }
   ],
   "source": [
    "# Impute missing values using the median so we will not treat them as outliers later\n",
    "from sklearn.impute import SimpleImputer\n",
    "imp = SimpleImputer(missing_values = -1, strategy='median')\n",
    "missing_features = ['android_version', 'size']\n",
    "idx = [ pre_features.index(column) for column in missing_features]\n",
    "imp.fit(x_train[:, idx])\n",
    "x_train[:, idx] = imp.transform(x_train[:, idx])\n",
    "x_test[:, idx] = imp.transform(x_test[:, idx])"
   ]
  },
  {
   "cell_type": "code",
   "execution_count": 165,
   "metadata": {},
   "outputs": [
    {
     "data": {
      "text/plain": [
       "array([1.00e-03, 1.41e+02, 1.00e+00, 0.00e+00, 0.00e+00, 1.00e-03,\n",
       "       1.00e+00, 0.00e+00])"
      ]
     },
     "execution_count": 165,
     "metadata": {},
     "output_type": "execute_result"
    }
   ],
   "source": [
    "np.percentile(x_train, 0.70, axis = 0)"
   ]
  },
  {
   "cell_type": "code",
   "execution_count": 326,
   "metadata": {},
   "outputs": [
    {
     "data": {
      "text/plain": [
       "Ridge(alpha=1.0, copy_X=True, fit_intercept=True, max_iter=None,\n",
       "   normalize=False, random_state=None, solver='auto', tol=0.001)"
      ]
     },
     "execution_count": 16,
     "metadata": {},
     "output_type": "execute_result"
    },
    {
     "data": {
      "text/plain": [
       "0.0676869729077868"
      ]
     },
     "execution_count": 16,
     "metadata": {},
     "output_type": "execute_result"
    },
    {
     "data": {
      "text/plain": [
       "<matplotlib.axes._subplots.AxesSubplot at 0x7fc8a7152400>"
      ]
     },
     "execution_count": 16,
     "metadata": {},
     "output_type": "execute_result"
    },
    {
     "data": {
      "image/png": "[encoded data removed]",
      "text/plain": [
       "<Figure size 432x288 with 1 Axes>"
      ]
     },
     "metadata": {
      "needs_background": "light"
     },
     "output_type": "display_data"
    }
   ],
   "source": [
    "from sklearn.linear_model import Ridge\n",
    "reg = Ridge()\n",
    "reg.fit(x_train, y_train)\n",
    "reg.score(x_train, y_train)\n",
    "sns.regplot(y_train, reg.predict(x_train))"
   ]
  },
  {
   "cell_type": "code",
   "execution_count": 17,
   "metadata": {},
   "outputs": [
    {
     "data": {
      "text/plain": [
       "3650"
      ]
     },
     "execution_count": 17,
     "metadata": {},
     "output_type": "execute_result"
    },
    {
     "data": {
      "text/plain": [
       "3650"
      ]
     },
     "execution_count": 17,
     "metadata": {},
     "output_type": "execute_result"
    }
   ],
   "source": [
    "# the dataset is rather imbalanced, which will skew the results. So we reduce the number of big rating examples\n",
    "# we can also try upsampling the small rating examples\n",
    "from imblearn.under_sampling import RandomUnderSampler\n",
    "from imblearn.over_sampling import RandomOverSampler\n",
    "# from imblearn.usampler import TODO\n",
    "sampler = RandomOverSampler(random_state = 42)\n",
    "x_train, y_train = sampler.fit_resample(x_train,y_train)\n",
    "len(y_train[y_train==1])\n",
    "len(y_train[y_train==0])"
   ]
  },
  {
   "cell_type": "code",
   "execution_count": 18,
   "metadata": {},
   "outputs": [
    {
     "data": {
      "text/plain": [
       "StandardScaler(copy=True, with_mean=True, with_std=True)"
      ]
     },
     "execution_count": 18,
     "metadata": {},
     "output_type": "execute_result"
    }
   ],
   "source": [
    "from sklearn import preprocessing\n",
    "# scale data if needed. forests and trees don't need it. Others do. \n",
    "scale = True\n",
    "if scale:\n",
    "    scaler = preprocessing.StandardScaler()\n",
    "    scaler.fit(x_train)\n",
    "    x_train = scaler.transform(x_train)\n",
    "    x_test = scaler.transform(x_test)"
   ]
  },
  {
   "cell_type": "code",
   "execution_count": 19,
   "metadata": {},
   "outputs": [
    {
     "data": {
      "text/plain": [
       "[(0.9628527051514367,\n",
       "  DecisionTreeClassifier(class_weight=None, criterion='gini', max_depth=None,\n",
       "              max_features=None, max_leaf_nodes=None,\n",
       "              min_impurity_decrease=0, min_impurity_split=None,\n",
       "              min_samples_leaf=1, min_samples_split=2,\n",
       "              min_weight_fraction_leaf=0.0, presort=False, random_state=42,\n",
       "              splitter='best')),\n",
       " (0.9628527051514367,\n",
       "  RandomForestClassifier(bootstrap=True, class_weight=None, criterion='gini',\n",
       "              max_depth=None, max_features='auto', max_leaf_nodes=None,\n",
       "              min_impurity_decrease=0, min_impurity_split=None,\n",
       "              min_samples_leaf=1, min_samples_split=2,\n",
       "              min_weight_fraction_leaf=0.0, n_estimators=100, n_jobs=None,\n",
       "              oob_score=False, random_state=42, verbose=0, warm_start=False)),\n",
       " (0.8361377168004142,\n",
       "  KNeighborsClassifier(algorithm='auto', leaf_size=30, metric='minkowski',\n",
       "             metric_params=None, n_jobs=None, n_neighbors=2, p=2,\n",
       "             weights='uniform')),\n",
       " (0.693890758477867, SVC(C=1.0, cache_size=200, class_weight=None, coef0=0.0,\n",
       "    decision_function_shape='ovr', degree=3, gamma='auto_deprecated',\n",
       "    kernel='rbf', max_iter=-1, probability=False, random_state=42,\n",
       "    shrinking=True, tol=0.001, verbose=False))]"
      ]
     },
     "execution_count": 19,
     "metadata": {},
     "output_type": "execute_result"
    },
    {
     "data": {
      "text/plain": [
       "[(0.729296066252588,\n",
       "  RandomForestClassifier(bootstrap=True, class_weight=None, criterion='gini',\n",
       "              max_depth=None, max_features='auto', max_leaf_nodes=None,\n",
       "              min_impurity_decrease=0, min_impurity_split=None,\n",
       "              min_samples_leaf=1, min_samples_split=2,\n",
       "              min_weight_fraction_leaf=0.0, n_estimators=100, n_jobs=None,\n",
       "              oob_score=False, random_state=42, verbose=0, warm_start=False)),\n",
       " (0.7111801242236024,\n",
       "  KNeighborsClassifier(algorithm='auto', leaf_size=30, metric='minkowski',\n",
       "             metric_params=None, n_jobs=None, n_neighbors=2, p=2,\n",
       "             weights='uniform')),\n",
       " (0.6935817805383023,\n",
       "  DecisionTreeClassifier(class_weight=None, criterion='gini', max_depth=None,\n",
       "              max_features=None, max_leaf_nodes=None,\n",
       "              min_impurity_decrease=0, min_impurity_split=None,\n",
       "              min_samples_leaf=1, min_samples_split=2,\n",
       "              min_weight_fraction_leaf=0.0, presort=False, random_state=42,\n",
       "              splitter='best')),\n",
       " (0.6796066252587992, SVC(C=1.0, cache_size=200, class_weight=None, coef0=0.0,\n",
       "    decision_function_shape='ovr', degree=3, gamma='auto_deprecated',\n",
       "    kernel='rbf', max_iter=-1, probability=False, random_state=42,\n",
       "    shrinking=True, tol=0.001, verbose=False))]"
      ]
     },
     "execution_count": 19,
     "metadata": {},
     "output_type": "execute_result"
    },
    {
     "data": {
      "text/plain": [
       "[(0.729296066252588,\n",
       "  RandomForestClassifier(bootstrap=True, class_weight=None, criterion='gini',\n",
       "              max_depth=None, max_features='auto', max_leaf_nodes=None,\n",
       "              min_impurity_decrease=0, min_impurity_split=None,\n",
       "              min_samples_leaf=1, min_samples_split=2,\n",
       "              min_weight_fraction_leaf=0.0, n_estimators=100, n_jobs=None,\n",
       "              oob_score=False, random_state=42, verbose=0, warm_start=False)),\n",
       " (0.7111801242236024,\n",
       "  KNeighborsClassifier(algorithm='auto', leaf_size=30, metric='minkowski',\n",
       "             metric_params=None, n_jobs=None, n_neighbors=2, p=2,\n",
       "             weights='uniform')),\n",
       " (0.6935817805383023,\n",
       "  DecisionTreeClassifier(class_weight=None, criterion='gini', max_depth=None,\n",
       "              max_features=None, max_leaf_nodes=None,\n",
       "              min_impurity_decrease=0, min_impurity_split=None,\n",
       "              min_samples_leaf=1, min_samples_split=2,\n",
       "              min_weight_fraction_leaf=0.0, presort=False, random_state=42,\n",
       "              splitter='best')),\n",
       " (0.6796066252587992, SVC(C=1.0, cache_size=200, class_weight=None, coef0=0.0,\n",
       "    decision_function_shape='ovr', degree=3, gamma='auto_deprecated',\n",
       "    kernel='rbf', max_iter=-1, probability=False, random_state=42,\n",
       "    shrinking=True, tol=0.001, verbose=False))]"
      ]
     },
     "execution_count": 19,
     "metadata": {},
     "output_type": "execute_result"
    }
   ],
   "source": [
    "from sklearn import ensemble, tree, svm, neighbors\n",
    "from sklearn.model_selection import cross_val_score\n",
    "from model import Model, ModelsBenchmark\n",
    "\n",
    "models = [\n",
    "        svm.SVC(kernel = 'rbf', random_state=42),\n",
    "        tree.DecisionTreeClassifier( min_impurity_decrease = 0, min_samples_leaf = 1, random_state = 42),\n",
    "        ensemble.RandomForestClassifier(n_estimators=100, min_impurity_decrease=0, min_samples_leaf=1, random_state=42),\n",
    "        neighbors.KNeighborsClassifier(n_neighbors = 2)\n",
    "         ]\n",
    "bench = ModelsBenchmark(models);\n",
    "bench.fit(x_train, y_train);\n",
    "bench.score(x_train, y_train);\n",
    "bench.score(x_test, y_test);\n",
    "bench._scores"
   ]
  },
  {
   "cell_type": "code",
   "execution_count": 20,
   "metadata": {},
   "outputs": [
    {
     "data": {
      "text/plain": [
       "array([0.78060805, 0.7863599 , 0.83799342])"
      ]
     },
     "execution_count": 20,
     "metadata": {},
     "output_type": "execute_result"
    },
    {
     "data": {
      "text/plain": [
       "0.8016537916792803"
      ]
     },
     "execution_count": 20,
     "metadata": {},
     "output_type": "execute_result"
    },
    {
     "data": {
      "text/plain": [
       "RandomForestClassifier(bootstrap=True, class_weight=None, criterion='gini',\n",
       "            max_depth=None, max_features='auto', max_leaf_nodes=None,\n",
       "            min_impurity_decrease=0, min_impurity_split=None,\n",
       "            min_samples_leaf=1, min_samples_split=2,\n",
       "            min_weight_fraction_leaf=0.0, n_estimators=100, n_jobs=None,\n",
       "            oob_score=False, random_state=42, verbose=0, warm_start=False)"
      ]
     },
     "execution_count": 20,
     "metadata": {},
     "output_type": "execute_result"
    },
    {
     "data": {
      "text/plain": [
       "0.6884669479606188"
      ]
     },
     "execution_count": 20,
     "metadata": {},
     "output_type": "execute_result"
    }
   ],
   "source": [
    "# hyperparameters will be tuned agains the following score mean. \n",
    "# This is called cross-validation and is done to avoid overfitting the test data\n",
    "clf = ensemble.RandomForestClassifier(n_estimators=100, min_impurity_decrease=0, min_samples_leaf=1, random_state=42)\n",
    "scores = cross_val_score(clf, x_train, y_train, cv = 3)\n",
    "scores\n",
    "scores.mean()\n",
    "clf.fit(x_train,y_train)\n",
    "clf.score(x_test,y_test)"
   ]
  },
  {
   "cell_type": "markdown",
   "metadata": {},
   "source": [
    "# Evaluating models"
   ]
  },
  {
   "cell_type": "code",
   "execution_count": 21,
   "metadata": {},
   "outputs": [],
   "source": [
    "# reduce dimensionality to be able to plot data\n",
    "from sklearn.decomposition import PCA\n",
    "\n",
    "pca = PCA(n_components = 2, random_state = 42);\n",
    "    \n",
    "def reduce_dimensions(X, fit=False):\n",
    "    if fit:\n",
    "        pca.fit(X)\n",
    "    return pca.transform(X)\n"
   ]
  },
  {
   "cell_type": "code",
   "execution_count": 22,
   "metadata": {},
   "outputs": [
    {
     "data": {
      "text/plain": [
       "[(0.6884669479606188,\n",
       "  RandomForestClassifier(bootstrap=True, class_weight=None, criterion='gini',\n",
       "              max_depth=None, max_features='auto', max_leaf_nodes=None,\n",
       "              min_impurity_decrease=0, min_impurity_split=None,\n",
       "              min_samples_leaf=1, min_samples_split=2,\n",
       "              min_weight_fraction_leaf=0.0, n_estimators=100, n_jobs=None,\n",
       "              oob_score=False, random_state=42, verbose=0, warm_start=False)),\n",
       " (0.6610407876230661, SVC(C=1.0, cache_size=200, class_weight=None, coef0=0.0,\n",
       "    decision_function_shape='ovr', degree=3, gamma='auto_deprecated',\n",
       "    kernel='rbf', max_iter=-1, probability=False, random_state=42,\n",
       "    shrinking=True, tol=0.001, verbose=False)),\n",
       " (0.6526019690576652,\n",
       "  KNeighborsClassifier(algorithm='auto', leaf_size=30, metric='minkowski',\n",
       "             metric_params=None, n_jobs=None, n_neighbors=2, p=2,\n",
       "             weights='uniform')),\n",
       " (0.6462728551336147,\n",
       "  DecisionTreeClassifier(class_weight=None, criterion='gini', max_depth=None,\n",
       "              max_features=None, max_leaf_nodes=None,\n",
       "              min_impurity_decrease=0, min_impurity_split=None,\n",
       "              min_samples_leaf=1, min_samples_split=2,\n",
       "              min_weight_fraction_leaf=0.0, presort=False, random_state=42,\n",
       "              splitter='best'))]"
      ]
     },
     "execution_count": 22,
     "metadata": {},
     "output_type": "execute_result"
    },
    {
     "data": {
      "text/plain": [
       "<matplotlib.collections.PathCollection at 0x7fc89f4e93c8>"
      ]
     },
     "execution_count": 22,
     "metadata": {},
     "output_type": "execute_result"
    },
    {
     "data": {
      "text/plain": [
       "Text(0.5, 1.0, 'Train Data')"
      ]
     },
     "execution_count": 22,
     "metadata": {},
     "output_type": "execute_result"
    },
    {
     "data": {
      "text/plain": [
       "Text(0.5, 0, 'x_0')"
      ]
     },
     "execution_count": 22,
     "metadata": {},
     "output_type": "execute_result"
    },
    {
     "data": {
      "text/plain": [
       "Text(0, 0.5, 'x_1')"
      ]
     },
     "execution_count": 22,
     "metadata": {},
     "output_type": "execute_result"
    },
    {
     "data": {
      "text/plain": [
       "<matplotlib.collections.PathCollection at 0x7fc89f5a4160>"
      ]
     },
     "execution_count": 22,
     "metadata": {},
     "output_type": "execute_result"
    },
    {
     "data": {
      "text/plain": [
       "Text(0.5, 1.0, 'Test Data')"
      ]
     },
     "execution_count": 22,
     "metadata": {},
     "output_type": "execute_result"
    },
    {
     "data": {
      "text/plain": [
       "Text(0.5, 0, 'x_0')"
      ]
     },
     "execution_count": 22,
     "metadata": {},
     "output_type": "execute_result"
    },
    {
     "data": {
      "text/plain": [
       "Text(0, 0.5, 'x_1')"
      ]
     },
     "execution_count": 22,
     "metadata": {},
     "output_type": "execute_result"
    },
    {
     "data": {
      "text/plain": [
       "<matplotlib.axes._subplots.AxesSubplot at 0x7fc89f510668>"
      ]
     },
     "execution_count": 22,
     "metadata": {},
     "output_type": "execute_result"
    },
    {
     "data": {
      "text/plain": [
       "Text(0.5, 1.0, 'Test')"
      ]
     },
     "execution_count": 22,
     "metadata": {},
     "output_type": "execute_result"
    },
    {
     "data": {
      "text/plain": [
       "Text(0.5, 15.0, 'Predicted')"
      ]
     },
     "execution_count": 22,
     "metadata": {},
     "output_type": "execute_result"
    },
    {
     "data": {
      "text/plain": [
       "Text(455.608695652174, 0.5, 'Actual')"
      ]
     },
     "execution_count": 22,
     "metadata": {},
     "output_type": "execute_result"
    },
    {
     "data": {
      "text/plain": [
       "<matplotlib.axes._subplots.AxesSubplot at 0x7fc89f537be0>"
      ]
     },
     "execution_count": 22,
     "metadata": {},
     "output_type": "execute_result"
    },
    {
     "data": {
      "text/plain": [
       "Text(0.5, 1.0, 'Train')"
      ]
     },
     "execution_count": 22,
     "metadata": {},
     "output_type": "execute_result"
    },
    {
     "data": {
      "text/plain": [
       "Text(0.5, 15.0, 'Predicted')"
      ]
     },
     "execution_count": 22,
     "metadata": {},
     "output_type": "execute_result"
    },
    {
     "data": {
      "text/plain": [
       "Text(666.913043478261, 0.5, 'Actual')"
      ]
     },
     "execution_count": 22,
     "metadata": {},
     "output_type": "execute_result"
    },
    {
     "name": "stdout",
     "output_type": "stream",
     "text": [
      "[[3573   77]\n",
      " [  50 3600]]\n",
      "Train Accuracy : 0.98 \n",
      "Test Accuracy : 0.69 \n"
     ]
    },
    {
     "data": {
      "image/png": "[encoded data removed]",
      "text/plain": [
       "<Figure size 432x288 with 6 Axes>"
      ]
     },
     "metadata": {
      "needs_background": "light"
     },
     "output_type": "display_data"
    }
   ],
   "source": [
    "# print and plot metrics for the best one\n",
    "from sklearn.metrics import confusion_matrix\n",
    "bench.fit(x_train, y_train)\n",
    "bench.score(x_test, y_test)\n",
    "clf = bench._sorted[0]\n",
    "fig, axs = plt.subplots(nrows = 1, ncols = 4);\n",
    "fig.subplots_adjust(right = 2);\n",
    "x_plot = reduce_dimensions(x_train, fit = True)\n",
    "axs[0].scatter(x_plot[:, 0], x_plot[:,1], c = y_train);\n",
    "axs[0].set_title('Train Data');\n",
    "axs[0].set_xlabel('x_0');\n",
    "axs[0].set_ylabel('x_1');\n",
    "x_plot = reduce_dimensions(x_test)\n",
    "axs[1].scatter(x_plot[:, 0], x_plot[:,1], c = y_test);\n",
    "axs[1].set_title('Test Data');\n",
    "axs[1].set_xlabel('x_0');\n",
    "axs[1].set_ylabel('x_1');\n",
    "test_cnf_matrix = confusion_matrix(y_test, clf.predict(x_test))\n",
    "sns.heatmap(test_cnf_matrix, ax = axs[2], vmin = 0);\n",
    "axs[2].set_title('Test');\n",
    "axs[2].set_xlabel('Predicted');\n",
    "axs[2].set_ylabel('Actual');\n",
    "train_cnf_matrix = confusion_matrix(y_train, clf.predict(x_train))\n",
    "sns.heatmap(train_cnf_matrix, ax = axs[3], vmin = 0);\n",
    "axs[3].set_title('Train');\n",
    "axs[3].set_xlabel('Predicted');\n",
    "axs[3].set_ylabel('Actual');\n",
    "print(train_cnf_matrix)\n",
    "print('Train Accuracy : %.2f ' % clf.score(x_train, y_train))\n",
    "print('Test Accuracy : %.2f ' % clf.score(x_test, y_test))"
   ]
  },
  {
   "cell_type": "code",
   "execution_count": 23,
   "metadata": {},
   "outputs": [],
   "source": [
    "clf = ensemble.RandomForestClassifier(n_estimators=100, min_impurity_decrease=0, min_samples_leaf=1, random_state=42)"
   ]
  },
  {
   "cell_type": "code",
   "execution_count": 24,
   "metadata": {},
   "outputs": [
    {
     "data": {
      "text/plain": [
       "RandomForestClassifier(bootstrap=True, class_weight=None, criterion='gini',\n",
       "            max_depth=None, max_features='auto', max_leaf_nodes=None,\n",
       "            min_impurity_decrease=0, min_impurity_split=None,\n",
       "            min_samples_leaf=1, min_samples_split=2,\n",
       "            min_weight_fraction_leaf=0.0, n_estimators=100, n_jobs=None,\n",
       "            oob_score=False, random_state=42, verbose=0, warm_start=False)"
      ]
     },
     "execution_count": 24,
     "metadata": {},
     "output_type": "execute_result"
    },
    {
     "data": {
      "text/plain": [
       "<matplotlib.colorbar.Colorbar at 0x7fc89f38c3c8>"
      ]
     },
     "execution_count": 24,
     "metadata": {},
     "output_type": "execute_result"
    },
    {
     "data": {
      "text/plain": [
       "Text(0.5, 1.0, 'Points with true label 0 ')"
      ]
     },
     "execution_count": 24,
     "metadata": {},
     "output_type": "execute_result"
    },
    {
     "data": {
      "text/plain": [
       "<matplotlib.colorbar.Colorbar at 0x7fc89f33c470>"
      ]
     },
     "execution_count": 24,
     "metadata": {},
     "output_type": "execute_result"
    },
    {
     "data": {
      "text/plain": [
       "Text(0.5, 1.0, 'Points with true label 1 ')"
      ]
     },
     "execution_count": 24,
     "metadata": {},
     "output_type": "execute_result"
    },
    {
     "data": {
      "image/png": "[encoded data removed]",
      "text/plain": [
       "<Figure size 432x288 with 4 Axes>"
      ]
     },
     "metadata": {
      "needs_background": "light"
     },
     "output_type": "display_data"
    }
   ],
   "source": [
    "# plot both labels separately and our predictions on them\n",
    "fig, axs = plt.subplots(nrows = 1, ncols = 2)\n",
    "x_plot_train = reduce_dimensions(x_train, fit=True)\n",
    "y_plot_train = y_train\n",
    "x_plot_test = reduce_dimensions(x_test)\n",
    "y_plot_test = y_test\n",
    "clf.fit(x_plot_train,y_plot_train)\n",
    "x_plot = x_plot_test\n",
    "y_plot = y_plot_test\n",
    "y_pred = clf.predict(x_plot)\n",
    "fig.subplots_adjust(right = 2)\n",
    "labeled_0 = x_plot[y_plot == 0]\n",
    "scatter = axs[0].scatter(labeled_0[:,0], labeled_0[:, 1], c = y_pred[y_plot ==  0], )\n",
    "fig.colorbar(scatter, ax = axs[0])\n",
    "axs[0].set_title('Points with true label 0 ')\n",
    "labeled_0_acc = (y_pred == 0) == (y_plot == 0).sum() / len(y_pred)\n",
    "# print('Accuracy for true label 0 : %.3f' % labeled_0_acc)\n",
    "labeled_1 = x_plot[y_plot == 1]\n",
    "scatter = axs[1].scatter(labeled_1[:,0], labeled_1[:, 1], c = y_pred[y_plot == 1] )\n",
    "fig.colorbar(scatter, ax = axs[1])\n",
    "axs[1].set_title('Points with true label 1 ')"
   ]
  },
  {
   "cell_type": "code",
   "execution_count": 25,
   "metadata": {},
   "outputs": [
    {
     "data": {
      "text/plain": [
       "array([ True, False,  True, ...,  True, False,  True])"
      ]
     },
     "execution_count": 25,
     "metadata": {},
     "output_type": "execute_result"
    }
   ],
   "source": [
    "y_pred == 0"
   ]
  },
  {
   "cell_type": "code",
   "execution_count": 26,
   "metadata": {},
   "outputs": [
    {
     "data": {
      "text/plain": [
       "RandomForestClassifier(bootstrap=True, class_weight=None, criterion='gini',\n",
       "            max_depth=None, max_features='auto', max_leaf_nodes=None,\n",
       "            min_impurity_decrease=0, min_impurity_split=None,\n",
       "            min_samples_leaf=1, min_samples_split=2,\n",
       "            min_weight_fraction_leaf=0.0, n_estimators=100, n_jobs=None,\n",
       "            oob_score=False, random_state=42, verbose=0, warm_start=False)"
      ]
     },
     "execution_count": 26,
     "metadata": {},
     "output_type": "execute_result"
    },
    {
     "name": "stdout",
     "output_type": "stream",
     "text": [
      "====Correct samples =====\n"
     ]
    },
    {
     "data": {
      "text/html": [
       "<div>\n",
       "<style scoped>\n",
       "    .dataframe tbody tr th:only-of-type {\n",
       "        vertical-align: middle;\n",
       "    }\n",
       "\n",
       "    .dataframe tbody tr th {\n",
       "        vertical-align: top;\n",
       "    }\n",
       "\n",
       "    .dataframe thead th {\n",
       "        text-align: right;\n",
       "    }\n",
       "</style>\n",
       "<table border=\"1\" class=\"dataframe\">\n",
       "  <thead>\n",
       "    <tr style=\"text-align: right;\">\n",
       "      <th></th>\n",
       "      <th>category</th>\n",
       "      <th>rating</th>\n",
       "      <th>reviews</th>\n",
       "      <th>size</th>\n",
       "      <th>installs</th>\n",
       "      <th>type</th>\n",
       "      <th>price</th>\n",
       "      <th>content_rating</th>\n",
       "      <th>genres</th>\n",
       "      <th>version</th>\n",
       "      <th>android_version</th>\n",
       "      <th>price_rounded</th>\n",
       "      <th>last_updated_days</th>\n",
       "      <th>last_updated_year</th>\n",
       "      <th>last_updated_day</th>\n",
       "      <th>last_updated_month_sin</th>\n",
       "      <th>last_updated_month_cos</th>\n",
       "      <th>name_wc</th>\n",
       "      <th>predicted</th>\n",
       "      <th>true</th>\n",
       "    </tr>\n",
       "  </thead>\n",
       "  <tbody>\n",
       "    <tr>\n",
       "      <th>0</th>\n",
       "      <td>1.268938</td>\n",
       "      <td>0.659024</td>\n",
       "      <td>-0.256307</td>\n",
       "      <td>-0.058277</td>\n",
       "      <td>-0.438838</td>\n",
       "      <td>1.331340</td>\n",
       "      <td>0.317727</td>\n",
       "      <td>0.798335</td>\n",
       "      <td>NaN</td>\n",
       "      <td>NaN</td>\n",
       "      <td>NaN</td>\n",
       "      <td>NaN</td>\n",
       "      <td>NaN</td>\n",
       "      <td>NaN</td>\n",
       "      <td>NaN</td>\n",
       "      <td>NaN</td>\n",
       "      <td>NaN</td>\n",
       "      <td>NaN</td>\n",
       "      <td>0.0</td>\n",
       "      <td>0.0</td>\n",
       "    </tr>\n",
       "    <tr>\n",
       "      <th>1</th>\n",
       "      <td>0.135316</td>\n",
       "      <td>-1.747843</td>\n",
       "      <td>3.901567</td>\n",
       "      <td>0.604669</td>\n",
       "      <td>-0.438838</td>\n",
       "      <td>0.815504</td>\n",
       "      <td>-1.857060</td>\n",
       "      <td>-0.973228</td>\n",
       "      <td>NaN</td>\n",
       "      <td>NaN</td>\n",
       "      <td>NaN</td>\n",
       "      <td>NaN</td>\n",
       "      <td>NaN</td>\n",
       "      <td>NaN</td>\n",
       "      <td>NaN</td>\n",
       "      <td>NaN</td>\n",
       "      <td>NaN</td>\n",
       "      <td>NaN</td>\n",
       "      <td>0.0</td>\n",
       "      <td>0.0</td>\n",
       "    </tr>\n",
       "    <tr>\n",
       "      <th>2</th>\n",
       "      <td>-0.006386</td>\n",
       "      <td>-0.425917</td>\n",
       "      <td>-0.256307</td>\n",
       "      <td>-0.058277</td>\n",
       "      <td>-0.438838</td>\n",
       "      <td>-0.363548</td>\n",
       "      <td>-1.857060</td>\n",
       "      <td>0.798335</td>\n",
       "      <td>NaN</td>\n",
       "      <td>NaN</td>\n",
       "      <td>NaN</td>\n",
       "      <td>NaN</td>\n",
       "      <td>NaN</td>\n",
       "      <td>NaN</td>\n",
       "      <td>NaN</td>\n",
       "      <td>NaN</td>\n",
       "      <td>NaN</td>\n",
       "      <td>NaN</td>\n",
       "      <td>0.0</td>\n",
       "      <td>0.0</td>\n",
       "    </tr>\n",
       "    <tr>\n",
       "      <th>3</th>\n",
       "      <td>0.985532</td>\n",
       "      <td>-1.823022</td>\n",
       "      <td>-0.256307</td>\n",
       "      <td>-0.058277</td>\n",
       "      <td>-0.438838</td>\n",
       "      <td>1.183958</td>\n",
       "      <td>-1.857060</td>\n",
       "      <td>-0.973228</td>\n",
       "      <td>NaN</td>\n",
       "      <td>NaN</td>\n",
       "      <td>NaN</td>\n",
       "      <td>NaN</td>\n",
       "      <td>NaN</td>\n",
       "      <td>NaN</td>\n",
       "      <td>NaN</td>\n",
       "      <td>NaN</td>\n",
       "      <td>NaN</td>\n",
       "      <td>NaN</td>\n",
       "      <td>0.0</td>\n",
       "      <td>0.0</td>\n",
       "    </tr>\n",
       "    <tr>\n",
       "      <th>4</th>\n",
       "      <td>-0.006386</td>\n",
       "      <td>0.886593</td>\n",
       "      <td>-0.256307</td>\n",
       "      <td>-0.058277</td>\n",
       "      <td>0.890974</td>\n",
       "      <td>0.520741</td>\n",
       "      <td>0.317727</td>\n",
       "      <td>0.798335</td>\n",
       "      <td>NaN</td>\n",
       "      <td>NaN</td>\n",
       "      <td>NaN</td>\n",
       "      <td>NaN</td>\n",
       "      <td>NaN</td>\n",
       "      <td>NaN</td>\n",
       "      <td>NaN</td>\n",
       "      <td>NaN</td>\n",
       "      <td>NaN</td>\n",
       "      <td>NaN</td>\n",
       "      <td>1.0</td>\n",
       "      <td>1.0</td>\n",
       "    </tr>\n",
       "  </tbody>\n",
       "</table>\n",
       "</div>"
      ],
      "text/plain": [
       "   category    rating   reviews      size  installs      type     price  \\\n",
       "0  1.268938  0.659024 -0.256307 -0.058277 -0.438838  1.331340  0.317727   \n",
       "1  0.135316 -1.747843  3.901567  0.604669 -0.438838  0.815504 -1.857060   \n",
       "2 -0.006386 -0.425917 -0.256307 -0.058277 -0.438838 -0.363548 -1.857060   \n",
       "3  0.985532 -1.823022 -0.256307 -0.058277 -0.438838  1.183958 -1.857060   \n",
       "4 -0.006386  0.886593 -0.256307 -0.058277  0.890974  0.520741  0.317727   \n",
       "\n",
       "   content_rating  genres  version  android_version  price_rounded  \\\n",
       "0        0.798335     NaN      NaN              NaN            NaN   \n",
       "1       -0.973228     NaN      NaN              NaN            NaN   \n",
       "2        0.798335     NaN      NaN              NaN            NaN   \n",
       "3       -0.973228     NaN      NaN              NaN            NaN   \n",
       "4        0.798335     NaN      NaN              NaN            NaN   \n",
       "\n",
       "   last_updated_days  last_updated_year  last_updated_day  \\\n",
       "0                NaN                NaN               NaN   \n",
       "1                NaN                NaN               NaN   \n",
       "2                NaN                NaN               NaN   \n",
       "3                NaN                NaN               NaN   \n",
       "4                NaN                NaN               NaN   \n",
       "\n",
       "   last_updated_month_sin  last_updated_month_cos  name_wc  predicted  true  \n",
       "0                     NaN                     NaN      NaN        0.0   0.0  \n",
       "1                     NaN                     NaN      NaN        0.0   0.0  \n",
       "2                     NaN                     NaN      NaN        0.0   0.0  \n",
       "3                     NaN                     NaN      NaN        0.0   0.0  \n",
       "4                     NaN                     NaN      NaN        1.0   1.0  "
      ]
     },
     "execution_count": 26,
     "metadata": {},
     "output_type": "execute_result"
    },
    {
     "name": "stdout",
     "output_type": "stream",
     "text": [
      "====Incorrect samples =====\n"
     ]
    },
    {
     "data": {
      "text/html": [
       "<div>\n",
       "<style scoped>\n",
       "    .dataframe tbody tr th:only-of-type {\n",
       "        vertical-align: middle;\n",
       "    }\n",
       "\n",
       "    .dataframe tbody tr th {\n",
       "        vertical-align: top;\n",
       "    }\n",
       "\n",
       "    .dataframe thead th {\n",
       "        text-align: right;\n",
       "    }\n",
       "</style>\n",
       "<table border=\"1\" class=\"dataframe\">\n",
       "  <thead>\n",
       "    <tr style=\"text-align: right;\">\n",
       "      <th></th>\n",
       "      <th>category</th>\n",
       "      <th>rating</th>\n",
       "      <th>reviews</th>\n",
       "      <th>size</th>\n",
       "      <th>installs</th>\n",
       "      <th>type</th>\n",
       "      <th>price</th>\n",
       "      <th>content_rating</th>\n",
       "      <th>genres</th>\n",
       "      <th>version</th>\n",
       "      <th>android_version</th>\n",
       "      <th>price_rounded</th>\n",
       "      <th>last_updated_days</th>\n",
       "      <th>last_updated_year</th>\n",
       "      <th>last_updated_day</th>\n",
       "      <th>last_updated_month_sin</th>\n",
       "      <th>last_updated_month_cos</th>\n",
       "      <th>name_wc</th>\n",
       "      <th>predicted</th>\n",
       "      <th>true</th>\n",
       "    </tr>\n",
       "  </thead>\n",
       "  <tbody>\n",
       "    <tr>\n",
       "      <th>0</th>\n",
       "      <td>1.127235</td>\n",
       "      <td>-0.450932</td>\n",
       "      <td>-0.256307</td>\n",
       "      <td>-0.058277</td>\n",
       "      <td>-0.438838</td>\n",
       "      <td>1.257649</td>\n",
       "      <td>0.317727</td>\n",
       "      <td>-0.189299</td>\n",
       "      <td>NaN</td>\n",
       "      <td>NaN</td>\n",
       "      <td>NaN</td>\n",
       "      <td>NaN</td>\n",
       "      <td>NaN</td>\n",
       "      <td>NaN</td>\n",
       "      <td>NaN</td>\n",
       "      <td>NaN</td>\n",
       "      <td>NaN</td>\n",
       "      <td>NaN</td>\n",
       "      <td>1.0</td>\n",
       "      <td>0.0</td>\n",
       "    </tr>\n",
       "    <tr>\n",
       "      <th>1</th>\n",
       "      <td>-0.006386</td>\n",
       "      <td>1.113741</td>\n",
       "      <td>-0.256307</td>\n",
       "      <td>-0.058277</td>\n",
       "      <td>2.220785</td>\n",
       "      <td>0.520741</td>\n",
       "      <td>1.405121</td>\n",
       "      <td>-0.189299</td>\n",
       "      <td>NaN</td>\n",
       "      <td>NaN</td>\n",
       "      <td>NaN</td>\n",
       "      <td>NaN</td>\n",
       "      <td>NaN</td>\n",
       "      <td>NaN</td>\n",
       "      <td>NaN</td>\n",
       "      <td>NaN</td>\n",
       "      <td>NaN</td>\n",
       "      <td>NaN</td>\n",
       "      <td>1.0</td>\n",
       "      <td>0.0</td>\n",
       "    </tr>\n",
       "    <tr>\n",
       "      <th>2</th>\n",
       "      <td>0.702127</td>\n",
       "      <td>0.796019</td>\n",
       "      <td>-0.256307</td>\n",
       "      <td>-0.058277</td>\n",
       "      <td>-0.438838</td>\n",
       "      <td>0.004906</td>\n",
       "      <td>0.317727</td>\n",
       "      <td>0.798335</td>\n",
       "      <td>NaN</td>\n",
       "      <td>NaN</td>\n",
       "      <td>NaN</td>\n",
       "      <td>NaN</td>\n",
       "      <td>NaN</td>\n",
       "      <td>NaN</td>\n",
       "      <td>NaN</td>\n",
       "      <td>NaN</td>\n",
       "      <td>NaN</td>\n",
       "      <td>NaN</td>\n",
       "      <td>1.0</td>\n",
       "      <td>0.0</td>\n",
       "    </tr>\n",
       "    <tr>\n",
       "      <th>3</th>\n",
       "      <td>-1.706818</td>\n",
       "      <td>0.279741</td>\n",
       "      <td>-0.256307</td>\n",
       "      <td>-0.058277</td>\n",
       "      <td>-0.438838</td>\n",
       "      <td>-1.321528</td>\n",
       "      <td>0.317727</td>\n",
       "      <td>-0.189299</td>\n",
       "      <td>NaN</td>\n",
       "      <td>NaN</td>\n",
       "      <td>NaN</td>\n",
       "      <td>NaN</td>\n",
       "      <td>NaN</td>\n",
       "      <td>NaN</td>\n",
       "      <td>NaN</td>\n",
       "      <td>NaN</td>\n",
       "      <td>NaN</td>\n",
       "      <td>NaN</td>\n",
       "      <td>1.0</td>\n",
       "      <td>0.0</td>\n",
       "    </tr>\n",
       "    <tr>\n",
       "      <th>4</th>\n",
       "      <td>-0.289792</td>\n",
       "      <td>0.382795</td>\n",
       "      <td>-0.256307</td>\n",
       "      <td>-0.058277</td>\n",
       "      <td>-0.438838</td>\n",
       "      <td>-0.584620</td>\n",
       "      <td>0.317727</td>\n",
       "      <td>1.150836</td>\n",
       "      <td>NaN</td>\n",
       "      <td>NaN</td>\n",
       "      <td>NaN</td>\n",
       "      <td>NaN</td>\n",
       "      <td>NaN</td>\n",
       "      <td>NaN</td>\n",
       "      <td>NaN</td>\n",
       "      <td>NaN</td>\n",
       "      <td>NaN</td>\n",
       "      <td>NaN</td>\n",
       "      <td>0.0</td>\n",
       "      <td>1.0</td>\n",
       "    </tr>\n",
       "  </tbody>\n",
       "</table>\n",
       "</div>"
      ],
      "text/plain": [
       "   category    rating   reviews      size  installs      type     price  \\\n",
       "0  1.127235 -0.450932 -0.256307 -0.058277 -0.438838  1.257649  0.317727   \n",
       "1 -0.006386  1.113741 -0.256307 -0.058277  2.220785  0.520741  1.405121   \n",
       "2  0.702127  0.796019 -0.256307 -0.058277 -0.438838  0.004906  0.317727   \n",
       "3 -1.706818  0.279741 -0.256307 -0.058277 -0.438838 -1.321528  0.317727   \n",
       "4 -0.289792  0.382795 -0.256307 -0.058277 -0.438838 -0.584620  0.317727   \n",
       "\n",
       "   content_rating  genres  version  android_version  price_rounded  \\\n",
       "0       -0.189299     NaN      NaN              NaN            NaN   \n",
       "1       -0.189299     NaN      NaN              NaN            NaN   \n",
       "2        0.798335     NaN      NaN              NaN            NaN   \n",
       "3       -0.189299     NaN      NaN              NaN            NaN   \n",
       "4        1.150836     NaN      NaN              NaN            NaN   \n",
       "\n",
       "   last_updated_days  last_updated_year  last_updated_day  \\\n",
       "0                NaN                NaN               NaN   \n",
       "1                NaN                NaN               NaN   \n",
       "2                NaN                NaN               NaN   \n",
       "3                NaN                NaN               NaN   \n",
       "4                NaN                NaN               NaN   \n",
       "\n",
       "   last_updated_month_sin  last_updated_month_cos  name_wc  predicted  true  \n",
       "0                     NaN                     NaN      NaN        1.0   0.0  \n",
       "1                     NaN                     NaN      NaN        1.0   0.0  \n",
       "2                     NaN                     NaN      NaN        1.0   0.0  \n",
       "3                     NaN                     NaN      NaN        1.0   0.0  \n",
       "4                     NaN                     NaN      NaN        0.0   1.0  "
      ]
     },
     "execution_count": 26,
     "metadata": {},
     "output_type": "execute_result"
    }
   ],
   "source": [
    "# print some correctly and incorrectly labeled data\n",
    "from random import randint\n",
    "clf.fit(x_train, y_train)\n",
    "y_pred = clf.predict(x_test)\n",
    "# correct = x_test[y_pred == y_test]\n",
    "# incorrect = x_test[~(y_pred == y_test)]\n",
    "\n",
    "columns = df.columns.values\n",
    "def get_samples(x, y_true, y_pred, sample_type = 'correct', count = 5):\n",
    "    mask = (y_pred == y_true)\n",
    "    if sample_type == 'incorrect':\n",
    "        mask = ~mask\n",
    "    x = x[mask]\n",
    "    y_pred = y_pred[mask]\n",
    "    y_true = y_true[mask]\n",
    "    df = pd.DataFrame(columns=[*columns , 'predicted', 'true'])\n",
    "    if len(x) == 0:\n",
    "        return df\n",
    "    for _ in range(count):\n",
    "        idx = randint(0, len(x)) \n",
    "        dct = {}\n",
    "        dct['predicted'] = y_pred[idx]\n",
    "        dct['true'] = y_true[idx]\n",
    "        for i in range(x.shape[1]):\n",
    "            dct[df.columns.values[i]] = x[idx][i]\n",
    "        df = df.append(dct,\n",
    "                       ignore_index=True)\n",
    "    return df\n",
    "\n",
    "print(\"====Correct samples =====\")\n",
    "get_samples(x_test, y_test, y_pred, sample_type='correct') \n",
    "print(\"====Incorrect samples =====\")\n",
    "get_samples(x_test, y_test, y_pred, sample_type='incorrect') "
   ]
  },
  {
   "cell_type": "code",
   "execution_count": null,
   "metadata": {},
   "outputs": [],
   "source": [
    "# Visualisation of the decision tree created by the algorithm, for fun and insight\n",
    "import graphviz\n",
    "from sklearn.tree import export_graphviz\n",
    "clf = Model(tree.DecisionTreeClassifier(max_depth = 5))\n",
    "clf.compute_scores((x_train, y_train), (x_test, y_test))\n",
    "clf.model.tree_.max_depth\n",
    "dot_data = export_graphviz(clf.model,\n",
    "                           out_file=None,\n",
    "                           feature_names=pre_features,\n",
    "                           class_names=['fair', 'excellent'],\n",
    "                           filled=True,\n",
    "                           rounded=True)\n",
    "graph = graphviz.Source(dot_data)\n",
    "graph"
   ]
  },
  {
   "cell_type": "markdown",
   "metadata": {},
   "source": [
    "# Neural network model"
   ]
  },
  {
   "cell_type": "code",
   "execution_count": 28,
   "metadata": {},
   "outputs": [
    {
     "name": "stderr",
     "output_type": "stream",
     "text": [
      "Using TensorFlow backend.\n"
     ]
    },
    {
     "name": "stdout",
     "output_type": "stream",
     "text": [
      "WARNING:tensorflow:From /usr/local/lib/python3.6/dist-packages/tensorflow/python/framework/op_def_library.py:263: colocate_with (from tensorflow.python.framework.ops) is deprecated and will be removed in a future version.\n",
      "Instructions for updating:\n",
      "Colocations handled automatically by placer.\n",
      "WARNING:tensorflow:From /usr/local/lib/python3.6/dist-packages/keras/backend/tensorflow_backend.py:3445: calling dropout (from tensorflow.python.ops.nn_ops) with keep_prob is deprecated and will be removed in a future version.\n",
      "Instructions for updating:\n",
      "Please use `rate` instead of `keep_prob`. Rate should be set to `rate = 1 - keep_prob`.\n",
      "_________________________________________________________________\n",
      "Layer (type)                 Output Shape              Param #   \n",
      "=================================================================\n",
      "dense_1 (Dense)              (None, 512)               4608      \n",
      "_________________________________________________________________\n",
      "batch_normalization_1 (Batch (None, 512)               2048      \n",
      "_________________________________________________________________\n",
      "dropout_1 (Dropout)          (None, 512)               0         \n",
      "_________________________________________________________________\n",
      "dense_2 (Dense)              (None, 1024)              525312    \n",
      "_________________________________________________________________\n",
      "dropout_2 (Dropout)          (None, 1024)              0         \n",
      "_________________________________________________________________\n",
      "dense_3 (Dense)              (None, 512)               524800    \n",
      "_________________________________________________________________\n",
      "dropout_3 (Dropout)          (None, 512)               0         \n",
      "_________________________________________________________________\n",
      "dense_4 (Dense)              (None, 256)               131328    \n",
      "_________________________________________________________________\n",
      "dense_5 (Dense)              (None, 2)                 514       \n",
      "=================================================================\n",
      "Total params: 1,188,610\n",
      "Trainable params: 1,187,586\n",
      "Non-trainable params: 1,024\n",
      "_________________________________________________________________\n"
     ]
    }
   ],
   "source": [
    "import keras\n",
    "from keras import layers\n",
    "\n",
    "num_classes = 2\n",
    "input_shape = x_train.shape[1]\n",
    "model = keras.Sequential()\n",
    "model.add(layers.Dense(512, activation='relu', input_shape=(input_shape,)))\n",
    "model.add(layers.BatchNormalization())\n",
    "model.add(layers.Dropout(0.2))\n",
    "model.add(layers.Dense(1024, activation='relu'))\n",
    "# model.add(layers.BatchNormalization(input_shape=(input_shape,)))\n",
    "model.add(layers.Dropout(0.2))\n",
    "model.add(layers.Dense(512, activation = 'relu'))\n",
    "model.add(layers.Dropout(0.2))\n",
    "model.add(layers.Dense(256, activation = 'relu'))\n",
    "model.add(layers.Dense(num_classes, activation='softmax'))\n",
    "\n",
    "model.summary()"
   ]
  },
  {
   "cell_type": "code",
   "execution_count": 29,
   "metadata": {},
   "outputs": [],
   "source": [
    "model.compile(loss='categorical_crossentropy',\n",
    "            optimizer='rmsprop',\n",
    "            metrics=['accuracy'])"
   ]
  },
  {
   "cell_type": "code",
   "execution_count": 30,
   "metadata": {},
   "outputs": [
    {
     "name": "stdout",
     "output_type": "stream",
     "text": [
      "WARNING:tensorflow:From /usr/local/lib/python3.6/dist-packages/tensorflow/python/ops/math_ops.py:3066: to_int32 (from tensorflow.python.ops.math_ops) is deprecated and will be removed in a future version.\n",
      "Instructions for updating:\n",
      "Use tf.cast instead.\n",
      "Epoch 1/20\n",
      "7300/7300 [==============================] - 1s 132us/step - loss: 1.8238 - acc: 0.5488\n",
      "Epoch 2/20\n",
      "7300/7300 [==============================] - 0s 68us/step - loss: 0.6049 - acc: 0.6715\n",
      "Epoch 3/20\n",
      "7300/7300 [==============================] - 1s 88us/step - loss: 0.6160 - acc: 0.6579\n",
      "Epoch 4/20\n",
      "7300/7300 [==============================] - 0s 67us/step - loss: 0.6012 - acc: 0.6690\n",
      "Epoch 5/20\n",
      "7300/7300 [==============================] - 1s 83us/step - loss: 0.6130 - acc: 0.6545\n",
      "Epoch 6/20\n",
      "7300/7300 [==============================] - 1s 110us/step - loss: 0.6023 - acc: 0.6729\n",
      "Epoch 7/20\n",
      "7300/7300 [==============================] - 1s 109us/step - loss: 0.5990 - acc: 0.6692\n",
      "Epoch 8/20\n",
      "7300/7300 [==============================] - 1s 89us/step - loss: 0.5941 - acc: 0.6788\n",
      "Epoch 9/20\n",
      "7300/7300 [==============================] - 0s 67us/step - loss: 0.5988 - acc: 0.6777\n",
      "Epoch 10/20\n",
      "7300/7300 [==============================] - 1s 70us/step - loss: 0.5921 - acc: 0.6764\n",
      "Epoch 11/20\n",
      "7300/7300 [==============================] - 1s 71us/step - loss: 0.5805 - acc: 0.6874\n",
      "Epoch 12/20\n",
      "7300/7300 [==============================] - 1s 69us/step - loss: 0.5948 - acc: 0.6764\n",
      "Epoch 13/20\n",
      "7300/7300 [==============================] - 1s 70us/step - loss: 0.5837 - acc: 0.6877\n",
      "Epoch 14/20\n",
      "7300/7300 [==============================] - 0s 65us/step - loss: 0.5859 - acc: 0.6848\n",
      "Epoch 15/20\n",
      "7300/7300 [==============================] - 1s 70us/step - loss: 0.5730 - acc: 0.6956\n",
      "Epoch 16/20\n",
      "7300/7300 [==============================] - 0s 66us/step - loss: 0.5803 - acc: 0.6912\n",
      "Epoch 17/20\n",
      "7300/7300 [==============================] - 0s 65us/step - loss: 0.5777 - acc: 0.6948\n",
      "Epoch 18/20\n",
      "7300/7300 [==============================] - 0s 65us/step - loss: 0.5691 - acc: 0.7022\n",
      "Epoch 19/20\n",
      "7300/7300 [==============================] - 0s 66us/step - loss: 0.5700 - acc: 0.6963\n",
      "Epoch 20/20\n",
      "7300/7300 [==============================] - 1s 71us/step - loss: 0.5684 - acc: 0.6955\n"
     ]
    }
   ],
   "source": [
    "from keras.utils import to_categorical\n",
    "no_epochs = 20\n",
    "batch_size = 1024\n",
    "history = model.fit(x_train, to_categorical(y_train), batch_size = batch_size, epochs = no_epochs )"
   ]
  },
  {
   "cell_type": "code",
   "execution_count": 31,
   "metadata": {},
   "outputs": [
    {
     "name": "stdout",
     "output_type": "stream",
     "text": [
      "1422/1422 [==============================] - 0s 96us/step\n"
     ]
    },
    {
     "data": {
      "text/plain": [
       "[0.6302140753312788, 0.6427566808151964]"
      ]
     },
     "execution_count": 31,
     "metadata": {},
     "output_type": "execute_result"
    }
   ],
   "source": [
    "model.evaluate(x_test, to_categorical(y_test))"
   ]
  },
  {
   "cell_type": "code",
   "execution_count": null,
   "metadata": {},
   "outputs": [],
   "source": [
    "# df = pd.DataFrame({'epochs':history.epoch, 'loss': history.history['loss'], \n",
    "#                    'validation_loss': history.history['val_loss']\n",
    "                  })\n",
    "g = sns.pointplot(x=\"epochs\", y=\"loss\", data=df, fit_reg=False, color = 'yellow')\n",
    "# g = sns.pointplot(x=\"epochs\", y=\"validation_loss\", data=df, fit_reg=False, color='red')"
   ]
  },
  {
   "cell_type": "raw",
   "metadata": {},
   "source": [
    "import seaborn as sns\n",
    "df = pd.DataFrame({'epochs':history.epoch, 'accuracy': history.history['acc']\n",
    "#                    , 'validation_accuracy': history.history['val_acc']\n",
    "                  })\n",
    "g = sns.pointplot(x=\"epochs\", y=\"accuracy\", data=df, fit_reg=False)\n",
    "# g = sns.pointplot(x=\"epochs\", y=\"validation_accuracy\", data=df, fit_reg=False, color='green')"
   ]
  },
  {
   "cell_type": "markdown",
   "metadata": {},
   "source": [
    "# Model voting "
   ]
  },
  {
   "cell_type": "code",
   "execution_count": 115,
   "metadata": {},
   "outputs": [
    {
     "data": {
      "text/plain": [
       "VotingClassifier(estimators=[('svc', SVC(C=1.0, cache_size=200, class_weight=None, coef0=0.0,\n",
       "  decision_function_shape='ovr', degree=3, gamma='auto_deprecated',\n",
       "  kernel='rbf', max_iter=-1, probability=True, random_state=42,\n",
       "  shrinking=True, tol=0.001, verbose=False)), ('rf', RandomForestClassifier(bootstrap=True,...ki',\n",
       "           metric_params=None, n_jobs=None, n_neighbors=2, p=2,\n",
       "           weights='uniform'))],\n",
       "         flatten_transform=None, n_jobs=-1, voting='soft',\n",
       "         weights=[112, 89, 1])"
      ]
     },
     "execution_count": 115,
     "metadata": {},
     "output_type": "execute_result"
    },
    {
     "name": "stdout",
     "output_type": "stream",
     "text": [
      "accuracy: 0.7116736990154712 [112, 89, 1]\n",
      "predictions: Counter({0.0: 819, 1.0: 603})\n"
     ]
    }
   ],
   "source": [
    "from sklearn.ensemble import VotingClassifier\n",
    "from collections import Counter\n",
    "estimators = [\n",
    "    ('svc', svm.SVC(kernel ='rbf', random_state=42, probability=True)),\n",
    "    ('rf', ensemble.RandomForestClassifier(n_estimators=100, min_impurity_decrease=0, min_samples_leaf=1, random_state=42)),\n",
    "    ('knn', neighbors.KNeighborsClassifier(n_neighbors=2))\n",
    "]\n",
    "weights = [112, 89, 1]\n",
    "voting_classifier = VotingClassifier(estimators=estimators, voting='soft', weights=weights, n_jobs=-1)\n",
    "voting_classifier.fit(x_train, y_train)\n",
    "confidence = voting_classifier.score(x_test, y_test)\n",
    "predictions = voting_classifier.predict(x_test)\n",
    "print('accuracy: %s %s' % (confidence, weights))\n",
    "print('predictions:', Counter(predictions))\n",
    "\n"
   ]
  }
 ],
 "metadata": {
  "kernelspec": {
   "display_name": "Python 3",
   "language": "python",
   "name": "python3"
  },
  "language_info": {
   "codemirror_mode": {
    "name": "ipython",
    "version": 3
   },
   "file_extension": ".py",
   "mimetype": "text/x-python",
   "name": "python",
   "nbconvert_exporter": "python",
   "pygments_lexer": "ipython3",
   "version": "3.6.8"
  }
 },
 "nbformat": 4,
 "nbformat_minor": 2
}
